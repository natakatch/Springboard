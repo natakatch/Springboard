{
 "cells": [
  {
   "cell_type": "markdown",
   "metadata": {},
   "source": [
    "CAPSTONE TWO."
   ]
  },
  {
   "cell_type": "markdown",
   "metadata": {},
   "source": [
    "# 4. Pre-processing and Training Data Development"
   ]
  },
  {
   "cell_type": "markdown",
   "metadata": {},
   "source": [
    "## 4.1 Introduction"
   ]
  },
  {
   "cell_type": "markdown",
   "metadata": {},
   "source": [
    "In this chapter we continue working on creating ML model to predict whether a borrower will pay off a loan using the historical LendingClub data.\n",
    "\n",
    "On our previous steps we alredy created the clean dataset: \n",
    "\n",
    " * drop features with mising values\n",
    " * removed features with low variance\n",
    " * drop highly correlated features\n",
    " * convert categorical features to numeric\n",
    " * drop categorical features with many levels and constants\n",
    " \n",
    " Afre data cleaning and wrangling we reduced the number of our features from initial 151 to 60\n",
    " \n",
    " \n",
    " Then we used Recursive feature elimination algorithm to select optimal features.\n",
    " "
   ]
  },
  {
   "cell_type": "markdown",
   "metadata": {},
   "source": [
    "## 4.2 Imports"
   ]
  },
  {
   "cell_type": "code",
   "execution_count": 1,
   "metadata": {},
   "outputs": [],
   "source": [
    "import pandas as pd\n",
    "import numpy as np\n",
    "import os\n",
    "import matplotlib.pyplot as plt\n",
    "import seaborn as sns\n",
    "from sklearn.decomposition import PCA\n",
    "from sklearn.preprocessing import scale\n",
    "\n",
    "from scipy import stats\n",
    "# random enables us to generate random numbers\n",
    "import random\n",
    "\n",
    "from sklearn.ensemble import RandomForestClassifier\n",
    "from sklearn.feature_selection import RFECV\n",
    "from sklearn.model_selection import StratifiedKFold\n",
    "\n"
   ]
  },
  {
   "cell_type": "markdown",
   "metadata": {},
   "source": [
    "## 4.3 Load the data"
   ]
  },
  {
   "cell_type": "code",
   "execution_count": 2,
   "metadata": {},
   "outputs": [],
   "source": [
    "acc = pd.read_csv('accept_3_2.csv')"
   ]
  },
  {
   "cell_type": "markdown",
   "metadata": {},
   "source": [
    "#### Features before we use Recursive features elimination :"
   ]
  },
  {
   "cell_type": "code",
   "execution_count": 3,
   "metadata": {},
   "outputs": [
    {
     "data": {
      "text/plain": [
       "(1023608, 60)"
      ]
     },
     "execution_count": 3,
     "metadata": {},
     "output_type": "execute_result"
    }
   ],
   "source": [
    "acc.shape"
   ]
  },
  {
   "cell_type": "code",
   "execution_count": 4,
   "metadata": {},
   "outputs": [
    {
     "data": {
      "text/plain": [
       "Index(['term', 'grade', 'sub_grade', 'emp_length', 'home_ownership',\n",
       "       'verification_status', 'loan_status', 'purpose', 'addr_state',\n",
       "       'debt_settlement_flag', 'loan_amnt', 'int_rate', 'annual_inc', 'dti',\n",
       "       'delinq_2yrs', 'fico_range_low', 'inq_last_6mths', 'open_acc',\n",
       "       'pub_rec', 'revol_bal', 'revol_util', 'total_acc', 'total_pymnt',\n",
       "       'total_rec_int', 'total_rec_late_fee', 'recoveries', 'last_pymnt_amnt',\n",
       "       'last_fico_range_high', 'last_fico_range_low', 'tot_coll_amt',\n",
       "       'tot_cur_bal', 'total_rev_hi_lim', 'acc_open_past_24mths',\n",
       "       'avg_cur_bal', 'bc_open_to_buy', 'bc_util', 'delinq_amnt',\n",
       "       'mo_sin_old_il_acct', 'mo_sin_old_rev_tl_op', 'mo_sin_rcnt_rev_tl_op',\n",
       "       'mo_sin_rcnt_tl', 'mort_acc', 'mths_since_recent_bc',\n",
       "       'mths_since_recent_inq', 'num_accts_ever_120_pd', 'num_actv_bc_tl',\n",
       "       'num_actv_rev_tl', 'num_bc_sats', 'num_bc_tl', 'num_il_tl',\n",
       "       'num_op_rev_tl', 'num_rev_accts', 'num_tl_90g_dpd_24m',\n",
       "       'num_tl_op_past_12m', 'pct_tl_nvr_dlq', 'percent_bc_gt_75',\n",
       "       'pub_rec_bankruptcies', 'tax_liens', 'total_bc_limit', 'year'],\n",
       "      dtype='object')"
      ]
     },
     "execution_count": 4,
     "metadata": {},
     "output_type": "execute_result"
    }
   ],
   "source": [
    "acc.columns"
   ]
  },
  {
   "cell_type": "markdown",
   "metadata": {},
   "source": [
    "## 4.4. Features Elimination \n",
    "(see CAPSTONE TWO. 3. Exploratory Data Analysis (EDA))"
   ]
  },
  {
   "cell_type": "markdown",
   "metadata": {},
   "source": [
    "We used Recursive feature elimination algorithm to select optimal features.\n",
    "\n",
    "To apply Recursive feature elimination algorithm with Cross-Validation \n",
    "\n",
    "\n",
    "    * we created dummy features for object type features \n",
    "    * standardized the magnitude of numeric features using a scaler\n",
    "    "
   ]
  },
  {
   "cell_type": "markdown",
   "metadata": {},
   "source": [
    "We saved the result datasets in .csv file"
   ]
  },
  {
   "cell_type": "markdown",
   "metadata": {},
   "source": [
    "### Result fo the first 1,000 records - 70 optimal features:"
   ]
  },
  {
   "cell_type": "code",
   "execution_count": 5,
   "metadata": {},
   "outputs": [],
   "source": [
    "X = pd.read_csv('accept_3_x.csv')"
   ]
  },
  {
   "cell_type": "code",
   "execution_count": 6,
   "metadata": {},
   "outputs": [
    {
     "data": {
      "text/plain": [
       "(1000, 70)"
      ]
     },
     "execution_count": 6,
     "metadata": {},
     "output_type": "execute_result"
    }
   ],
   "source": [
    "X.shape"
   ]
  },
  {
   "cell_type": "code",
   "execution_count": 7,
   "metadata": {},
   "outputs": [
    {
     "data": {
      "text/plain": [
       "Index(['term', 'emp_length', 'loan_amnt', 'int_rate', 'annual_inc', 'dti',\n",
       "       'delinq_2yrs', 'fico_range_low', 'inq_last_6mths', 'open_acc',\n",
       "       'pub_rec', 'revol_bal', 'revol_util', 'total_acc', 'total_pymnt',\n",
       "       'total_rec_int', 'total_rec_late_fee', 'recoveries', 'last_pymnt_amnt',\n",
       "       'last_fico_range_high', 'last_fico_range_low', 'tot_coll_amt',\n",
       "       'tot_cur_bal', 'total_rev_hi_lim', 'acc_open_past_24mths',\n",
       "       'avg_cur_bal', 'bc_open_to_buy', 'bc_util', 'mo_sin_old_il_acct',\n",
       "       'mo_sin_old_rev_tl_op', 'mo_sin_rcnt_rev_tl_op', 'mo_sin_rcnt_tl',\n",
       "       'mort_acc', 'mths_since_recent_bc', 'mths_since_recent_inq',\n",
       "       'num_accts_ever_120_pd', 'num_actv_bc_tl', 'num_actv_rev_tl',\n",
       "       'num_bc_sats', 'num_bc_tl', 'num_il_tl', 'num_op_rev_tl',\n",
       "       'num_rev_accts', 'num_tl_op_past_12m', 'pct_tl_nvr_dlq',\n",
       "       'percent_bc_gt_75', 'pub_rec_bankruptcies', 'total_bc_limit', 'grade_A',\n",
       "       'grade_B', 'grade_D', 'grade_E', 'sub_grade_B5', 'sub_grade_D3',\n",
       "       'home_ownership_MORTGAGE', 'home_ownership_OWN', 'home_ownership_RENT',\n",
       "       'verification_status_Not Verified',\n",
       "       'verification_status_Source Verified', 'verification_status_Verified',\n",
       "       'purpose_debt_consolidation', 'purpose_home_improvement',\n",
       "       'purpose_small_business', 'addr_state_AL', 'addr_state_MO',\n",
       "       'addr_state_NJ', 'addr_state_NY', 'addr_state_TX',\n",
       "       'debt_settlement_flag_N', 'debt_settlement_flag_Y'],\n",
       "      dtype='object')"
      ]
     },
     "execution_count": 7,
     "metadata": {},
     "output_type": "execute_result"
    }
   ],
   "source": [
    "X.columns"
   ]
  },
  {
   "cell_type": "markdown",
   "metadata": {},
   "source": [
    "#### target \"loan status\"  values (Fully paid = 1, Charged off = 0)"
   ]
  },
  {
   "cell_type": "code",
   "execution_count": 8,
   "metadata": {},
   "outputs": [],
   "source": [
    "target =  pd.read_csv('accept_3_target.csv')"
   ]
  },
  {
   "cell_type": "markdown",
   "metadata": {},
   "source": [
    "### Result for the 1,000 randomly seleced records  - following 9 optimal features:"
   ]
  },
  {
   "cell_type": "code",
   "execution_count": 9,
   "metadata": {},
   "outputs": [],
   "source": [
    "XR = pd.read_csv('accept_3_xr.csv')"
   ]
  },
  {
   "cell_type": "code",
   "execution_count": 10,
   "metadata": {},
   "outputs": [
    {
     "data": {
      "text/plain": [
       "(1000, 9)"
      ]
     },
     "execution_count": 10,
     "metadata": {},
     "output_type": "execute_result"
    }
   ],
   "source": [
    "XR.shape"
   ]
  },
  {
   "cell_type": "code",
   "execution_count": 11,
   "metadata": {},
   "outputs": [
    {
     "data": {
      "text/html": [
       "<div>\n",
       "<style scoped>\n",
       "    .dataframe tbody tr th:only-of-type {\n",
       "        vertical-align: middle;\n",
       "    }\n",
       "\n",
       "    .dataframe tbody tr th {\n",
       "        vertical-align: top;\n",
       "    }\n",
       "\n",
       "    .dataframe thead th {\n",
       "        text-align: right;\n",
       "    }\n",
       "</style>\n",
       "<table border=\"1\" class=\"dataframe\">\n",
       "  <thead>\n",
       "    <tr style=\"text-align: right;\">\n",
       "      <th></th>\n",
       "      <th>loan_amnt</th>\n",
       "      <th>int_rate</th>\n",
       "      <th>total_pymnt</th>\n",
       "      <th>total_rec_int</th>\n",
       "      <th>recoveries</th>\n",
       "      <th>last_pymnt_amnt</th>\n",
       "      <th>last_fico_range_high</th>\n",
       "      <th>last_fico_range_low</th>\n",
       "      <th>debt_settlement_flag_N</th>\n",
       "    </tr>\n",
       "  </thead>\n",
       "  <tbody>\n",
       "    <tr>\n",
       "      <th>0</th>\n",
       "      <td>7400.0</td>\n",
       "      <td>19.99</td>\n",
       "      <td>7469.850167</td>\n",
       "      <td>69.85</td>\n",
       "      <td>0.00</td>\n",
       "      <td>7486.29</td>\n",
       "      <td>704.0</td>\n",
       "      <td>700.0</td>\n",
       "      <td>1</td>\n",
       "    </tr>\n",
       "    <tr>\n",
       "      <th>1</th>\n",
       "      <td>18250.0</td>\n",
       "      <td>11.14</td>\n",
       "      <td>20012.516107</td>\n",
       "      <td>1762.52</td>\n",
       "      <td>0.00</td>\n",
       "      <td>13426.96</td>\n",
       "      <td>724.0</td>\n",
       "      <td>720.0</td>\n",
       "      <td>1</td>\n",
       "    </tr>\n",
       "    <tr>\n",
       "      <th>2</th>\n",
       "      <td>28800.0</td>\n",
       "      <td>27.34</td>\n",
       "      <td>8892.990000</td>\n",
       "      <td>1865.21</td>\n",
       "      <td>6324.64</td>\n",
       "      <td>885.28</td>\n",
       "      <td>584.0</td>\n",
       "      <td>580.0</td>\n",
       "      <td>1</td>\n",
       "    </tr>\n",
       "    <tr>\n",
       "      <th>3</th>\n",
       "      <td>6200.0</td>\n",
       "      <td>5.93</td>\n",
       "      <td>6781.057552</td>\n",
       "      <td>581.06</td>\n",
       "      <td>0.00</td>\n",
       "      <td>188.40</td>\n",
       "      <td>659.0</td>\n",
       "      <td>655.0</td>\n",
       "      <td>1</td>\n",
       "    </tr>\n",
       "    <tr>\n",
       "      <th>4</th>\n",
       "      <td>6500.0</td>\n",
       "      <td>15.31</td>\n",
       "      <td>6182.160000</td>\n",
       "      <td>1498.68</td>\n",
       "      <td>214.84</td>\n",
       "      <td>535.64</td>\n",
       "      <td>514.0</td>\n",
       "      <td>510.0</td>\n",
       "      <td>1</td>\n",
       "    </tr>\n",
       "  </tbody>\n",
       "</table>\n",
       "</div>"
      ],
      "text/plain": [
       "   loan_amnt  int_rate   total_pymnt  total_rec_int  recoveries  \\\n",
       "0     7400.0     19.99   7469.850167          69.85        0.00   \n",
       "1    18250.0     11.14  20012.516107        1762.52        0.00   \n",
       "2    28800.0     27.34   8892.990000        1865.21     6324.64   \n",
       "3     6200.0      5.93   6781.057552         581.06        0.00   \n",
       "4     6500.0     15.31   6182.160000        1498.68      214.84   \n",
       "\n",
       "   last_pymnt_amnt  last_fico_range_high  last_fico_range_low  \\\n",
       "0          7486.29                 704.0                700.0   \n",
       "1         13426.96                 724.0                720.0   \n",
       "2           885.28                 584.0                580.0   \n",
       "3           188.40                 659.0                655.0   \n",
       "4           535.64                 514.0                510.0   \n",
       "\n",
       "   debt_settlement_flag_N  \n",
       "0                       1  \n",
       "1                       1  \n",
       "2                       1  \n",
       "3                       1  \n",
       "4                       1  "
      ]
     },
     "execution_count": 11,
     "metadata": {},
     "output_type": "execute_result"
    }
   ],
   "source": [
    "XR.head()"
   ]
  },
  {
   "cell_type": "markdown",
   "metadata": {},
   "source": [
    "#### targetR  \"loan status\"  values (Fully paid = 1, Charged off = 0)"
   ]
  },
  {
   "cell_type": "code",
   "execution_count": 12,
   "metadata": {},
   "outputs": [],
   "source": [
    "targetR =  pd.read_csv('accept_3_target_r.csv')"
   ]
  },
  {
   "cell_type": "markdown",
   "metadata": {},
   "source": [
    "## 4.5 Split into testing and training datasets \n"
   ]
  },
  {
   "cell_type": "code",
   "execution_count": 13,
   "metadata": {},
   "outputs": [],
   "source": [
    "from sklearn.model_selection import train_test_split\n",
    "\n",
    "X_train, X_test, y_train, y_test = train_test_split(X, target, test_size=0.25)\n"
   ]
  },
  {
   "cell_type": "code",
   "execution_count": 14,
   "metadata": {},
   "outputs": [],
   "source": [
    "XR_train, XR_test, yr_train, yr_test = train_test_split(XR, targetR, test_size=0.25)\n"
   ]
  },
  {
   "cell_type": "markdown",
   "metadata": {},
   "source": [
    "\n"
   ]
  }
 ],
 "metadata": {
  "kernelspec": {
   "display_name": "Python 3",
   "language": "python",
   "name": "python3"
  },
  "language_info": {
   "codemirror_mode": {
    "name": "ipython",
    "version": 3
   },
   "file_extension": ".py",
   "mimetype": "text/x-python",
   "name": "python",
   "nbconvert_exporter": "python",
   "pygments_lexer": "ipython3",
   "version": "3.8.3"
  }
 },
 "nbformat": 4,
 "nbformat_minor": 4
}
