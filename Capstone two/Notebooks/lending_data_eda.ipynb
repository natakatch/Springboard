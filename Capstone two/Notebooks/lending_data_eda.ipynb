{
 "cells": [
  {
   "cell_type": "markdown",
   "metadata": {},
   "source": [
    "CAPSTONE TWO."
   ]
  },
  {
   "cell_type": "markdown",
   "metadata": {},
   "source": [
    "# 3. Exploratory Data Analysis (EDA)"
   ]
  },
  {
   "cell_type": "markdown",
   "metadata": {},
   "source": [
    "## 3.1 Introduction"
   ]
  },
  {
   "cell_type": "markdown",
   "metadata": {},
   "source": [
    "For this project we examine 22.7M approved loans from the LendingClub historical data to analyse which characteristics affect the most the loans approval, the loan terms and conditions, loan classification by grade. \n",
    "We will also review if the approved loans were paid off (fully paid and charged off)\n",
    "\n",
    "Our goal based on our findings to predict will a borrower will pay off a loan.\n"
   ]
  },
  {
   "cell_type": "markdown",
   "metadata": {},
   "source": [
    "## 3.2 Imports"
   ]
  },
  {
   "cell_type": "code",
   "execution_count": 1,
   "metadata": {},
   "outputs": [],
   "source": [
    "import pandas as pd\n",
    "import numpy as np\n",
    "import os\n",
    "import matplotlib.pyplot as plt\n",
    "import seaborn as sns\n",
    "from sklearn.decomposition import PCA\n",
    "from sklearn.preprocessing import scale\n",
    "\n",
    "from scipy import stats\n",
    "# random enables us to generate random numbers\n",
    "import random"
   ]
  },
  {
   "cell_type": "markdown",
   "metadata": {},
   "source": [
    "## 3.3 Load the data"
   ]
  },
  {
   "cell_type": "code",
   "execution_count": 2,
   "metadata": {},
   "outputs": [
    {
     "name": "stderr",
     "output_type": "stream",
     "text": [
      "C:\\Users\\Natalia Katchoura\\anaconda3\\lib\\site-packages\\IPython\\core\\interactiveshell.py:3071: DtypeWarning: Columns (0,44) have mixed types.Specify dtype option on import or set low_memory=False.\n",
      "  has_raised = await self.run_ast_nodes(code_ast.body, cell_name,\n"
     ]
    }
   ],
   "source": [
    "accepted = pd.read_csv('accepted_data_cleaned.csv')"
   ]
  },
  {
   "cell_type": "code",
   "execution_count": 3,
   "metadata": {},
   "outputs": [
    {
     "data": {
      "text/html": [
       "<div>\n",
       "<style scoped>\n",
       "    .dataframe tbody tr th:only-of-type {\n",
       "        vertical-align: middle;\n",
       "    }\n",
       "\n",
       "    .dataframe tbody tr th {\n",
       "        vertical-align: top;\n",
       "    }\n",
       "\n",
       "    .dataframe thead th {\n",
       "        text-align: right;\n",
       "    }\n",
       "</style>\n",
       "<table border=\"1\" class=\"dataframe\">\n",
       "  <thead>\n",
       "    <tr style=\"text-align: right;\">\n",
       "      <th></th>\n",
       "      <th>id</th>\n",
       "      <th>loan_amnt</th>\n",
       "      <th>funded_amnt</th>\n",
       "      <th>funded_amnt_inv</th>\n",
       "      <th>term</th>\n",
       "      <th>int_rate</th>\n",
       "      <th>installment</th>\n",
       "      <th>grade</th>\n",
       "      <th>sub_grade</th>\n",
       "      <th>emp_length</th>\n",
       "      <th>...</th>\n",
       "      <th>pct_tl_nvr_dlq</th>\n",
       "      <th>percent_bc_gt_75</th>\n",
       "      <th>pub_rec_bankruptcies</th>\n",
       "      <th>tax_liens</th>\n",
       "      <th>tot_hi_cred_lim</th>\n",
       "      <th>total_bal_ex_mort</th>\n",
       "      <th>total_bc_limit</th>\n",
       "      <th>total_il_high_credit_limit</th>\n",
       "      <th>hardship_flag</th>\n",
       "      <th>debt_settlement_flag</th>\n",
       "    </tr>\n",
       "  </thead>\n",
       "  <tbody>\n",
       "    <tr>\n",
       "      <th>0</th>\n",
       "      <td>68407277</td>\n",
       "      <td>3600.0</td>\n",
       "      <td>3600.0</td>\n",
       "      <td>3600.0</td>\n",
       "      <td>36 months</td>\n",
       "      <td>13.99</td>\n",
       "      <td>123.03</td>\n",
       "      <td>C</td>\n",
       "      <td>C4</td>\n",
       "      <td>10+ years</td>\n",
       "      <td>...</td>\n",
       "      <td>76.9</td>\n",
       "      <td>0.0</td>\n",
       "      <td>0.0</td>\n",
       "      <td>0.0</td>\n",
       "      <td>178050.0</td>\n",
       "      <td>7746.0</td>\n",
       "      <td>2400.0</td>\n",
       "      <td>13734.0</td>\n",
       "      <td>N</td>\n",
       "      <td>N</td>\n",
       "    </tr>\n",
       "    <tr>\n",
       "      <th>1</th>\n",
       "      <td>68355089</td>\n",
       "      <td>24700.0</td>\n",
       "      <td>24700.0</td>\n",
       "      <td>24700.0</td>\n",
       "      <td>36 months</td>\n",
       "      <td>11.99</td>\n",
       "      <td>820.28</td>\n",
       "      <td>C</td>\n",
       "      <td>C1</td>\n",
       "      <td>10+ years</td>\n",
       "      <td>...</td>\n",
       "      <td>97.4</td>\n",
       "      <td>7.7</td>\n",
       "      <td>0.0</td>\n",
       "      <td>0.0</td>\n",
       "      <td>314017.0</td>\n",
       "      <td>39475.0</td>\n",
       "      <td>79300.0</td>\n",
       "      <td>24667.0</td>\n",
       "      <td>N</td>\n",
       "      <td>N</td>\n",
       "    </tr>\n",
       "    <tr>\n",
       "      <th>2</th>\n",
       "      <td>68341763</td>\n",
       "      <td>20000.0</td>\n",
       "      <td>20000.0</td>\n",
       "      <td>20000.0</td>\n",
       "      <td>60 months</td>\n",
       "      <td>10.78</td>\n",
       "      <td>432.66</td>\n",
       "      <td>B</td>\n",
       "      <td>B4</td>\n",
       "      <td>10+ years</td>\n",
       "      <td>...</td>\n",
       "      <td>100.0</td>\n",
       "      <td>50.0</td>\n",
       "      <td>0.0</td>\n",
       "      <td>0.0</td>\n",
       "      <td>218418.0</td>\n",
       "      <td>18696.0</td>\n",
       "      <td>6200.0</td>\n",
       "      <td>14877.0</td>\n",
       "      <td>N</td>\n",
       "      <td>N</td>\n",
       "    </tr>\n",
       "    <tr>\n",
       "      <th>3</th>\n",
       "      <td>66310712</td>\n",
       "      <td>35000.0</td>\n",
       "      <td>35000.0</td>\n",
       "      <td>35000.0</td>\n",
       "      <td>60 months</td>\n",
       "      <td>14.85</td>\n",
       "      <td>829.90</td>\n",
       "      <td>C</td>\n",
       "      <td>C5</td>\n",
       "      <td>10+ years</td>\n",
       "      <td>...</td>\n",
       "      <td>100.0</td>\n",
       "      <td>0.0</td>\n",
       "      <td>0.0</td>\n",
       "      <td>0.0</td>\n",
       "      <td>381215.0</td>\n",
       "      <td>52226.0</td>\n",
       "      <td>62500.0</td>\n",
       "      <td>18000.0</td>\n",
       "      <td>N</td>\n",
       "      <td>N</td>\n",
       "    </tr>\n",
       "    <tr>\n",
       "      <th>4</th>\n",
       "      <td>68476807</td>\n",
       "      <td>10400.0</td>\n",
       "      <td>10400.0</td>\n",
       "      <td>10400.0</td>\n",
       "      <td>60 months</td>\n",
       "      <td>22.45</td>\n",
       "      <td>289.91</td>\n",
       "      <td>F</td>\n",
       "      <td>F1</td>\n",
       "      <td>3 years</td>\n",
       "      <td>...</td>\n",
       "      <td>96.6</td>\n",
       "      <td>60.0</td>\n",
       "      <td>0.0</td>\n",
       "      <td>0.0</td>\n",
       "      <td>439570.0</td>\n",
       "      <td>95768.0</td>\n",
       "      <td>20300.0</td>\n",
       "      <td>88097.0</td>\n",
       "      <td>N</td>\n",
       "      <td>N</td>\n",
       "    </tr>\n",
       "  </tbody>\n",
       "</table>\n",
       "<p>5 rows × 108 columns</p>\n",
       "</div>"
      ],
      "text/plain": [
       "         id  loan_amnt  funded_amnt  funded_amnt_inv        term  int_rate  \\\n",
       "0  68407277     3600.0       3600.0           3600.0   36 months     13.99   \n",
       "1  68355089    24700.0      24700.0          24700.0   36 months     11.99   \n",
       "2  68341763    20000.0      20000.0          20000.0   60 months     10.78   \n",
       "3  66310712    35000.0      35000.0          35000.0   60 months     14.85   \n",
       "4  68476807    10400.0      10400.0          10400.0   60 months     22.45   \n",
       "\n",
       "   installment grade sub_grade emp_length  ... pct_tl_nvr_dlq  \\\n",
       "0       123.03     C        C4  10+ years  ...           76.9   \n",
       "1       820.28     C        C1  10+ years  ...           97.4   \n",
       "2       432.66     B        B4  10+ years  ...          100.0   \n",
       "3       829.90     C        C5  10+ years  ...          100.0   \n",
       "4       289.91     F        F1    3 years  ...           96.6   \n",
       "\n",
       "   percent_bc_gt_75 pub_rec_bankruptcies tax_liens tot_hi_cred_lim  \\\n",
       "0               0.0                  0.0       0.0        178050.0   \n",
       "1               7.7                  0.0       0.0        314017.0   \n",
       "2              50.0                  0.0       0.0        218418.0   \n",
       "3               0.0                  0.0       0.0        381215.0   \n",
       "4              60.0                  0.0       0.0        439570.0   \n",
       "\n",
       "  total_bal_ex_mort total_bc_limit total_il_high_credit_limit hardship_flag  \\\n",
       "0            7746.0         2400.0                    13734.0             N   \n",
       "1           39475.0        79300.0                    24667.0             N   \n",
       "2           18696.0         6200.0                    14877.0             N   \n",
       "3           52226.0        62500.0                    18000.0             N   \n",
       "4           95768.0        20300.0                    88097.0             N   \n",
       "\n",
       "  debt_settlement_flag  \n",
       "0                    N  \n",
       "1                    N  \n",
       "2                    N  \n",
       "3                    N  \n",
       "4                    N  \n",
       "\n",
       "[5 rows x 108 columns]"
      ]
     },
     "execution_count": 3,
     "metadata": {},
     "output_type": "execute_result"
    }
   ],
   "source": [
    "accepted.head()"
   ]
  },
  {
   "cell_type": "code",
   "execution_count": 4,
   "metadata": {},
   "outputs": [
    {
     "data": {
      "text/html": [
       "<div>\n",
       "<style scoped>\n",
       "    .dataframe tbody tr th:only-of-type {\n",
       "        vertical-align: middle;\n",
       "    }\n",
       "\n",
       "    .dataframe tbody tr th {\n",
       "        vertical-align: top;\n",
       "    }\n",
       "\n",
       "    .dataframe thead th {\n",
       "        text-align: right;\n",
       "    }\n",
       "</style>\n",
       "<table border=\"1\" class=\"dataframe\">\n",
       "  <thead>\n",
       "    <tr style=\"text-align: right;\">\n",
       "      <th></th>\n",
       "      <th>id</th>\n",
       "      <th>loan_amnt</th>\n",
       "      <th>funded_amnt</th>\n",
       "      <th>funded_amnt_inv</th>\n",
       "      <th>term</th>\n",
       "      <th>int_rate</th>\n",
       "      <th>installment</th>\n",
       "      <th>grade</th>\n",
       "      <th>sub_grade</th>\n",
       "      <th>emp_length</th>\n",
       "      <th>...</th>\n",
       "      <th>pct_tl_nvr_dlq</th>\n",
       "      <th>percent_bc_gt_75</th>\n",
       "      <th>pub_rec_bankruptcies</th>\n",
       "      <th>tax_liens</th>\n",
       "      <th>tot_hi_cred_lim</th>\n",
       "      <th>total_bal_ex_mort</th>\n",
       "      <th>total_bc_limit</th>\n",
       "      <th>total_il_high_credit_limit</th>\n",
       "      <th>hardship_flag</th>\n",
       "      <th>debt_settlement_flag</th>\n",
       "    </tr>\n",
       "  </thead>\n",
       "  <tbody>\n",
       "    <tr>\n",
       "      <th>2260696</th>\n",
       "      <td>88985880</td>\n",
       "      <td>40000.0</td>\n",
       "      <td>40000.0</td>\n",
       "      <td>40000.0</td>\n",
       "      <td>60 months</td>\n",
       "      <td>10.49</td>\n",
       "      <td>859.56</td>\n",
       "      <td>B</td>\n",
       "      <td>B3</td>\n",
       "      <td>9 years</td>\n",
       "      <td>...</td>\n",
       "      <td>75.7</td>\n",
       "      <td>50.0</td>\n",
       "      <td>0.0</td>\n",
       "      <td>0.0</td>\n",
       "      <td>55970.0</td>\n",
       "      <td>28398.0</td>\n",
       "      <td>12300.0</td>\n",
       "      <td>42670.0</td>\n",
       "      <td>N</td>\n",
       "      <td>N</td>\n",
       "    </tr>\n",
       "    <tr>\n",
       "      <th>2260697</th>\n",
       "      <td>88224441</td>\n",
       "      <td>24000.0</td>\n",
       "      <td>24000.0</td>\n",
       "      <td>24000.0</td>\n",
       "      <td>60 months</td>\n",
       "      <td>14.49</td>\n",
       "      <td>564.56</td>\n",
       "      <td>C</td>\n",
       "      <td>C4</td>\n",
       "      <td>6 years</td>\n",
       "      <td>...</td>\n",
       "      <td>96.2</td>\n",
       "      <td>40.0</td>\n",
       "      <td>1.0</td>\n",
       "      <td>0.0</td>\n",
       "      <td>84664.0</td>\n",
       "      <td>62426.0</td>\n",
       "      <td>20700.0</td>\n",
       "      <td>58764.0</td>\n",
       "      <td>N</td>\n",
       "      <td>Y</td>\n",
       "    </tr>\n",
       "    <tr>\n",
       "      <th>2260698</th>\n",
       "      <td>88215728</td>\n",
       "      <td>14000.0</td>\n",
       "      <td>14000.0</td>\n",
       "      <td>14000.0</td>\n",
       "      <td>60 months</td>\n",
       "      <td>14.49</td>\n",
       "      <td>329.33</td>\n",
       "      <td>C</td>\n",
       "      <td>C4</td>\n",
       "      <td>10+ years</td>\n",
       "      <td>...</td>\n",
       "      <td>81.8</td>\n",
       "      <td>50.0</td>\n",
       "      <td>0.0</td>\n",
       "      <td>0.0</td>\n",
       "      <td>163804.0</td>\n",
       "      <td>44215.0</td>\n",
       "      <td>9500.0</td>\n",
       "      <td>34169.0</td>\n",
       "      <td>N</td>\n",
       "      <td>N</td>\n",
       "    </tr>\n",
       "    <tr>\n",
       "      <th>2260699</th>\n",
       "      <td>Total amount funded in policy code 1: 1465324575</td>\n",
       "      <td>NaN</td>\n",
       "      <td>NaN</td>\n",
       "      <td>NaN</td>\n",
       "      <td>NaN</td>\n",
       "      <td>NaN</td>\n",
       "      <td>NaN</td>\n",
       "      <td>NaN</td>\n",
       "      <td>NaN</td>\n",
       "      <td>NaN</td>\n",
       "      <td>...</td>\n",
       "      <td>NaN</td>\n",
       "      <td>NaN</td>\n",
       "      <td>NaN</td>\n",
       "      <td>NaN</td>\n",
       "      <td>NaN</td>\n",
       "      <td>NaN</td>\n",
       "      <td>NaN</td>\n",
       "      <td>NaN</td>\n",
       "      <td>NaN</td>\n",
       "      <td>NaN</td>\n",
       "    </tr>\n",
       "    <tr>\n",
       "      <th>2260700</th>\n",
       "      <td>Total amount funded in policy code 2: 521953170</td>\n",
       "      <td>NaN</td>\n",
       "      <td>NaN</td>\n",
       "      <td>NaN</td>\n",
       "      <td>NaN</td>\n",
       "      <td>NaN</td>\n",
       "      <td>NaN</td>\n",
       "      <td>NaN</td>\n",
       "      <td>NaN</td>\n",
       "      <td>NaN</td>\n",
       "      <td>...</td>\n",
       "      <td>NaN</td>\n",
       "      <td>NaN</td>\n",
       "      <td>NaN</td>\n",
       "      <td>NaN</td>\n",
       "      <td>NaN</td>\n",
       "      <td>NaN</td>\n",
       "      <td>NaN</td>\n",
       "      <td>NaN</td>\n",
       "      <td>NaN</td>\n",
       "      <td>NaN</td>\n",
       "    </tr>\n",
       "  </tbody>\n",
       "</table>\n",
       "<p>5 rows × 108 columns</p>\n",
       "</div>"
      ],
      "text/plain": [
       "                                                       id  loan_amnt  \\\n",
       "2260696                                          88985880    40000.0   \n",
       "2260697                                          88224441    24000.0   \n",
       "2260698                                          88215728    14000.0   \n",
       "2260699  Total amount funded in policy code 1: 1465324575        NaN   \n",
       "2260700   Total amount funded in policy code 2: 521953170        NaN   \n",
       "\n",
       "         funded_amnt  funded_amnt_inv        term  int_rate  installment  \\\n",
       "2260696      40000.0          40000.0   60 months     10.49       859.56   \n",
       "2260697      24000.0          24000.0   60 months     14.49       564.56   \n",
       "2260698      14000.0          14000.0   60 months     14.49       329.33   \n",
       "2260699          NaN              NaN         NaN       NaN          NaN   \n",
       "2260700          NaN              NaN         NaN       NaN          NaN   \n",
       "\n",
       "        grade sub_grade emp_length  ... pct_tl_nvr_dlq  percent_bc_gt_75  \\\n",
       "2260696     B        B3    9 years  ...           75.7              50.0   \n",
       "2260697     C        C4    6 years  ...           96.2              40.0   \n",
       "2260698     C        C4  10+ years  ...           81.8              50.0   \n",
       "2260699   NaN       NaN        NaN  ...            NaN               NaN   \n",
       "2260700   NaN       NaN        NaN  ...            NaN               NaN   \n",
       "\n",
       "        pub_rec_bankruptcies tax_liens tot_hi_cred_lim total_bal_ex_mort  \\\n",
       "2260696                  0.0       0.0         55970.0           28398.0   \n",
       "2260697                  1.0       0.0         84664.0           62426.0   \n",
       "2260698                  0.0       0.0        163804.0           44215.0   \n",
       "2260699                  NaN       NaN             NaN               NaN   \n",
       "2260700                  NaN       NaN             NaN               NaN   \n",
       "\n",
       "        total_bc_limit total_il_high_credit_limit hardship_flag  \\\n",
       "2260696        12300.0                    42670.0             N   \n",
       "2260697        20700.0                    58764.0             N   \n",
       "2260698         9500.0                    34169.0             N   \n",
       "2260699            NaN                        NaN           NaN   \n",
       "2260700            NaN                        NaN           NaN   \n",
       "\n",
       "        debt_settlement_flag  \n",
       "2260696                    N  \n",
       "2260697                    Y  \n",
       "2260698                    N  \n",
       "2260699                  NaN  \n",
       "2260700                  NaN  \n",
       "\n",
       "[5 rows x 108 columns]"
      ]
     },
     "execution_count": 4,
     "metadata": {},
     "output_type": "execute_result"
    }
   ],
   "source": [
    "accepted.tail()"
   ]
  },
  {
   "cell_type": "markdown",
   "metadata": {},
   "source": [
    "Remove last 2 row"
   ]
  },
  {
   "cell_type": "markdown",
   "metadata": {},
   "source": [
    "Remove two last rows which have no values. "
   ]
  },
  {
   "cell_type": "code",
   "execution_count": 5,
   "metadata": {},
   "outputs": [],
   "source": [
    "accepted = accepted.drop([accepted.iloc[-2].name, accepted.iloc[-1].name])"
   ]
  },
  {
   "cell_type": "code",
   "execution_count": 6,
   "metadata": {},
   "outputs": [
    {
     "data": {
      "text/plain": [
       "(2260699, 108)"
      ]
     },
     "execution_count": 6,
     "metadata": {},
     "output_type": "execute_result"
    }
   ],
   "source": [
    "accepted.shape"
   ]
  },
  {
   "cell_type": "markdown",
   "metadata": {},
   "source": [
    "### Make a copy of the dataframe"
   ]
  },
  {
   "cell_type": "code",
   "execution_count": 7,
   "metadata": {},
   "outputs": [
    {
     "name": "stdout",
     "output_type": "stream",
     "text": [
      "<class 'pandas.core.frame.DataFrame'>\n",
      "Int64Index: 2260699 entries, 0 to 2260698\n",
      "Columns: 108 entries, id to debt_settlement_flag\n",
      "dtypes: float64(87), object(21)\n",
      "memory usage: 1.8+ GB\n"
     ]
    }
   ],
   "source": [
    "acc = accepted.copy()\n",
    "acc.info()"
   ]
  },
  {
   "cell_type": "markdown",
   "metadata": {},
   "source": [
    "# 3.4 Feature selection"
   ]
  },
  {
   "cell_type": "markdown",
   "metadata": {},
   "source": [
    "### List of all the features"
   ]
  },
  {
   "cell_type": "code",
   "execution_count": 8,
   "metadata": {},
   "outputs": [
    {
     "name": "stdout",
     "output_type": "stream",
     "text": [
      "<class 'pandas.core.frame.DataFrame'>\n",
      "Int64Index: 2260699 entries, 0 to 2260698\n",
      "Data columns (total 108 columns):\n",
      " #   Column                          Dtype  \n",
      "---  ------                          -----  \n",
      " 0   id                              object \n",
      " 1   loan_amnt                       float64\n",
      " 2   funded_amnt                     float64\n",
      " 3   funded_amnt_inv                 float64\n",
      " 4   term                            object \n",
      " 5   int_rate                        float64\n",
      " 6   installment                     float64\n",
      " 7   grade                           object \n",
      " 8   sub_grade                       object \n",
      " 9   emp_length                      object \n",
      " 10  home_ownership                  object \n",
      " 11  annual_inc                      float64\n",
      " 12  verification_status             object \n",
      " 13  issue_d                         object \n",
      " 14  loan_status                     object \n",
      " 15  pymnt_plan                      object \n",
      " 16  purpose                         object \n",
      " 17  title                           object \n",
      " 18  zip_code                        object \n",
      " 19  addr_state                      object \n",
      " 20  dti                             float64\n",
      " 21  delinq_2yrs                     float64\n",
      " 22  earliest_cr_line                object \n",
      " 23  fico_range_low                  float64\n",
      " 24  fico_range_high                 float64\n",
      " 25  inq_last_6mths                  float64\n",
      " 26  mths_since_last_delinq          float64\n",
      " 27  open_acc                        float64\n",
      " 28  pub_rec                         float64\n",
      " 29  revol_bal                       float64\n",
      " 30  revol_util                      float64\n",
      " 31  total_acc                       float64\n",
      " 32  initial_list_status             object \n",
      " 33  out_prncp                       float64\n",
      " 34  out_prncp_inv                   float64\n",
      " 35  total_pymnt                     float64\n",
      " 36  total_pymnt_inv                 float64\n",
      " 37  total_rec_prncp                 float64\n",
      " 38  total_rec_int                   float64\n",
      " 39  total_rec_late_fee              float64\n",
      " 40  recoveries                      float64\n",
      " 41  collection_recovery_fee         float64\n",
      " 42  last_pymnt_d                    object \n",
      " 43  last_pymnt_amnt                 float64\n",
      " 44  next_pymnt_d                    object \n",
      " 45  last_credit_pull_d              object \n",
      " 46  last_fico_range_high            float64\n",
      " 47  last_fico_range_low             float64\n",
      " 48  collections_12_mths_ex_med      float64\n",
      " 49  mths_since_last_major_derog     float64\n",
      " 50  policy_code                     float64\n",
      " 51  acc_now_delinq                  float64\n",
      " 52  tot_coll_amt                    float64\n",
      " 53  tot_cur_bal                     float64\n",
      " 54  open_acc_6m                     float64\n",
      " 55  open_act_il                     float64\n",
      " 56  open_il_12m                     float64\n",
      " 57  open_il_24m                     float64\n",
      " 58  mths_since_rcnt_il              float64\n",
      " 59  total_bal_il                    float64\n",
      " 60  il_util                         float64\n",
      " 61  open_rv_12m                     float64\n",
      " 62  open_rv_24m                     float64\n",
      " 63  max_bal_bc                      float64\n",
      " 64  all_util                        float64\n",
      " 65  total_rev_hi_lim                float64\n",
      " 66  inq_fi                          float64\n",
      " 67  total_cu_tl                     float64\n",
      " 68  inq_last_12m                    float64\n",
      " 69  acc_open_past_24mths            float64\n",
      " 70  avg_cur_bal                     float64\n",
      " 71  bc_open_to_buy                  float64\n",
      " 72  bc_util                         float64\n",
      " 73  chargeoff_within_12_mths        float64\n",
      " 74  delinq_amnt                     float64\n",
      " 75  mo_sin_old_il_acct              float64\n",
      " 76  mo_sin_old_rev_tl_op            float64\n",
      " 77  mo_sin_rcnt_rev_tl_op           float64\n",
      " 78  mo_sin_rcnt_tl                  float64\n",
      " 79  mort_acc                        float64\n",
      " 80  mths_since_recent_bc            float64\n",
      " 81  mths_since_recent_bc_dlq        float64\n",
      " 82  mths_since_recent_inq           float64\n",
      " 83  mths_since_recent_revol_delinq  float64\n",
      " 84  num_accts_ever_120_pd           float64\n",
      " 85  num_actv_bc_tl                  float64\n",
      " 86  num_actv_rev_tl                 float64\n",
      " 87  num_bc_sats                     float64\n",
      " 88  num_bc_tl                       float64\n",
      " 89  num_il_tl                       float64\n",
      " 90  num_op_rev_tl                   float64\n",
      " 91  num_rev_accts                   float64\n",
      " 92  num_rev_tl_bal_gt_0             float64\n",
      " 93  num_sats                        float64\n",
      " 94  num_tl_120dpd_2m                float64\n",
      " 95  num_tl_30dpd                    float64\n",
      " 96  num_tl_90g_dpd_24m              float64\n",
      " 97  num_tl_op_past_12m              float64\n",
      " 98  pct_tl_nvr_dlq                  float64\n",
      " 99  percent_bc_gt_75                float64\n",
      " 100 pub_rec_bankruptcies            float64\n",
      " 101 tax_liens                       float64\n",
      " 102 tot_hi_cred_lim                 float64\n",
      " 103 total_bal_ex_mort               float64\n",
      " 104 total_bc_limit                  float64\n",
      " 105 total_il_high_credit_limit      float64\n",
      " 106 hardship_flag                   object \n",
      " 107 debt_settlement_flag            object \n",
      "dtypes: float64(87), object(21)\n",
      "memory usage: 1.8+ GB\n"
     ]
    }
   ],
   "source": [
    "acc.info(15)"
   ]
  },
  {
   "cell_type": "markdown",
   "metadata": {},
   "source": [
    "We have 108 features: 87 - numerical and 21 categorical. Let's take a look on our features "
   ]
  },
  {
   "cell_type": "markdown",
   "metadata": {},
   "source": [
    "### Overall statistics"
   ]
  },
  {
   "cell_type": "code",
   "execution_count": 9,
   "metadata": {},
   "outputs": [
    {
     "data": {
      "text/html": [
       "<div>\n",
       "<style scoped>\n",
       "    .dataframe tbody tr th:only-of-type {\n",
       "        vertical-align: middle;\n",
       "    }\n",
       "\n",
       "    .dataframe tbody tr th {\n",
       "        vertical-align: top;\n",
       "    }\n",
       "\n",
       "    .dataframe thead th {\n",
       "        text-align: right;\n",
       "    }\n",
       "</style>\n",
       "<table border=\"1\" class=\"dataframe\">\n",
       "  <thead>\n",
       "    <tr style=\"text-align: right;\">\n",
       "      <th></th>\n",
       "      <th>count</th>\n",
       "      <th>mean</th>\n",
       "      <th>std</th>\n",
       "      <th>min</th>\n",
       "      <th>25%</th>\n",
       "      <th>50%</th>\n",
       "      <th>75%</th>\n",
       "      <th>max</th>\n",
       "    </tr>\n",
       "  </thead>\n",
       "  <tbody>\n",
       "    <tr>\n",
       "      <th>loan_amnt</th>\n",
       "      <td>2260668.0</td>\n",
       "      <td>15046.931228</td>\n",
       "      <td>9190.245488</td>\n",
       "      <td>500.00</td>\n",
       "      <td>8000.00</td>\n",
       "      <td>12900.00</td>\n",
       "      <td>20000.00</td>\n",
       "      <td>40000.00</td>\n",
       "    </tr>\n",
       "    <tr>\n",
       "      <th>funded_amnt</th>\n",
       "      <td>2260668.0</td>\n",
       "      <td>15041.664057</td>\n",
       "      <td>9188.413022</td>\n",
       "      <td>500.00</td>\n",
       "      <td>8000.00</td>\n",
       "      <td>12875.00</td>\n",
       "      <td>20000.00</td>\n",
       "      <td>40000.00</td>\n",
       "    </tr>\n",
       "    <tr>\n",
       "      <th>funded_amnt_inv</th>\n",
       "      <td>2260668.0</td>\n",
       "      <td>15023.437745</td>\n",
       "      <td>9192.331679</td>\n",
       "      <td>0.00</td>\n",
       "      <td>8000.00</td>\n",
       "      <td>12800.00</td>\n",
       "      <td>20000.00</td>\n",
       "      <td>40000.00</td>\n",
       "    </tr>\n",
       "    <tr>\n",
       "      <th>int_rate</th>\n",
       "      <td>2260668.0</td>\n",
       "      <td>13.092829</td>\n",
       "      <td>4.832138</td>\n",
       "      <td>5.31</td>\n",
       "      <td>9.49</td>\n",
       "      <td>12.62</td>\n",
       "      <td>15.99</td>\n",
       "      <td>30.99</td>\n",
       "    </tr>\n",
       "    <tr>\n",
       "      <th>installment</th>\n",
       "      <td>2260668.0</td>\n",
       "      <td>445.806823</td>\n",
       "      <td>267.173535</td>\n",
       "      <td>4.93</td>\n",
       "      <td>251.65</td>\n",
       "      <td>377.99</td>\n",
       "      <td>593.32</td>\n",
       "      <td>1719.83</td>\n",
       "    </tr>\n",
       "    <tr>\n",
       "      <th>...</th>\n",
       "      <td>...</td>\n",
       "      <td>...</td>\n",
       "      <td>...</td>\n",
       "      <td>...</td>\n",
       "      <td>...</td>\n",
       "      <td>...</td>\n",
       "      <td>...</td>\n",
       "      <td>...</td>\n",
       "    </tr>\n",
       "    <tr>\n",
       "      <th>tax_liens</th>\n",
       "      <td>2260563.0</td>\n",
       "      <td>0.046771</td>\n",
       "      <td>0.377534</td>\n",
       "      <td>0.00</td>\n",
       "      <td>0.00</td>\n",
       "      <td>0.00</td>\n",
       "      <td>0.00</td>\n",
       "      <td>85.00</td>\n",
       "    </tr>\n",
       "    <tr>\n",
       "      <th>tot_hi_cred_lim</th>\n",
       "      <td>2190392.0</td>\n",
       "      <td>178242.753744</td>\n",
       "      <td>181574.814655</td>\n",
       "      <td>0.00</td>\n",
       "      <td>50731.00</td>\n",
       "      <td>114298.50</td>\n",
       "      <td>257755.00</td>\n",
       "      <td>9999999.00</td>\n",
       "    </tr>\n",
       "    <tr>\n",
       "      <th>total_bal_ex_mort</th>\n",
       "      <td>2210638.0</td>\n",
       "      <td>51022.938462</td>\n",
       "      <td>49911.235666</td>\n",
       "      <td>0.00</td>\n",
       "      <td>20892.00</td>\n",
       "      <td>37864.00</td>\n",
       "      <td>64350.00</td>\n",
       "      <td>3408095.00</td>\n",
       "    </tr>\n",
       "    <tr>\n",
       "      <th>total_bc_limit</th>\n",
       "      <td>2210638.0</td>\n",
       "      <td>23193.768173</td>\n",
       "      <td>23006.558239</td>\n",
       "      <td>0.00</td>\n",
       "      <td>8300.00</td>\n",
       "      <td>16300.00</td>\n",
       "      <td>30300.00</td>\n",
       "      <td>1569000.00</td>\n",
       "    </tr>\n",
       "    <tr>\n",
       "      <th>total_il_high_credit_limit</th>\n",
       "      <td>2190392.0</td>\n",
       "      <td>43732.013476</td>\n",
       "      <td>45072.982191</td>\n",
       "      <td>0.00</td>\n",
       "      <td>15000.00</td>\n",
       "      <td>32696.00</td>\n",
       "      <td>58804.25</td>\n",
       "      <td>2118996.00</td>\n",
       "    </tr>\n",
       "  </tbody>\n",
       "</table>\n",
       "<p>87 rows × 8 columns</p>\n",
       "</div>"
      ],
      "text/plain": [
       "                                count           mean            std     min  \\\n",
       "loan_amnt                   2260668.0   15046.931228    9190.245488  500.00   \n",
       "funded_amnt                 2260668.0   15041.664057    9188.413022  500.00   \n",
       "funded_amnt_inv             2260668.0   15023.437745    9192.331679    0.00   \n",
       "int_rate                    2260668.0      13.092829       4.832138    5.31   \n",
       "installment                 2260668.0     445.806823     267.173535    4.93   \n",
       "...                               ...            ...            ...     ...   \n",
       "tax_liens                   2260563.0       0.046771       0.377534    0.00   \n",
       "tot_hi_cred_lim             2190392.0  178242.753744  181574.814655    0.00   \n",
       "total_bal_ex_mort           2210638.0   51022.938462   49911.235666    0.00   \n",
       "total_bc_limit              2210638.0   23193.768173   23006.558239    0.00   \n",
       "total_il_high_credit_limit  2190392.0   43732.013476   45072.982191    0.00   \n",
       "\n",
       "                                 25%        50%        75%         max  \n",
       "loan_amnt                    8000.00   12900.00   20000.00    40000.00  \n",
       "funded_amnt                  8000.00   12875.00   20000.00    40000.00  \n",
       "funded_amnt_inv              8000.00   12800.00   20000.00    40000.00  \n",
       "int_rate                        9.49      12.62      15.99       30.99  \n",
       "installment                   251.65     377.99     593.32     1719.83  \n",
       "...                              ...        ...        ...         ...  \n",
       "tax_liens                       0.00       0.00       0.00       85.00  \n",
       "tot_hi_cred_lim             50731.00  114298.50  257755.00  9999999.00  \n",
       "total_bal_ex_mort           20892.00   37864.00   64350.00  3408095.00  \n",
       "total_bc_limit               8300.00   16300.00   30300.00  1569000.00  \n",
       "total_il_high_credit_limit  15000.00   32696.00   58804.25  2118996.00  \n",
       "\n",
       "[87 rows x 8 columns]"
      ]
     },
     "execution_count": 9,
     "metadata": {},
     "output_type": "execute_result"
    }
   ],
   "source": [
    "acc.describe().T"
   ]
  },
  {
   "cell_type": "markdown",
   "metadata": {},
   "source": [
    "## 3.4.1 Target feature - loan_status"
   ]
  },
  {
   "cell_type": "markdown",
   "metadata": {},
   "source": [
    "The purpose of this project is to predict likely to be fully repaid or not.\n",
    "So let's check the target variable - loan_status"
   ]
  },
  {
   "cell_type": "markdown",
   "metadata": {},
   "source": [
    "Loan status feaure has 9 following unique values:"
   ]
  },
  {
   "cell_type": "code",
   "execution_count": 10,
   "metadata": {},
   "outputs": [
    {
     "data": {
      "text/plain": [
       "Fully Paid                                             1076751\n",
       "Current                                                 878317\n",
       "Charged Off                                             268559\n",
       "Late (31-120 days)                                       21467\n",
       "In Grace Period                                           8436\n",
       "Late (16-30 days)                                         4349\n",
       "Does not meet the credit policy. Status:Fully Paid        1988\n",
       "Does not meet the credit policy. Status:Charged Off        761\n",
       "Default                                                     40\n",
       "NaN                                                         31\n",
       "Name: loan_status, dtype: int64"
      ]
     },
     "execution_count": 10,
     "metadata": {},
     "output_type": "execute_result"
    }
   ],
   "source": [
    "acc['loan_status'].value_counts(dropna=False)"
   ]
  },
  {
   "cell_type": "markdown",
   "metadata": {},
   "source": [
    "There are a large number of current loans which are not relevant to our analysis, so we can remove all the data that are not 'Fully Paid' or 'Charged off' from the dataset."
   ]
  },
  {
   "cell_type": "code",
   "execution_count": 11,
   "metadata": {},
   "outputs": [],
   "source": [
    "acc = acc.loc[acc['loan_status'].isin(['Fully Paid','Charged Off'])]"
   ]
  },
  {
   "cell_type": "code",
   "execution_count": 12,
   "metadata": {},
   "outputs": [
    {
     "data": {
      "text/plain": [
       "(1345310, 108)"
      ]
     },
     "execution_count": 12,
     "metadata": {},
     "output_type": "execute_result"
    }
   ],
   "source": [
    "acc.shape"
   ]
  },
  {
   "cell_type": "code",
   "execution_count": 13,
   "metadata": {},
   "outputs": [
    {
     "data": {
      "text/plain": [
       "Fully Paid     1076751\n",
       "Charged Off     268559\n",
       "Name: loan_status, dtype: int64"
      ]
     },
     "execution_count": 13,
     "metadata": {},
     "output_type": "execute_result"
    }
   ],
   "source": [
    "acc['loan_status'].value_counts(dropna=False)"
   ]
  },
  {
   "cell_type": "markdown",
   "metadata": {},
   "source": [
    "The number of loans reduced to 1,345,310 in total vs. initial 2,260,699 loans\n",
    "We have 1,076,751 fully paid loan and 2,685,559 charged off loans"
   ]
  },
  {
   "cell_type": "markdown",
   "metadata": {},
   "source": [
    "## 3.4.2 Numerical features"
   ]
  },
  {
   "cell_type": "code",
   "execution_count": 14,
   "metadata": {},
   "outputs": [
    {
     "data": {
      "text/plain": [
       "array(['loan_amnt', 'funded_amnt', 'funded_amnt_inv', 'int_rate',\n",
       "       'installment', 'annual_inc', 'dti', 'delinq_2yrs',\n",
       "       'fico_range_low', 'fico_range_high', 'inq_last_6mths',\n",
       "       'mths_since_last_delinq', 'open_acc', 'pub_rec', 'revol_bal',\n",
       "       'revol_util', 'total_acc', 'out_prncp', 'out_prncp_inv',\n",
       "       'total_pymnt', 'total_pymnt_inv', 'total_rec_prncp',\n",
       "       'total_rec_int', 'total_rec_late_fee', 'recoveries',\n",
       "       'collection_recovery_fee', 'last_pymnt_amnt',\n",
       "       'last_fico_range_high', 'last_fico_range_low',\n",
       "       'collections_12_mths_ex_med', 'mths_since_last_major_derog',\n",
       "       'policy_code', 'acc_now_delinq', 'tot_coll_amt', 'tot_cur_bal',\n",
       "       'open_acc_6m', 'open_act_il', 'open_il_12m', 'open_il_24m',\n",
       "       'mths_since_rcnt_il', 'total_bal_il', 'il_util', 'open_rv_12m',\n",
       "       'open_rv_24m', 'max_bal_bc', 'all_util', 'total_rev_hi_lim',\n",
       "       'inq_fi', 'total_cu_tl', 'inq_last_12m', 'acc_open_past_24mths',\n",
       "       'avg_cur_bal', 'bc_open_to_buy', 'bc_util',\n",
       "       'chargeoff_within_12_mths', 'delinq_amnt', 'mo_sin_old_il_acct',\n",
       "       'mo_sin_old_rev_tl_op', 'mo_sin_rcnt_rev_tl_op', 'mo_sin_rcnt_tl',\n",
       "       'mort_acc', 'mths_since_recent_bc', 'mths_since_recent_bc_dlq',\n",
       "       'mths_since_recent_inq', 'mths_since_recent_revol_delinq',\n",
       "       'num_accts_ever_120_pd', 'num_actv_bc_tl', 'num_actv_rev_tl',\n",
       "       'num_bc_sats', 'num_bc_tl', 'num_il_tl', 'num_op_rev_tl',\n",
       "       'num_rev_accts', 'num_rev_tl_bal_gt_0', 'num_sats',\n",
       "       'num_tl_120dpd_2m', 'num_tl_30dpd', 'num_tl_90g_dpd_24m',\n",
       "       'num_tl_op_past_12m', 'pct_tl_nvr_dlq', 'percent_bc_gt_75',\n",
       "       'pub_rec_bankruptcies', 'tax_liens', 'tot_hi_cred_lim',\n",
       "       'total_bal_ex_mort', 'total_bc_limit',\n",
       "       'total_il_high_credit_limit'], dtype=object)"
      ]
     },
     "execution_count": 14,
     "metadata": {},
     "output_type": "execute_result"
    }
   ],
   "source": [
    "num_features = acc.select_dtypes('number').columns.values\n",
    "num_features"
   ]
  },
  {
   "cell_type": "markdown",
   "metadata": {},
   "source": [
    "### Make Pearson correlation matrix and the highly correlated features"
   ]
  },
  {
   "cell_type": "code",
   "execution_count": 15,
   "metadata": {},
   "outputs": [
    {
     "data": {
      "text/html": [
       "<div>\n",
       "<style scoped>\n",
       "    .dataframe tbody tr th:only-of-type {\n",
       "        vertical-align: middle;\n",
       "    }\n",
       "\n",
       "    .dataframe tbody tr th {\n",
       "        vertical-align: top;\n",
       "    }\n",
       "\n",
       "    .dataframe thead th {\n",
       "        text-align: right;\n",
       "    }\n",
       "</style>\n",
       "<table border=\"1\" class=\"dataframe\">\n",
       "  <thead>\n",
       "    <tr style=\"text-align: right;\">\n",
       "      <th></th>\n",
       "      <th>loan_amnt</th>\n",
       "      <th>funded_amnt</th>\n",
       "      <th>funded_amnt_inv</th>\n",
       "      <th>int_rate</th>\n",
       "      <th>installment</th>\n",
       "      <th>annual_inc</th>\n",
       "      <th>dti</th>\n",
       "      <th>delinq_2yrs</th>\n",
       "      <th>fico_range_low</th>\n",
       "      <th>fico_range_high</th>\n",
       "      <th>...</th>\n",
       "      <th>num_tl_90g_dpd_24m</th>\n",
       "      <th>num_tl_op_past_12m</th>\n",
       "      <th>pct_tl_nvr_dlq</th>\n",
       "      <th>percent_bc_gt_75</th>\n",
       "      <th>pub_rec_bankruptcies</th>\n",
       "      <th>tax_liens</th>\n",
       "      <th>tot_hi_cred_lim</th>\n",
       "      <th>total_bal_ex_mort</th>\n",
       "      <th>total_bc_limit</th>\n",
       "      <th>total_il_high_credit_limit</th>\n",
       "    </tr>\n",
       "  </thead>\n",
       "  <tbody>\n",
       "    <tr>\n",
       "      <th>loan_amnt</th>\n",
       "      <td>1.000000</td>\n",
       "      <td>0.999562</td>\n",
       "      <td>0.998567</td>\n",
       "      <td>0.141673</td>\n",
       "      <td>0.953401</td>\n",
       "      <td>0.311794</td>\n",
       "      <td>0.032057</td>\n",
       "      <td>-0.003008</td>\n",
       "      <td>0.100984</td>\n",
       "      <td>0.100983</td>\n",
       "      <td>...</td>\n",
       "      <td>-0.022199</td>\n",
       "      <td>-0.020772</td>\n",
       "      <td>0.089647</td>\n",
       "      <td>0.021673</td>\n",
       "      <td>-0.094485</td>\n",
       "      <td>0.007418</td>\n",
       "      <td>0.335855</td>\n",
       "      <td>0.276379</td>\n",
       "      <td>0.372904</td>\n",
       "      <td>0.200089</td>\n",
       "    </tr>\n",
       "    <tr>\n",
       "      <th>funded_amnt</th>\n",
       "      <td>0.999562</td>\n",
       "      <td>1.000000</td>\n",
       "      <td>0.999095</td>\n",
       "      <td>0.141773</td>\n",
       "      <td>0.954053</td>\n",
       "      <td>0.311701</td>\n",
       "      <td>0.032450</td>\n",
       "      <td>-0.002813</td>\n",
       "      <td>0.100126</td>\n",
       "      <td>0.100125</td>\n",
       "      <td>...</td>\n",
       "      <td>-0.022201</td>\n",
       "      <td>-0.020775</td>\n",
       "      <td>0.089647</td>\n",
       "      <td>0.021671</td>\n",
       "      <td>-0.094292</td>\n",
       "      <td>0.007547</td>\n",
       "      <td>0.335854</td>\n",
       "      <td>0.276378</td>\n",
       "      <td>0.372911</td>\n",
       "      <td>0.200085</td>\n",
       "    </tr>\n",
       "    <tr>\n",
       "      <th>funded_amnt_inv</th>\n",
       "      <td>0.998567</td>\n",
       "      <td>0.999095</td>\n",
       "      <td>1.000000</td>\n",
       "      <td>0.141977</td>\n",
       "      <td>0.953064</td>\n",
       "      <td>0.311398</td>\n",
       "      <td>0.033332</td>\n",
       "      <td>-0.002531</td>\n",
       "      <td>0.099091</td>\n",
       "      <td>0.099090</td>\n",
       "      <td>...</td>\n",
       "      <td>-0.022215</td>\n",
       "      <td>-0.020791</td>\n",
       "      <td>0.089661</td>\n",
       "      <td>0.021621</td>\n",
       "      <td>-0.093945</td>\n",
       "      <td>0.007777</td>\n",
       "      <td>0.335883</td>\n",
       "      <td>0.276386</td>\n",
       "      <td>0.372944</td>\n",
       "      <td>0.200089</td>\n",
       "    </tr>\n",
       "    <tr>\n",
       "      <th>int_rate</th>\n",
       "      <td>0.141673</td>\n",
       "      <td>0.141773</td>\n",
       "      <td>0.141977</td>\n",
       "      <td>1.000000</td>\n",
       "      <td>0.153916</td>\n",
       "      <td>-0.072245</td>\n",
       "      <td>0.146886</td>\n",
       "      <td>0.048311</td>\n",
       "      <td>-0.405367</td>\n",
       "      <td>-0.405364</td>\n",
       "      <td>...</td>\n",
       "      <td>0.026727</td>\n",
       "      <td>0.208287</td>\n",
       "      <td>-0.063520</td>\n",
       "      <td>0.251178</td>\n",
       "      <td>0.058906</td>\n",
       "      <td>0.011823</td>\n",
       "      <td>-0.119000</td>\n",
       "      <td>0.003641</td>\n",
       "      <td>-0.229693</td>\n",
       "      <td>-0.004198</td>\n",
       "    </tr>\n",
       "    <tr>\n",
       "      <th>installment</th>\n",
       "      <td>0.953401</td>\n",
       "      <td>0.954053</td>\n",
       "      <td>0.953064</td>\n",
       "      <td>0.153916</td>\n",
       "      <td>1.000000</td>\n",
       "      <td>0.302499</td>\n",
       "      <td>0.035796</td>\n",
       "      <td>0.006469</td>\n",
       "      <td>0.050983</td>\n",
       "      <td>0.050983</td>\n",
       "      <td>...</td>\n",
       "      <td>-0.016670</td>\n",
       "      <td>-0.000415</td>\n",
       "      <td>0.072059</td>\n",
       "      <td>0.041110</td>\n",
       "      <td>-0.086559</td>\n",
       "      <td>0.014399</td>\n",
       "      <td>0.303059</td>\n",
       "      <td>0.261025</td>\n",
       "      <td>0.340731</td>\n",
       "      <td>0.185354</td>\n",
       "    </tr>\n",
       "    <tr>\n",
       "      <th>...</th>\n",
       "      <td>...</td>\n",
       "      <td>...</td>\n",
       "      <td>...</td>\n",
       "      <td>...</td>\n",
       "      <td>...</td>\n",
       "      <td>...</td>\n",
       "      <td>...</td>\n",
       "      <td>...</td>\n",
       "      <td>...</td>\n",
       "      <td>...</td>\n",
       "      <td>...</td>\n",
       "      <td>...</td>\n",
       "      <td>...</td>\n",
       "      <td>...</td>\n",
       "      <td>...</td>\n",
       "      <td>...</td>\n",
       "      <td>...</td>\n",
       "      <td>...</td>\n",
       "      <td>...</td>\n",
       "      <td>...</td>\n",
       "      <td>...</td>\n",
       "    </tr>\n",
       "    <tr>\n",
       "      <th>tax_liens</th>\n",
       "      <td>0.007418</td>\n",
       "      <td>0.007547</td>\n",
       "      <td>0.007777</td>\n",
       "      <td>0.011823</td>\n",
       "      <td>0.014399</td>\n",
       "      <td>0.037802</td>\n",
       "      <td>-0.023050</td>\n",
       "      <td>0.011211</td>\n",
       "      <td>-0.057847</td>\n",
       "      <td>-0.057846</td>\n",
       "      <td>...</td>\n",
       "      <td>0.002163</td>\n",
       "      <td>0.016857</td>\n",
       "      <td>-0.033913</td>\n",
       "      <td>-0.018514</td>\n",
       "      <td>0.035844</td>\n",
       "      <td>1.000000</td>\n",
       "      <td>-0.001580</td>\n",
       "      <td>-0.002017</td>\n",
       "      <td>-0.024984</td>\n",
       "      <td>0.005964</td>\n",
       "    </tr>\n",
       "    <tr>\n",
       "      <th>tot_hi_cred_lim</th>\n",
       "      <td>0.335855</td>\n",
       "      <td>0.335854</td>\n",
       "      <td>0.335883</td>\n",
       "      <td>-0.119000</td>\n",
       "      <td>0.303059</td>\n",
       "      <td>0.411350</td>\n",
       "      <td>0.014400</td>\n",
       "      <td>0.058158</td>\n",
       "      <td>0.196962</td>\n",
       "      <td>0.196963</td>\n",
       "      <td>...</td>\n",
       "      <td>0.005856</td>\n",
       "      <td>0.088271</td>\n",
       "      <td>0.025665</td>\n",
       "      <td>-0.018066</td>\n",
       "      <td>-0.107866</td>\n",
       "      <td>-0.001580</td>\n",
       "      <td>1.000000</td>\n",
       "      <td>0.507678</td>\n",
       "      <td>0.397174</td>\n",
       "      <td>0.400462</td>\n",
       "    </tr>\n",
       "    <tr>\n",
       "      <th>total_bal_ex_mort</th>\n",
       "      <td>0.276379</td>\n",
       "      <td>0.276378</td>\n",
       "      <td>0.276386</td>\n",
       "      <td>0.003641</td>\n",
       "      <td>0.261025</td>\n",
       "      <td>0.316942</td>\n",
       "      <td>0.226226</td>\n",
       "      <td>0.031898</td>\n",
       "      <td>0.032837</td>\n",
       "      <td>0.032835</td>\n",
       "      <td>...</td>\n",
       "      <td>0.015697</td>\n",
       "      <td>0.119791</td>\n",
       "      <td>0.063870</td>\n",
       "      <td>0.061256</td>\n",
       "      <td>-0.078054</td>\n",
       "      <td>-0.002017</td>\n",
       "      <td>0.507678</td>\n",
       "      <td>1.000000</td>\n",
       "      <td>0.285931</td>\n",
       "      <td>0.872653</td>\n",
       "    </tr>\n",
       "    <tr>\n",
       "      <th>total_bc_limit</th>\n",
       "      <td>0.372904</td>\n",
       "      <td>0.372911</td>\n",
       "      <td>0.372944</td>\n",
       "      <td>-0.229693</td>\n",
       "      <td>0.340731</td>\n",
       "      <td>0.270171</td>\n",
       "      <td>0.026524</td>\n",
       "      <td>-0.075716</td>\n",
       "      <td>0.375054</td>\n",
       "      <td>0.375054</td>\n",
       "      <td>...</td>\n",
       "      <td>-0.058701</td>\n",
       "      <td>0.042173</td>\n",
       "      <td>0.215085</td>\n",
       "      <td>-0.215062</td>\n",
       "      <td>-0.154067</td>\n",
       "      <td>-0.024984</td>\n",
       "      <td>0.397174</td>\n",
       "      <td>0.285931</td>\n",
       "      <td>1.000000</td>\n",
       "      <td>0.117488</td>\n",
       "    </tr>\n",
       "    <tr>\n",
       "      <th>total_il_high_credit_limit</th>\n",
       "      <td>0.200089</td>\n",
       "      <td>0.200085</td>\n",
       "      <td>0.200089</td>\n",
       "      <td>-0.004198</td>\n",
       "      <td>0.185354</td>\n",
       "      <td>0.263099</td>\n",
       "      <td>0.255085</td>\n",
       "      <td>0.062097</td>\n",
       "      <td>0.063583</td>\n",
       "      <td>0.063581</td>\n",
       "      <td>...</td>\n",
       "      <td>0.033095</td>\n",
       "      <td>0.141620</td>\n",
       "      <td>0.016156</td>\n",
       "      <td>0.009940</td>\n",
       "      <td>-0.036122</td>\n",
       "      <td>0.005964</td>\n",
       "      <td>0.400462</td>\n",
       "      <td>0.872653</td>\n",
       "      <td>0.117488</td>\n",
       "      <td>1.000000</td>\n",
       "    </tr>\n",
       "  </tbody>\n",
       "</table>\n",
       "<p>87 rows × 87 columns</p>\n",
       "</div>"
      ],
      "text/plain": [
       "                            loan_amnt  funded_amnt  funded_amnt_inv  int_rate  \\\n",
       "loan_amnt                    1.000000     0.999562         0.998567  0.141673   \n",
       "funded_amnt                  0.999562     1.000000         0.999095  0.141773   \n",
       "funded_amnt_inv              0.998567     0.999095         1.000000  0.141977   \n",
       "int_rate                     0.141673     0.141773         0.141977  1.000000   \n",
       "installment                  0.953401     0.954053         0.953064  0.153916   \n",
       "...                               ...          ...              ...       ...   \n",
       "tax_liens                    0.007418     0.007547         0.007777  0.011823   \n",
       "tot_hi_cred_lim              0.335855     0.335854         0.335883 -0.119000   \n",
       "total_bal_ex_mort            0.276379     0.276378         0.276386  0.003641   \n",
       "total_bc_limit               0.372904     0.372911         0.372944 -0.229693   \n",
       "total_il_high_credit_limit   0.200089     0.200085         0.200089 -0.004198   \n",
       "\n",
       "                            installment  annual_inc       dti  delinq_2yrs  \\\n",
       "loan_amnt                      0.953401    0.311794  0.032057    -0.003008   \n",
       "funded_amnt                    0.954053    0.311701  0.032450    -0.002813   \n",
       "funded_amnt_inv                0.953064    0.311398  0.033332    -0.002531   \n",
       "int_rate                       0.153916   -0.072245  0.146886     0.048311   \n",
       "installment                    1.000000    0.302499  0.035796     0.006469   \n",
       "...                                 ...         ...       ...          ...   \n",
       "tax_liens                      0.014399    0.037802 -0.023050     0.011211   \n",
       "tot_hi_cred_lim                0.303059    0.411350  0.014400     0.058158   \n",
       "total_bal_ex_mort              0.261025    0.316942  0.226226     0.031898   \n",
       "total_bc_limit                 0.340731    0.270171  0.026524    -0.075716   \n",
       "total_il_high_credit_limit     0.185354    0.263099  0.255085     0.062097   \n",
       "\n",
       "                            fico_range_low  fico_range_high  ...  \\\n",
       "loan_amnt                         0.100984         0.100983  ...   \n",
       "funded_amnt                       0.100126         0.100125  ...   \n",
       "funded_amnt_inv                   0.099091         0.099090  ...   \n",
       "int_rate                         -0.405367        -0.405364  ...   \n",
       "installment                       0.050983         0.050983  ...   \n",
       "...                                    ...              ...  ...   \n",
       "tax_liens                        -0.057847        -0.057846  ...   \n",
       "tot_hi_cred_lim                   0.196962         0.196963  ...   \n",
       "total_bal_ex_mort                 0.032837         0.032835  ...   \n",
       "total_bc_limit                    0.375054         0.375054  ...   \n",
       "total_il_high_credit_limit        0.063583         0.063581  ...   \n",
       "\n",
       "                            num_tl_90g_dpd_24m  num_tl_op_past_12m  \\\n",
       "loan_amnt                            -0.022199           -0.020772   \n",
       "funded_amnt                          -0.022201           -0.020775   \n",
       "funded_amnt_inv                      -0.022215           -0.020791   \n",
       "int_rate                              0.026727            0.208287   \n",
       "installment                          -0.016670           -0.000415   \n",
       "...                                        ...                 ...   \n",
       "tax_liens                             0.002163            0.016857   \n",
       "tot_hi_cred_lim                       0.005856            0.088271   \n",
       "total_bal_ex_mort                     0.015697            0.119791   \n",
       "total_bc_limit                       -0.058701            0.042173   \n",
       "total_il_high_credit_limit            0.033095            0.141620   \n",
       "\n",
       "                            pct_tl_nvr_dlq  percent_bc_gt_75  \\\n",
       "loan_amnt                         0.089647          0.021673   \n",
       "funded_amnt                       0.089647          0.021671   \n",
       "funded_amnt_inv                   0.089661          0.021621   \n",
       "int_rate                         -0.063520          0.251178   \n",
       "installment                       0.072059          0.041110   \n",
       "...                                    ...               ...   \n",
       "tax_liens                        -0.033913         -0.018514   \n",
       "tot_hi_cred_lim                   0.025665         -0.018066   \n",
       "total_bal_ex_mort                 0.063870          0.061256   \n",
       "total_bc_limit                    0.215085         -0.215062   \n",
       "total_il_high_credit_limit        0.016156          0.009940   \n",
       "\n",
       "                            pub_rec_bankruptcies  tax_liens  tot_hi_cred_lim  \\\n",
       "loan_amnt                              -0.094485   0.007418         0.335855   \n",
       "funded_amnt                            -0.094292   0.007547         0.335854   \n",
       "funded_amnt_inv                        -0.093945   0.007777         0.335883   \n",
       "int_rate                                0.058906   0.011823        -0.119000   \n",
       "installment                            -0.086559   0.014399         0.303059   \n",
       "...                                          ...        ...              ...   \n",
       "tax_liens                               0.035844   1.000000        -0.001580   \n",
       "tot_hi_cred_lim                        -0.107866  -0.001580         1.000000   \n",
       "total_bal_ex_mort                      -0.078054  -0.002017         0.507678   \n",
       "total_bc_limit                         -0.154067  -0.024984         0.397174   \n",
       "total_il_high_credit_limit             -0.036122   0.005964         0.400462   \n",
       "\n",
       "                            total_bal_ex_mort  total_bc_limit  \\\n",
       "loan_amnt                            0.276379        0.372904   \n",
       "funded_amnt                          0.276378        0.372911   \n",
       "funded_amnt_inv                      0.276386        0.372944   \n",
       "int_rate                             0.003641       -0.229693   \n",
       "installment                          0.261025        0.340731   \n",
       "...                                       ...             ...   \n",
       "tax_liens                           -0.002017       -0.024984   \n",
       "tot_hi_cred_lim                      0.507678        0.397174   \n",
       "total_bal_ex_mort                    1.000000        0.285931   \n",
       "total_bc_limit                       0.285931        1.000000   \n",
       "total_il_high_credit_limit           0.872653        0.117488   \n",
       "\n",
       "                            total_il_high_credit_limit  \n",
       "loan_amnt                                     0.200089  \n",
       "funded_amnt                                   0.200085  \n",
       "funded_amnt_inv                               0.200089  \n",
       "int_rate                                     -0.004198  \n",
       "installment                                   0.185354  \n",
       "...                                                ...  \n",
       "tax_liens                                     0.005964  \n",
       "tot_hi_cred_lim                               0.400462  \n",
       "total_bal_ex_mort                             0.872653  \n",
       "total_bc_limit                                0.117488  \n",
       "total_il_high_credit_limit                    1.000000  \n",
       "\n",
       "[87 rows x 87 columns]"
      ]
     },
     "execution_count": 15,
     "metadata": {},
     "output_type": "execute_result"
    }
   ],
   "source": [
    "corr_matrix = acc.corr()\n",
    "corr_matrix"
   ]
  },
  {
   "cell_type": "markdown",
   "metadata": {},
   "source": [
    "For the model to be stable enough,it is advised that we keep only one feature in the dataset if two features are highly correlated."
   ]
  },
  {
   "cell_type": "markdown",
   "metadata": {},
   "source": [
    "### Identify Highly Correlated Features"
   ]
  },
  {
   "cell_type": "code",
   "execution_count": 16,
   "metadata": {},
   "outputs": [
    {
     "data": {
      "text/plain": [
       "['funded_amnt',\n",
       " 'funded_amnt_inv',\n",
       " 'installment',\n",
       " 'fico_range_high',\n",
       " 'total_pymnt_inv',\n",
       " 'total_rec_prncp',\n",
       " 'collection_recovery_fee',\n",
       " 'num_rev_tl_bal_gt_0',\n",
       " 'num_sats',\n",
       " 'tot_hi_cred_lim',\n",
       " 'total_bal_ex_mort',\n",
       " 'total_il_high_credit_limit']"
      ]
     },
     "execution_count": 16,
     "metadata": {},
     "output_type": "execute_result"
    }
   ],
   "source": [
    "\n",
    "corr_matrix = corr_matrix.abs()\n",
    "\n",
    "# Select upper triangle of correlation matrix\n",
    "upper = corr_matrix.where(np.triu(np.ones(corr_matrix.shape), k=1).astype(np.bool))\n",
    "\n",
    "# Find index of feature columns with correlation greater or equal 0.9\n",
    "to_drop = [column for column in upper.columns if any(upper[column] >= 0.9)]\n",
    "to_drop"
   ]
  },
  {
   "cell_type": "markdown",
   "metadata": {},
   "source": [
    "#### Drop Highly Correlated Features"
   ]
  },
  {
   "cell_type": "code",
   "execution_count": 17,
   "metadata": {},
   "outputs": [],
   "source": [
    "# Drop features \n",
    "acc.drop(acc[to_drop], axis=1, inplace=True)\n"
   ]
  },
  {
   "cell_type": "markdown",
   "metadata": {},
   "source": [
    "#### Check for any remaining null values."
   ]
  },
  {
   "cell_type": "code",
   "execution_count": 18,
   "metadata": {},
   "outputs": [
    {
     "data": {
      "text/plain": [
       "next_pymnt_d                      1345310\n",
       "mths_since_recent_bc_dlq          1026290\n",
       "mths_since_last_major_derog        991560\n",
       "mths_since_recent_revol_delinq     895348\n",
       "il_util                            880294\n",
       "                                   ...   \n",
       "initial_list_status                     0\n",
       "total_acc                               0\n",
       "revol_bal                               0\n",
       "pub_rec                                 0\n",
       "id                                      0\n",
       "Length: 96, dtype: int64"
      ]
     },
     "execution_count": 18,
     "metadata": {},
     "output_type": "execute_result"
    }
   ],
   "source": [
    "acc.isnull().sum().sort_values(ascending = False)"
   ]
  },
  {
   "cell_type": "markdown",
   "metadata": {},
   "source": [
    "The loan amount records with missing value are useless. Remove them "
   ]
  },
  {
   "cell_type": "code",
   "execution_count": 19,
   "metadata": {},
   "outputs": [],
   "source": [
    "acc.dropna(subset=['loan_amnt'], inplace=True)"
   ]
  },
  {
   "cell_type": "code",
   "execution_count": 20,
   "metadata": {},
   "outputs": [
    {
     "data": {
      "text/html": [
       "<div>\n",
       "<style scoped>\n",
       "    .dataframe tbody tr th:only-of-type {\n",
       "        vertical-align: middle;\n",
       "    }\n",
       "\n",
       "    .dataframe tbody tr th {\n",
       "        vertical-align: top;\n",
       "    }\n",
       "\n",
       "    .dataframe thead th {\n",
       "        text-align: right;\n",
       "    }\n",
       "</style>\n",
       "<table border=\"1\" class=\"dataframe\">\n",
       "  <thead>\n",
       "    <tr style=\"text-align: right;\">\n",
       "      <th></th>\n",
       "      <th>count</th>\n",
       "      <th>%</th>\n",
       "    </tr>\n",
       "  </thead>\n",
       "  <tbody>\n",
       "    <tr>\n",
       "      <th>next_pymnt_d</th>\n",
       "      <td>1345310</td>\n",
       "      <td>100.000000</td>\n",
       "    </tr>\n",
       "    <tr>\n",
       "      <th>mths_since_recent_bc_dlq</th>\n",
       "      <td>1026290</td>\n",
       "      <td>76.286506</td>\n",
       "    </tr>\n",
       "    <tr>\n",
       "      <th>mths_since_last_major_derog</th>\n",
       "      <td>991560</td>\n",
       "      <td>73.704945</td>\n",
       "    </tr>\n",
       "    <tr>\n",
       "      <th>mths_since_recent_revol_delinq</th>\n",
       "      <td>895348</td>\n",
       "      <td>66.553285</td>\n",
       "    </tr>\n",
       "    <tr>\n",
       "      <th>il_util</th>\n",
       "      <td>880294</td>\n",
       "      <td>65.434287</td>\n",
       "    </tr>\n",
       "    <tr>\n",
       "      <th>...</th>\n",
       "      <td>...</td>\n",
       "      <td>...</td>\n",
       "    </tr>\n",
       "    <tr>\n",
       "      <th>last_pymnt_amnt</th>\n",
       "      <td>0</td>\n",
       "      <td>0.000000</td>\n",
       "    </tr>\n",
       "    <tr>\n",
       "      <th>last_fico_range_high</th>\n",
       "      <td>0</td>\n",
       "      <td>0.000000</td>\n",
       "    </tr>\n",
       "    <tr>\n",
       "      <th>last_fico_range_low</th>\n",
       "      <td>0</td>\n",
       "      <td>0.000000</td>\n",
       "    </tr>\n",
       "    <tr>\n",
       "      <th>policy_code</th>\n",
       "      <td>0</td>\n",
       "      <td>0.000000</td>\n",
       "    </tr>\n",
       "    <tr>\n",
       "      <th>debt_settlement_flag</th>\n",
       "      <td>0</td>\n",
       "      <td>0.000000</td>\n",
       "    </tr>\n",
       "  </tbody>\n",
       "</table>\n",
       "<p>96 rows × 2 columns</p>\n",
       "</div>"
      ],
      "text/plain": [
       "                                  count           %\n",
       "next_pymnt_d                    1345310  100.000000\n",
       "mths_since_recent_bc_dlq        1026290   76.286506\n",
       "mths_since_last_major_derog      991560   73.704945\n",
       "mths_since_recent_revol_delinq   895348   66.553285\n",
       "il_util                          880294   65.434287\n",
       "...                                 ...         ...\n",
       "last_pymnt_amnt                       0    0.000000\n",
       "last_fico_range_high                  0    0.000000\n",
       "last_fico_range_low                   0    0.000000\n",
       "policy_code                           0    0.000000\n",
       "debt_settlement_flag                  0    0.000000\n",
       "\n",
       "[96 rows x 2 columns]"
      ]
     },
     "execution_count": 20,
     "metadata": {},
     "output_type": "execute_result"
    }
   ],
   "source": [
    "missing = pd.concat([acc.isnull().sum(), 100 * acc.isnull().mean()], axis=1)\n",
    "missing.columns=['count', '%']\n",
    "missing.sort_values(by='count', ascending=False)"
   ]
  },
  {
   "cell_type": "markdown",
   "metadata": {},
   "source": [
    "We still have somer features with missing over 50% of its values"
   ]
  },
  {
   "cell_type": "code",
   "execution_count": 21,
   "metadata": {},
   "outputs": [
    {
     "data": {
      "text/plain": [
       "Index(['mths_since_last_delinq', 'next_pymnt_d', 'mths_since_last_major_derog',\n",
       "       'open_acc_6m', 'open_act_il', 'open_il_12m', 'open_il_24m',\n",
       "       'mths_since_rcnt_il', 'total_bal_il', 'il_util', 'open_rv_12m',\n",
       "       'open_rv_24m', 'max_bal_bc', 'all_util', 'inq_fi', 'total_cu_tl',\n",
       "       'inq_last_12m', 'mths_since_recent_bc_dlq',\n",
       "       'mths_since_recent_revol_delinq'],\n",
       "      dtype='object')"
      ]
     },
     "execution_count": 21,
     "metadata": {},
     "output_type": "execute_result"
    }
   ],
   "source": [
    "pct_null = acc.isnull().sum() / len(acc)\n",
    "pct_null = pct_null[pct_null >= 0.50]\n",
    "missing_feature_50pct = pct_null.index\n",
    "missing_feature_50pct\n"
   ]
  },
  {
   "cell_type": "markdown",
   "metadata": {},
   "source": [
    "Based on Lending Club data dictionary https://resources.lendingclub.com/LCDataDictionary.xlsx \n",
    "most of them are irrelevant or unknown by the time of a loan. So we can drop them\n"
   ]
  },
  {
   "cell_type": "code",
   "execution_count": 22,
   "metadata": {},
   "outputs": [],
   "source": [
    "acc.drop(missing_feature_50pct, axis=1, inplace=True)"
   ]
  },
  {
   "cell_type": "code",
   "execution_count": 23,
   "metadata": {},
   "outputs": [
    {
     "data": {
      "text/plain": [
       "57"
      ]
     },
     "execution_count": 23,
     "metadata": {},
     "output_type": "execute_result"
    }
   ],
   "source": [
    "num_f = acc.select_dtypes('number').columns.values\n",
    "len(num_f)"
   ]
  },
  {
   "cell_type": "markdown",
   "metadata": {},
   "source": [
    "#### Remove features with low variance."
   ]
  },
  {
   "cell_type": "markdown",
   "metadata": {},
   "source": [
    "Remove all features whose variance doesn’t meet some threshold."
   ]
  },
  {
   "cell_type": "code",
   "execution_count": 24,
   "metadata": {},
   "outputs": [
    {
     "data": {
      "text/html": [
       "<div>\n",
       "<style scoped>\n",
       "    .dataframe tbody tr th:only-of-type {\n",
       "        vertical-align: middle;\n",
       "    }\n",
       "\n",
       "    .dataframe tbody tr th {\n",
       "        vertical-align: top;\n",
       "    }\n",
       "\n",
       "    .dataframe thead th {\n",
       "        text-align: right;\n",
       "    }\n",
       "</style>\n",
       "<table border=\"1\" class=\"dataframe\">\n",
       "  <thead>\n",
       "    <tr style=\"text-align: right;\">\n",
       "      <th></th>\n",
       "      <th>0</th>\n",
       "      <th>1</th>\n",
       "      <th>2</th>\n",
       "      <th>4</th>\n",
       "      <th>5</th>\n",
       "    </tr>\n",
       "  </thead>\n",
       "  <tbody>\n",
       "    <tr>\n",
       "      <th>loan_amnt</th>\n",
       "      <td>3600.000000</td>\n",
       "      <td>24700.00</td>\n",
       "      <td>20000.000000</td>\n",
       "      <td>10400.00</td>\n",
       "      <td>11950.00000</td>\n",
       "    </tr>\n",
       "    <tr>\n",
       "      <th>int_rate</th>\n",
       "      <td>13.990000</td>\n",
       "      <td>11.99</td>\n",
       "      <td>10.780000</td>\n",
       "      <td>22.45</td>\n",
       "      <td>13.44000</td>\n",
       "    </tr>\n",
       "    <tr>\n",
       "      <th>annual_inc</th>\n",
       "      <td>55000.000000</td>\n",
       "      <td>65000.00</td>\n",
       "      <td>63000.000000</td>\n",
       "      <td>104433.00</td>\n",
       "      <td>34000.00000</td>\n",
       "    </tr>\n",
       "    <tr>\n",
       "      <th>dti</th>\n",
       "      <td>5.910000</td>\n",
       "      <td>16.06</td>\n",
       "      <td>10.780000</td>\n",
       "      <td>25.37</td>\n",
       "      <td>10.20000</td>\n",
       "    </tr>\n",
       "    <tr>\n",
       "      <th>delinq_2yrs</th>\n",
       "      <td>0.000000</td>\n",
       "      <td>1.00</td>\n",
       "      <td>0.000000</td>\n",
       "      <td>1.00</td>\n",
       "      <td>0.00000</td>\n",
       "    </tr>\n",
       "    <tr>\n",
       "      <th>fico_range_low</th>\n",
       "      <td>675.000000</td>\n",
       "      <td>715.00</td>\n",
       "      <td>695.000000</td>\n",
       "      <td>695.00</td>\n",
       "      <td>690.00000</td>\n",
       "    </tr>\n",
       "    <tr>\n",
       "      <th>inq_last_6mths</th>\n",
       "      <td>1.000000</td>\n",
       "      <td>4.00</td>\n",
       "      <td>0.000000</td>\n",
       "      <td>3.00</td>\n",
       "      <td>0.00000</td>\n",
       "    </tr>\n",
       "    <tr>\n",
       "      <th>open_acc</th>\n",
       "      <td>7.000000</td>\n",
       "      <td>22.00</td>\n",
       "      <td>6.000000</td>\n",
       "      <td>12.00</td>\n",
       "      <td>5.00000</td>\n",
       "    </tr>\n",
       "    <tr>\n",
       "      <th>pub_rec</th>\n",
       "      <td>0.000000</td>\n",
       "      <td>0.00</td>\n",
       "      <td>0.000000</td>\n",
       "      <td>0.00</td>\n",
       "      <td>0.00000</td>\n",
       "    </tr>\n",
       "    <tr>\n",
       "      <th>revol_bal</th>\n",
       "      <td>2765.000000</td>\n",
       "      <td>21470.00</td>\n",
       "      <td>7869.000000</td>\n",
       "      <td>21929.00</td>\n",
       "      <td>8822.00000</td>\n",
       "    </tr>\n",
       "    <tr>\n",
       "      <th>revol_util</th>\n",
       "      <td>29.700000</td>\n",
       "      <td>19.20</td>\n",
       "      <td>56.200000</td>\n",
       "      <td>64.50</td>\n",
       "      <td>68.40000</td>\n",
       "    </tr>\n",
       "    <tr>\n",
       "      <th>total_acc</th>\n",
       "      <td>13.000000</td>\n",
       "      <td>38.00</td>\n",
       "      <td>18.000000</td>\n",
       "      <td>35.00</td>\n",
       "      <td>6.00000</td>\n",
       "    </tr>\n",
       "    <tr>\n",
       "      <th>total_pymnt</th>\n",
       "      <td>4421.723917</td>\n",
       "      <td>25679.66</td>\n",
       "      <td>22705.924294</td>\n",
       "      <td>11740.50</td>\n",
       "      <td>13708.94853</td>\n",
       "    </tr>\n",
       "    <tr>\n",
       "      <th>total_rec_int</th>\n",
       "      <td>821.720000</td>\n",
       "      <td>979.66</td>\n",
       "      <td>2705.920000</td>\n",
       "      <td>1340.50</td>\n",
       "      <td>1758.95000</td>\n",
       "    </tr>\n",
       "    <tr>\n",
       "      <th>total_rec_late_fee</th>\n",
       "      <td>0.000000</td>\n",
       "      <td>0.00</td>\n",
       "      <td>0.000000</td>\n",
       "      <td>0.00</td>\n",
       "      <td>0.00000</td>\n",
       "    </tr>\n",
       "    <tr>\n",
       "      <th>recoveries</th>\n",
       "      <td>0.000000</td>\n",
       "      <td>0.00</td>\n",
       "      <td>0.000000</td>\n",
       "      <td>0.00</td>\n",
       "      <td>0.00000</td>\n",
       "    </tr>\n",
       "    <tr>\n",
       "      <th>last_pymnt_amnt</th>\n",
       "      <td>122.670000</td>\n",
       "      <td>926.35</td>\n",
       "      <td>15813.300000</td>\n",
       "      <td>10128.96</td>\n",
       "      <td>7653.56000</td>\n",
       "    </tr>\n",
       "    <tr>\n",
       "      <th>last_fico_range_high</th>\n",
       "      <td>564.000000</td>\n",
       "      <td>699.00</td>\n",
       "      <td>704.000000</td>\n",
       "      <td>704.00</td>\n",
       "      <td>759.00000</td>\n",
       "    </tr>\n",
       "    <tr>\n",
       "      <th>last_fico_range_low</th>\n",
       "      <td>560.000000</td>\n",
       "      <td>695.00</td>\n",
       "      <td>700.000000</td>\n",
       "      <td>700.00</td>\n",
       "      <td>755.00000</td>\n",
       "    </tr>\n",
       "    <tr>\n",
       "      <th>tot_coll_amt</th>\n",
       "      <td>722.000000</td>\n",
       "      <td>0.00</td>\n",
       "      <td>0.000000</td>\n",
       "      <td>0.00</td>\n",
       "      <td>0.00000</td>\n",
       "    </tr>\n",
       "    <tr>\n",
       "      <th>tot_cur_bal</th>\n",
       "      <td>144904.000000</td>\n",
       "      <td>204396.00</td>\n",
       "      <td>189699.000000</td>\n",
       "      <td>331730.00</td>\n",
       "      <td>12798.00000</td>\n",
       "    </tr>\n",
       "    <tr>\n",
       "      <th>total_rev_hi_lim</th>\n",
       "      <td>9300.000000</td>\n",
       "      <td>111800.00</td>\n",
       "      <td>14000.000000</td>\n",
       "      <td>34000.00</td>\n",
       "      <td>12900.00000</td>\n",
       "    </tr>\n",
       "    <tr>\n",
       "      <th>acc_open_past_24mths</th>\n",
       "      <td>4.000000</td>\n",
       "      <td>4.00</td>\n",
       "      <td>6.000000</td>\n",
       "      <td>10.00</td>\n",
       "      <td>0.00000</td>\n",
       "    </tr>\n",
       "    <tr>\n",
       "      <th>avg_cur_bal</th>\n",
       "      <td>20701.000000</td>\n",
       "      <td>9733.00</td>\n",
       "      <td>31617.000000</td>\n",
       "      <td>27644.00</td>\n",
       "      <td>2560.00000</td>\n",
       "    </tr>\n",
       "    <tr>\n",
       "      <th>bc_open_to_buy</th>\n",
       "      <td>1506.000000</td>\n",
       "      <td>57830.00</td>\n",
       "      <td>2737.000000</td>\n",
       "      <td>4567.00</td>\n",
       "      <td>844.00000</td>\n",
       "    </tr>\n",
       "    <tr>\n",
       "      <th>bc_util</th>\n",
       "      <td>37.200000</td>\n",
       "      <td>27.10</td>\n",
       "      <td>55.900000</td>\n",
       "      <td>77.50</td>\n",
       "      <td>91.00000</td>\n",
       "    </tr>\n",
       "    <tr>\n",
       "      <th>delinq_amnt</th>\n",
       "      <td>0.000000</td>\n",
       "      <td>0.00</td>\n",
       "      <td>0.000000</td>\n",
       "      <td>0.00</td>\n",
       "      <td>0.00000</td>\n",
       "    </tr>\n",
       "    <tr>\n",
       "      <th>mo_sin_old_il_acct</th>\n",
       "      <td>148.000000</td>\n",
       "      <td>113.00</td>\n",
       "      <td>125.000000</td>\n",
       "      <td>128.00</td>\n",
       "      <td>338.00000</td>\n",
       "    </tr>\n",
       "    <tr>\n",
       "      <th>mo_sin_old_rev_tl_op</th>\n",
       "      <td>128.000000</td>\n",
       "      <td>192.00</td>\n",
       "      <td>184.000000</td>\n",
       "      <td>210.00</td>\n",
       "      <td>54.00000</td>\n",
       "    </tr>\n",
       "    <tr>\n",
       "      <th>mo_sin_rcnt_rev_tl_op</th>\n",
       "      <td>3.000000</td>\n",
       "      <td>2.00</td>\n",
       "      <td>14.000000</td>\n",
       "      <td>4.00</td>\n",
       "      <td>32.00000</td>\n",
       "    </tr>\n",
       "    <tr>\n",
       "      <th>mo_sin_rcnt_tl</th>\n",
       "      <td>3.000000</td>\n",
       "      <td>2.00</td>\n",
       "      <td>14.000000</td>\n",
       "      <td>4.00</td>\n",
       "      <td>32.00000</td>\n",
       "    </tr>\n",
       "    <tr>\n",
       "      <th>mort_acc</th>\n",
       "      <td>1.000000</td>\n",
       "      <td>4.00</td>\n",
       "      <td>5.000000</td>\n",
       "      <td>6.00</td>\n",
       "      <td>0.00000</td>\n",
       "    </tr>\n",
       "    <tr>\n",
       "      <th>mths_since_recent_bc</th>\n",
       "      <td>4.000000</td>\n",
       "      <td>2.00</td>\n",
       "      <td>101.000000</td>\n",
       "      <td>4.00</td>\n",
       "      <td>36.00000</td>\n",
       "    </tr>\n",
       "    <tr>\n",
       "      <th>mths_since_recent_inq</th>\n",
       "      <td>4.000000</td>\n",
       "      <td>0.00</td>\n",
       "      <td>10.000000</td>\n",
       "      <td>1.00</td>\n",
       "      <td>NaN</td>\n",
       "    </tr>\n",
       "    <tr>\n",
       "      <th>num_accts_ever_120_pd</th>\n",
       "      <td>2.000000</td>\n",
       "      <td>0.00</td>\n",
       "      <td>0.000000</td>\n",
       "      <td>0.00</td>\n",
       "      <td>0.00000</td>\n",
       "    </tr>\n",
       "    <tr>\n",
       "      <th>num_actv_bc_tl</th>\n",
       "      <td>2.000000</td>\n",
       "      <td>5.00</td>\n",
       "      <td>2.000000</td>\n",
       "      <td>4.00</td>\n",
       "      <td>2.00000</td>\n",
       "    </tr>\n",
       "    <tr>\n",
       "      <th>num_actv_rev_tl</th>\n",
       "      <td>4.000000</td>\n",
       "      <td>5.00</td>\n",
       "      <td>3.000000</td>\n",
       "      <td>6.00</td>\n",
       "      <td>3.00000</td>\n",
       "    </tr>\n",
       "    <tr>\n",
       "      <th>num_bc_sats</th>\n",
       "      <td>2.000000</td>\n",
       "      <td>13.00</td>\n",
       "      <td>2.000000</td>\n",
       "      <td>5.00</td>\n",
       "      <td>2.00000</td>\n",
       "    </tr>\n",
       "    <tr>\n",
       "      <th>num_bc_tl</th>\n",
       "      <td>5.000000</td>\n",
       "      <td>17.00</td>\n",
       "      <td>4.000000</td>\n",
       "      <td>9.00</td>\n",
       "      <td>2.00000</td>\n",
       "    </tr>\n",
       "    <tr>\n",
       "      <th>num_il_tl</th>\n",
       "      <td>3.000000</td>\n",
       "      <td>6.00</td>\n",
       "      <td>6.000000</td>\n",
       "      <td>10.00</td>\n",
       "      <td>2.00000</td>\n",
       "    </tr>\n",
       "    <tr>\n",
       "      <th>num_op_rev_tl</th>\n",
       "      <td>4.000000</td>\n",
       "      <td>20.00</td>\n",
       "      <td>4.000000</td>\n",
       "      <td>7.00</td>\n",
       "      <td>4.00000</td>\n",
       "    </tr>\n",
       "    <tr>\n",
       "      <th>num_rev_accts</th>\n",
       "      <td>9.000000</td>\n",
       "      <td>27.00</td>\n",
       "      <td>7.000000</td>\n",
       "      <td>19.00</td>\n",
       "      <td>4.00000</td>\n",
       "    </tr>\n",
       "    <tr>\n",
       "      <th>num_tl_90g_dpd_24m</th>\n",
       "      <td>0.000000</td>\n",
       "      <td>0.00</td>\n",
       "      <td>0.000000</td>\n",
       "      <td>0.00</td>\n",
       "      <td>0.00000</td>\n",
       "    </tr>\n",
       "    <tr>\n",
       "      <th>num_tl_op_past_12m</th>\n",
       "      <td>3.000000</td>\n",
       "      <td>2.00</td>\n",
       "      <td>0.000000</td>\n",
       "      <td>4.00</td>\n",
       "      <td>0.00000</td>\n",
       "    </tr>\n",
       "    <tr>\n",
       "      <th>pct_tl_nvr_dlq</th>\n",
       "      <td>76.900000</td>\n",
       "      <td>97.40</td>\n",
       "      <td>100.000000</td>\n",
       "      <td>96.60</td>\n",
       "      <td>100.00000</td>\n",
       "    </tr>\n",
       "    <tr>\n",
       "      <th>percent_bc_gt_75</th>\n",
       "      <td>0.000000</td>\n",
       "      <td>7.70</td>\n",
       "      <td>50.000000</td>\n",
       "      <td>60.00</td>\n",
       "      <td>100.00000</td>\n",
       "    </tr>\n",
       "    <tr>\n",
       "      <th>pub_rec_bankruptcies</th>\n",
       "      <td>0.000000</td>\n",
       "      <td>0.00</td>\n",
       "      <td>0.000000</td>\n",
       "      <td>0.00</td>\n",
       "      <td>0.00000</td>\n",
       "    </tr>\n",
       "    <tr>\n",
       "      <th>tax_liens</th>\n",
       "      <td>0.000000</td>\n",
       "      <td>0.00</td>\n",
       "      <td>0.000000</td>\n",
       "      <td>0.00</td>\n",
       "      <td>0.00000</td>\n",
       "    </tr>\n",
       "    <tr>\n",
       "      <th>total_bc_limit</th>\n",
       "      <td>2400.000000</td>\n",
       "      <td>79300.00</td>\n",
       "      <td>6200.000000</td>\n",
       "      <td>20300.00</td>\n",
       "      <td>9400.00000</td>\n",
       "    </tr>\n",
       "  </tbody>\n",
       "</table>\n",
       "</div>"
      ],
      "text/plain": [
       "                                   0          1              2          4  \\\n",
       "loan_amnt                3600.000000   24700.00   20000.000000   10400.00   \n",
       "int_rate                   13.990000      11.99      10.780000      22.45   \n",
       "annual_inc              55000.000000   65000.00   63000.000000  104433.00   \n",
       "dti                         5.910000      16.06      10.780000      25.37   \n",
       "delinq_2yrs                 0.000000       1.00       0.000000       1.00   \n",
       "fico_range_low            675.000000     715.00     695.000000     695.00   \n",
       "inq_last_6mths              1.000000       4.00       0.000000       3.00   \n",
       "open_acc                    7.000000      22.00       6.000000      12.00   \n",
       "pub_rec                     0.000000       0.00       0.000000       0.00   \n",
       "revol_bal                2765.000000   21470.00    7869.000000   21929.00   \n",
       "revol_util                 29.700000      19.20      56.200000      64.50   \n",
       "total_acc                  13.000000      38.00      18.000000      35.00   \n",
       "total_pymnt              4421.723917   25679.66   22705.924294   11740.50   \n",
       "total_rec_int             821.720000     979.66    2705.920000    1340.50   \n",
       "total_rec_late_fee          0.000000       0.00       0.000000       0.00   \n",
       "recoveries                  0.000000       0.00       0.000000       0.00   \n",
       "last_pymnt_amnt           122.670000     926.35   15813.300000   10128.96   \n",
       "last_fico_range_high      564.000000     699.00     704.000000     704.00   \n",
       "last_fico_range_low       560.000000     695.00     700.000000     700.00   \n",
       "tot_coll_amt              722.000000       0.00       0.000000       0.00   \n",
       "tot_cur_bal            144904.000000  204396.00  189699.000000  331730.00   \n",
       "total_rev_hi_lim         9300.000000  111800.00   14000.000000   34000.00   \n",
       "acc_open_past_24mths        4.000000       4.00       6.000000      10.00   \n",
       "avg_cur_bal             20701.000000    9733.00   31617.000000   27644.00   \n",
       "bc_open_to_buy           1506.000000   57830.00    2737.000000    4567.00   \n",
       "bc_util                    37.200000      27.10      55.900000      77.50   \n",
       "delinq_amnt                 0.000000       0.00       0.000000       0.00   \n",
       "mo_sin_old_il_acct        148.000000     113.00     125.000000     128.00   \n",
       "mo_sin_old_rev_tl_op      128.000000     192.00     184.000000     210.00   \n",
       "mo_sin_rcnt_rev_tl_op       3.000000       2.00      14.000000       4.00   \n",
       "mo_sin_rcnt_tl              3.000000       2.00      14.000000       4.00   \n",
       "mort_acc                    1.000000       4.00       5.000000       6.00   \n",
       "mths_since_recent_bc        4.000000       2.00     101.000000       4.00   \n",
       "mths_since_recent_inq       4.000000       0.00      10.000000       1.00   \n",
       "num_accts_ever_120_pd       2.000000       0.00       0.000000       0.00   \n",
       "num_actv_bc_tl              2.000000       5.00       2.000000       4.00   \n",
       "num_actv_rev_tl             4.000000       5.00       3.000000       6.00   \n",
       "num_bc_sats                 2.000000      13.00       2.000000       5.00   \n",
       "num_bc_tl                   5.000000      17.00       4.000000       9.00   \n",
       "num_il_tl                   3.000000       6.00       6.000000      10.00   \n",
       "num_op_rev_tl               4.000000      20.00       4.000000       7.00   \n",
       "num_rev_accts               9.000000      27.00       7.000000      19.00   \n",
       "num_tl_90g_dpd_24m          0.000000       0.00       0.000000       0.00   \n",
       "num_tl_op_past_12m          3.000000       2.00       0.000000       4.00   \n",
       "pct_tl_nvr_dlq             76.900000      97.40     100.000000      96.60   \n",
       "percent_bc_gt_75            0.000000       7.70      50.000000      60.00   \n",
       "pub_rec_bankruptcies        0.000000       0.00       0.000000       0.00   \n",
       "tax_liens                   0.000000       0.00       0.000000       0.00   \n",
       "total_bc_limit           2400.000000   79300.00    6200.000000   20300.00   \n",
       "\n",
       "                                 5  \n",
       "loan_amnt              11950.00000  \n",
       "int_rate                  13.44000  \n",
       "annual_inc             34000.00000  \n",
       "dti                       10.20000  \n",
       "delinq_2yrs                0.00000  \n",
       "fico_range_low           690.00000  \n",
       "inq_last_6mths             0.00000  \n",
       "open_acc                   5.00000  \n",
       "pub_rec                    0.00000  \n",
       "revol_bal               8822.00000  \n",
       "revol_util                68.40000  \n",
       "total_acc                  6.00000  \n",
       "total_pymnt            13708.94853  \n",
       "total_rec_int           1758.95000  \n",
       "total_rec_late_fee         0.00000  \n",
       "recoveries                 0.00000  \n",
       "last_pymnt_amnt         7653.56000  \n",
       "last_fico_range_high     759.00000  \n",
       "last_fico_range_low      755.00000  \n",
       "tot_coll_amt               0.00000  \n",
       "tot_cur_bal            12798.00000  \n",
       "total_rev_hi_lim       12900.00000  \n",
       "acc_open_past_24mths       0.00000  \n",
       "avg_cur_bal             2560.00000  \n",
       "bc_open_to_buy           844.00000  \n",
       "bc_util                   91.00000  \n",
       "delinq_amnt                0.00000  \n",
       "mo_sin_old_il_acct       338.00000  \n",
       "mo_sin_old_rev_tl_op      54.00000  \n",
       "mo_sin_rcnt_rev_tl_op     32.00000  \n",
       "mo_sin_rcnt_tl            32.00000  \n",
       "mort_acc                   0.00000  \n",
       "mths_since_recent_bc      36.00000  \n",
       "mths_since_recent_inq          NaN  \n",
       "num_accts_ever_120_pd      0.00000  \n",
       "num_actv_bc_tl             2.00000  \n",
       "num_actv_rev_tl            3.00000  \n",
       "num_bc_sats                2.00000  \n",
       "num_bc_tl                  2.00000  \n",
       "num_il_tl                  2.00000  \n",
       "num_op_rev_tl              4.00000  \n",
       "num_rev_accts              4.00000  \n",
       "num_tl_90g_dpd_24m         0.00000  \n",
       "num_tl_op_past_12m         0.00000  \n",
       "pct_tl_nvr_dlq           100.00000  \n",
       "percent_bc_gt_75         100.00000  \n",
       "pub_rec_bankruptcies       0.00000  \n",
       "tax_liens                  0.00000  \n",
       "total_bc_limit          9400.00000  "
      ]
     },
     "execution_count": 24,
     "metadata": {},
     "output_type": "execute_result"
    }
   ],
   "source": [
    "from sklearn.feature_selection import VarianceThreshold\n",
    "\n",
    "threshold_n=0.95\n",
    "acc_t = acc[num_f]\n",
    "sel = VarianceThreshold(threshold=(threshold_n* (1 - threshold_n) ))\n",
    "sel_var=sel.fit_transform(acc_t)\n",
    "acc_t[acc_t.columns[sel.get_support(indices=True)]].head().T"
   ]
  },
  {
   "cell_type": "code",
   "execution_count": 25,
   "metadata": {},
   "outputs": [
    {
     "data": {
      "text/plain": [
       "49"
      ]
     },
     "execution_count": 25,
     "metadata": {},
     "output_type": "execute_result"
    }
   ],
   "source": [
    "new_num_f = acc_t.columns[sel.get_support(indices=True)]\n",
    "len(new_num_f)"
   ]
  },
  {
   "cell_type": "markdown",
   "metadata": {},
   "source": [
    "57 -> 49 numerical features"
   ]
  },
  {
   "cell_type": "code",
   "execution_count": 26,
   "metadata": {},
   "outputs": [
    {
     "data": {
      "text/html": [
       "<div>\n",
       "<style scoped>\n",
       "    .dataframe tbody tr th:only-of-type {\n",
       "        vertical-align: middle;\n",
       "    }\n",
       "\n",
       "    .dataframe tbody tr th {\n",
       "        vertical-align: top;\n",
       "    }\n",
       "\n",
       "    .dataframe thead th {\n",
       "        text-align: right;\n",
       "    }\n",
       "</style>\n",
       "<table border=\"1\" class=\"dataframe\">\n",
       "  <thead>\n",
       "    <tr style=\"text-align: right;\">\n",
       "      <th></th>\n",
       "      <th>loan_amnt</th>\n",
       "      <th>int_rate</th>\n",
       "      <th>annual_inc</th>\n",
       "      <th>dti</th>\n",
       "      <th>delinq_2yrs</th>\n",
       "      <th>fico_range_low</th>\n",
       "      <th>inq_last_6mths</th>\n",
       "      <th>open_acc</th>\n",
       "      <th>pub_rec</th>\n",
       "      <th>revol_bal</th>\n",
       "      <th>...</th>\n",
       "      <th>num_il_tl</th>\n",
       "      <th>num_op_rev_tl</th>\n",
       "      <th>num_rev_accts</th>\n",
       "      <th>num_tl_90g_dpd_24m</th>\n",
       "      <th>num_tl_op_past_12m</th>\n",
       "      <th>pct_tl_nvr_dlq</th>\n",
       "      <th>percent_bc_gt_75</th>\n",
       "      <th>pub_rec_bankruptcies</th>\n",
       "      <th>tax_liens</th>\n",
       "      <th>total_bc_limit</th>\n",
       "    </tr>\n",
       "  </thead>\n",
       "  <tbody>\n",
       "    <tr>\n",
       "      <th>0</th>\n",
       "      <td>3600.0</td>\n",
       "      <td>13.99</td>\n",
       "      <td>55000.0</td>\n",
       "      <td>5.91</td>\n",
       "      <td>0.0</td>\n",
       "      <td>675.0</td>\n",
       "      <td>1.0</td>\n",
       "      <td>7.0</td>\n",
       "      <td>0.0</td>\n",
       "      <td>2765.0</td>\n",
       "      <td>...</td>\n",
       "      <td>3.0</td>\n",
       "      <td>4.0</td>\n",
       "      <td>9.0</td>\n",
       "      <td>0.0</td>\n",
       "      <td>3.0</td>\n",
       "      <td>76.9</td>\n",
       "      <td>0.0</td>\n",
       "      <td>0.0</td>\n",
       "      <td>0.0</td>\n",
       "      <td>2400.0</td>\n",
       "    </tr>\n",
       "    <tr>\n",
       "      <th>1</th>\n",
       "      <td>24700.0</td>\n",
       "      <td>11.99</td>\n",
       "      <td>65000.0</td>\n",
       "      <td>16.06</td>\n",
       "      <td>1.0</td>\n",
       "      <td>715.0</td>\n",
       "      <td>4.0</td>\n",
       "      <td>22.0</td>\n",
       "      <td>0.0</td>\n",
       "      <td>21470.0</td>\n",
       "      <td>...</td>\n",
       "      <td>6.0</td>\n",
       "      <td>20.0</td>\n",
       "      <td>27.0</td>\n",
       "      <td>0.0</td>\n",
       "      <td>2.0</td>\n",
       "      <td>97.4</td>\n",
       "      <td>7.7</td>\n",
       "      <td>0.0</td>\n",
       "      <td>0.0</td>\n",
       "      <td>79300.0</td>\n",
       "    </tr>\n",
       "    <tr>\n",
       "      <th>2</th>\n",
       "      <td>20000.0</td>\n",
       "      <td>10.78</td>\n",
       "      <td>63000.0</td>\n",
       "      <td>10.78</td>\n",
       "      <td>0.0</td>\n",
       "      <td>695.0</td>\n",
       "      <td>0.0</td>\n",
       "      <td>6.0</td>\n",
       "      <td>0.0</td>\n",
       "      <td>7869.0</td>\n",
       "      <td>...</td>\n",
       "      <td>6.0</td>\n",
       "      <td>4.0</td>\n",
       "      <td>7.0</td>\n",
       "      <td>0.0</td>\n",
       "      <td>0.0</td>\n",
       "      <td>100.0</td>\n",
       "      <td>50.0</td>\n",
       "      <td>0.0</td>\n",
       "      <td>0.0</td>\n",
       "      <td>6200.0</td>\n",
       "    </tr>\n",
       "    <tr>\n",
       "      <th>4</th>\n",
       "      <td>10400.0</td>\n",
       "      <td>22.45</td>\n",
       "      <td>104433.0</td>\n",
       "      <td>25.37</td>\n",
       "      <td>1.0</td>\n",
       "      <td>695.0</td>\n",
       "      <td>3.0</td>\n",
       "      <td>12.0</td>\n",
       "      <td>0.0</td>\n",
       "      <td>21929.0</td>\n",
       "      <td>...</td>\n",
       "      <td>10.0</td>\n",
       "      <td>7.0</td>\n",
       "      <td>19.0</td>\n",
       "      <td>0.0</td>\n",
       "      <td>4.0</td>\n",
       "      <td>96.6</td>\n",
       "      <td>60.0</td>\n",
       "      <td>0.0</td>\n",
       "      <td>0.0</td>\n",
       "      <td>20300.0</td>\n",
       "    </tr>\n",
       "    <tr>\n",
       "      <th>5</th>\n",
       "      <td>11950.0</td>\n",
       "      <td>13.44</td>\n",
       "      <td>34000.0</td>\n",
       "      <td>10.20</td>\n",
       "      <td>0.0</td>\n",
       "      <td>690.0</td>\n",
       "      <td>0.0</td>\n",
       "      <td>5.0</td>\n",
       "      <td>0.0</td>\n",
       "      <td>8822.0</td>\n",
       "      <td>...</td>\n",
       "      <td>2.0</td>\n",
       "      <td>4.0</td>\n",
       "      <td>4.0</td>\n",
       "      <td>0.0</td>\n",
       "      <td>0.0</td>\n",
       "      <td>100.0</td>\n",
       "      <td>100.0</td>\n",
       "      <td>0.0</td>\n",
       "      <td>0.0</td>\n",
       "      <td>9400.0</td>\n",
       "    </tr>\n",
       "  </tbody>\n",
       "</table>\n",
       "<p>5 rows × 49 columns</p>\n",
       "</div>"
      ],
      "text/plain": [
       "   loan_amnt  int_rate  annual_inc    dti  delinq_2yrs  fico_range_low  \\\n",
       "0     3600.0     13.99     55000.0   5.91          0.0           675.0   \n",
       "1    24700.0     11.99     65000.0  16.06          1.0           715.0   \n",
       "2    20000.0     10.78     63000.0  10.78          0.0           695.0   \n",
       "4    10400.0     22.45    104433.0  25.37          1.0           695.0   \n",
       "5    11950.0     13.44     34000.0  10.20          0.0           690.0   \n",
       "\n",
       "   inq_last_6mths  open_acc  pub_rec  revol_bal  ...  num_il_tl  \\\n",
       "0             1.0       7.0      0.0     2765.0  ...        3.0   \n",
       "1             4.0      22.0      0.0    21470.0  ...        6.0   \n",
       "2             0.0       6.0      0.0     7869.0  ...        6.0   \n",
       "4             3.0      12.0      0.0    21929.0  ...       10.0   \n",
       "5             0.0       5.0      0.0     8822.0  ...        2.0   \n",
       "\n",
       "   num_op_rev_tl  num_rev_accts  num_tl_90g_dpd_24m  num_tl_op_past_12m  \\\n",
       "0            4.0            9.0                 0.0                 3.0   \n",
       "1           20.0           27.0                 0.0                 2.0   \n",
       "2            4.0            7.0                 0.0                 0.0   \n",
       "4            7.0           19.0                 0.0                 4.0   \n",
       "5            4.0            4.0                 0.0                 0.0   \n",
       "\n",
       "   pct_tl_nvr_dlq  percent_bc_gt_75  pub_rec_bankruptcies  tax_liens  \\\n",
       "0            76.9               0.0                   0.0        0.0   \n",
       "1            97.4               7.7                   0.0        0.0   \n",
       "2           100.0              50.0                   0.0        0.0   \n",
       "4            96.6              60.0                   0.0        0.0   \n",
       "5           100.0             100.0                   0.0        0.0   \n",
       "\n",
       "   total_bc_limit  \n",
       "0          2400.0  \n",
       "1         79300.0  \n",
       "2          6200.0  \n",
       "4         20300.0  \n",
       "5          9400.0  \n",
       "\n",
       "[5 rows x 49 columns]"
      ]
     },
     "execution_count": 26,
     "metadata": {},
     "output_type": "execute_result"
    }
   ],
   "source": [
    "acc_new_num = acc_t[acc_t.columns[sel.get_support(indices=True)]]\n",
    "acc_new_num.head()"
   ]
  },
  {
   "cell_type": "markdown",
   "metadata": {},
   "source": [
    "Now when we know the low variance features remove them from our dataset"
   ]
  },
  {
   "cell_type": "code",
   "execution_count": 27,
   "metadata": {},
   "outputs": [
    {
     "data": {
      "text/html": [
       "<div>\n",
       "<style scoped>\n",
       "    .dataframe tbody tr th:only-of-type {\n",
       "        vertical-align: middle;\n",
       "    }\n",
       "\n",
       "    .dataframe tbody tr th {\n",
       "        vertical-align: top;\n",
       "    }\n",
       "\n",
       "    .dataframe thead th {\n",
       "        text-align: right;\n",
       "    }\n",
       "</style>\n",
       "<table border=\"1\" class=\"dataframe\">\n",
       "  <thead>\n",
       "    <tr style=\"text-align: right;\">\n",
       "      <th></th>\n",
       "      <th>id</th>\n",
       "      <th>term</th>\n",
       "      <th>grade</th>\n",
       "      <th>sub_grade</th>\n",
       "      <th>emp_length</th>\n",
       "      <th>home_ownership</th>\n",
       "      <th>verification_status</th>\n",
       "      <th>issue_d</th>\n",
       "      <th>loan_status</th>\n",
       "      <th>pymnt_plan</th>\n",
       "      <th>...</th>\n",
       "      <th>num_il_tl</th>\n",
       "      <th>num_op_rev_tl</th>\n",
       "      <th>num_rev_accts</th>\n",
       "      <th>num_tl_90g_dpd_24m</th>\n",
       "      <th>num_tl_op_past_12m</th>\n",
       "      <th>pct_tl_nvr_dlq</th>\n",
       "      <th>percent_bc_gt_75</th>\n",
       "      <th>pub_rec_bankruptcies</th>\n",
       "      <th>tax_liens</th>\n",
       "      <th>total_bc_limit</th>\n",
       "    </tr>\n",
       "  </thead>\n",
       "  <tbody>\n",
       "    <tr>\n",
       "      <th>0</th>\n",
       "      <td>68407277</td>\n",
       "      <td>36 months</td>\n",
       "      <td>C</td>\n",
       "      <td>C4</td>\n",
       "      <td>10+ years</td>\n",
       "      <td>MORTGAGE</td>\n",
       "      <td>Not Verified</td>\n",
       "      <td>Dec-2015</td>\n",
       "      <td>Fully Paid</td>\n",
       "      <td>n</td>\n",
       "      <td>...</td>\n",
       "      <td>3.0</td>\n",
       "      <td>4.0</td>\n",
       "      <td>9.0</td>\n",
       "      <td>0.0</td>\n",
       "      <td>3.0</td>\n",
       "      <td>76.9</td>\n",
       "      <td>0.0</td>\n",
       "      <td>0.0</td>\n",
       "      <td>0.0</td>\n",
       "      <td>2400.0</td>\n",
       "    </tr>\n",
       "    <tr>\n",
       "      <th>1</th>\n",
       "      <td>68355089</td>\n",
       "      <td>36 months</td>\n",
       "      <td>C</td>\n",
       "      <td>C1</td>\n",
       "      <td>10+ years</td>\n",
       "      <td>MORTGAGE</td>\n",
       "      <td>Not Verified</td>\n",
       "      <td>Dec-2015</td>\n",
       "      <td>Fully Paid</td>\n",
       "      <td>n</td>\n",
       "      <td>...</td>\n",
       "      <td>6.0</td>\n",
       "      <td>20.0</td>\n",
       "      <td>27.0</td>\n",
       "      <td>0.0</td>\n",
       "      <td>2.0</td>\n",
       "      <td>97.4</td>\n",
       "      <td>7.7</td>\n",
       "      <td>0.0</td>\n",
       "      <td>0.0</td>\n",
       "      <td>79300.0</td>\n",
       "    </tr>\n",
       "    <tr>\n",
       "      <th>2</th>\n",
       "      <td>68341763</td>\n",
       "      <td>60 months</td>\n",
       "      <td>B</td>\n",
       "      <td>B4</td>\n",
       "      <td>10+ years</td>\n",
       "      <td>MORTGAGE</td>\n",
       "      <td>Not Verified</td>\n",
       "      <td>Dec-2015</td>\n",
       "      <td>Fully Paid</td>\n",
       "      <td>n</td>\n",
       "      <td>...</td>\n",
       "      <td>6.0</td>\n",
       "      <td>4.0</td>\n",
       "      <td>7.0</td>\n",
       "      <td>0.0</td>\n",
       "      <td>0.0</td>\n",
       "      <td>100.0</td>\n",
       "      <td>50.0</td>\n",
       "      <td>0.0</td>\n",
       "      <td>0.0</td>\n",
       "      <td>6200.0</td>\n",
       "    </tr>\n",
       "    <tr>\n",
       "      <th>4</th>\n",
       "      <td>68476807</td>\n",
       "      <td>60 months</td>\n",
       "      <td>F</td>\n",
       "      <td>F1</td>\n",
       "      <td>3 years</td>\n",
       "      <td>MORTGAGE</td>\n",
       "      <td>Source Verified</td>\n",
       "      <td>Dec-2015</td>\n",
       "      <td>Fully Paid</td>\n",
       "      <td>n</td>\n",
       "      <td>...</td>\n",
       "      <td>10.0</td>\n",
       "      <td>7.0</td>\n",
       "      <td>19.0</td>\n",
       "      <td>0.0</td>\n",
       "      <td>4.0</td>\n",
       "      <td>96.6</td>\n",
       "      <td>60.0</td>\n",
       "      <td>0.0</td>\n",
       "      <td>0.0</td>\n",
       "      <td>20300.0</td>\n",
       "    </tr>\n",
       "    <tr>\n",
       "      <th>5</th>\n",
       "      <td>68426831</td>\n",
       "      <td>36 months</td>\n",
       "      <td>C</td>\n",
       "      <td>C3</td>\n",
       "      <td>4 years</td>\n",
       "      <td>RENT</td>\n",
       "      <td>Source Verified</td>\n",
       "      <td>Dec-2015</td>\n",
       "      <td>Fully Paid</td>\n",
       "      <td>n</td>\n",
       "      <td>...</td>\n",
       "      <td>2.0</td>\n",
       "      <td>4.0</td>\n",
       "      <td>4.0</td>\n",
       "      <td>0.0</td>\n",
       "      <td>0.0</td>\n",
       "      <td>100.0</td>\n",
       "      <td>100.0</td>\n",
       "      <td>0.0</td>\n",
       "      <td>0.0</td>\n",
       "      <td>9400.0</td>\n",
       "    </tr>\n",
       "  </tbody>\n",
       "</table>\n",
       "<p>5 rows × 69 columns</p>\n",
       "</div>"
      ],
      "text/plain": [
       "         id        term grade sub_grade emp_length home_ownership  \\\n",
       "0  68407277   36 months     C        C4  10+ years       MORTGAGE   \n",
       "1  68355089   36 months     C        C1  10+ years       MORTGAGE   \n",
       "2  68341763   60 months     B        B4  10+ years       MORTGAGE   \n",
       "4  68476807   60 months     F        F1    3 years       MORTGAGE   \n",
       "5  68426831   36 months     C        C3    4 years           RENT   \n",
       "\n",
       "  verification_status   issue_d loan_status pymnt_plan  ... num_il_tl  \\\n",
       "0        Not Verified  Dec-2015  Fully Paid          n  ...       3.0   \n",
       "1        Not Verified  Dec-2015  Fully Paid          n  ...       6.0   \n",
       "2        Not Verified  Dec-2015  Fully Paid          n  ...       6.0   \n",
       "4     Source Verified  Dec-2015  Fully Paid          n  ...      10.0   \n",
       "5     Source Verified  Dec-2015  Fully Paid          n  ...       2.0   \n",
       "\n",
       "  num_op_rev_tl num_rev_accts num_tl_90g_dpd_24m num_tl_op_past_12m  \\\n",
       "0           4.0           9.0                0.0                3.0   \n",
       "1          20.0          27.0                0.0                2.0   \n",
       "2           4.0           7.0                0.0                0.0   \n",
       "4           7.0          19.0                0.0                4.0   \n",
       "5           4.0           4.0                0.0                0.0   \n",
       "\n",
       "  pct_tl_nvr_dlq percent_bc_gt_75 pub_rec_bankruptcies tax_liens  \\\n",
       "0           76.9              0.0                  0.0       0.0   \n",
       "1           97.4              7.7                  0.0       0.0   \n",
       "2          100.0             50.0                  0.0       0.0   \n",
       "4           96.6             60.0                  0.0       0.0   \n",
       "5          100.0            100.0                  0.0       0.0   \n",
       "\n",
       "  total_bc_limit  \n",
       "0         2400.0  \n",
       "1        79300.0  \n",
       "2         6200.0  \n",
       "4        20300.0  \n",
       "5         9400.0  \n",
       "\n",
       "[5 rows x 69 columns]"
      ]
     },
     "execution_count": 27,
     "metadata": {},
     "output_type": "execute_result"
    }
   ],
   "source": [
    "acc.drop(num_f, axis=1, inplace=True)\n",
    "acc[new_num_f] = acc_new_num\n",
    "acc.head()"
   ]
  },
  {
   "cell_type": "markdown",
   "metadata": {},
   "source": [
    "## 3.4.3 Categorical features"
   ]
  },
  {
   "cell_type": "markdown",
   "metadata": {},
   "source": [
    "#### List of categorical features "
   ]
  },
  {
   "cell_type": "code",
   "execution_count": 28,
   "metadata": {},
   "outputs": [
    {
     "data": {
      "text/plain": [
       "array(['id', 'term', 'grade', 'sub_grade', 'emp_length', 'home_ownership',\n",
       "       'verification_status', 'issue_d', 'loan_status', 'pymnt_plan',\n",
       "       'purpose', 'title', 'zip_code', 'addr_state', 'earliest_cr_line',\n",
       "       'initial_list_status', 'last_pymnt_d', 'last_credit_pull_d',\n",
       "       'hardship_flag', 'debt_settlement_flag'], dtype=object)"
      ]
     },
     "execution_count": 28,
     "metadata": {},
     "output_type": "execute_result"
    }
   ],
   "source": [
    "categorical_features = acc.select_dtypes('object').columns.values\n",
    "categorical_features"
   ]
  },
  {
   "cell_type": "code",
   "execution_count": 29,
   "metadata": {},
   "outputs": [
    {
     "data": {
      "text/html": [
       "<div>\n",
       "<style scoped>\n",
       "    .dataframe tbody tr th:only-of-type {\n",
       "        vertical-align: middle;\n",
       "    }\n",
       "\n",
       "    .dataframe tbody tr th {\n",
       "        vertical-align: top;\n",
       "    }\n",
       "\n",
       "    .dataframe thead th {\n",
       "        text-align: right;\n",
       "    }\n",
       "</style>\n",
       "<table border=\"1\" class=\"dataframe\">\n",
       "  <thead>\n",
       "    <tr style=\"text-align: right;\">\n",
       "      <th></th>\n",
       "      <th>0</th>\n",
       "      <th>1</th>\n",
       "      <th>2</th>\n",
       "      <th>4</th>\n",
       "      <th>5</th>\n",
       "    </tr>\n",
       "  </thead>\n",
       "  <tbody>\n",
       "    <tr>\n",
       "      <th>id</th>\n",
       "      <td>68407277</td>\n",
       "      <td>68355089</td>\n",
       "      <td>68341763</td>\n",
       "      <td>68476807</td>\n",
       "      <td>68426831</td>\n",
       "    </tr>\n",
       "    <tr>\n",
       "      <th>term</th>\n",
       "      <td>36 months</td>\n",
       "      <td>36 months</td>\n",
       "      <td>60 months</td>\n",
       "      <td>60 months</td>\n",
       "      <td>36 months</td>\n",
       "    </tr>\n",
       "    <tr>\n",
       "      <th>grade</th>\n",
       "      <td>C</td>\n",
       "      <td>C</td>\n",
       "      <td>B</td>\n",
       "      <td>F</td>\n",
       "      <td>C</td>\n",
       "    </tr>\n",
       "    <tr>\n",
       "      <th>sub_grade</th>\n",
       "      <td>C4</td>\n",
       "      <td>C1</td>\n",
       "      <td>B4</td>\n",
       "      <td>F1</td>\n",
       "      <td>C3</td>\n",
       "    </tr>\n",
       "    <tr>\n",
       "      <th>emp_length</th>\n",
       "      <td>10+ years</td>\n",
       "      <td>10+ years</td>\n",
       "      <td>10+ years</td>\n",
       "      <td>3 years</td>\n",
       "      <td>4 years</td>\n",
       "    </tr>\n",
       "    <tr>\n",
       "      <th>home_ownership</th>\n",
       "      <td>MORTGAGE</td>\n",
       "      <td>MORTGAGE</td>\n",
       "      <td>MORTGAGE</td>\n",
       "      <td>MORTGAGE</td>\n",
       "      <td>RENT</td>\n",
       "    </tr>\n",
       "    <tr>\n",
       "      <th>verification_status</th>\n",
       "      <td>Not Verified</td>\n",
       "      <td>Not Verified</td>\n",
       "      <td>Not Verified</td>\n",
       "      <td>Source Verified</td>\n",
       "      <td>Source Verified</td>\n",
       "    </tr>\n",
       "    <tr>\n",
       "      <th>issue_d</th>\n",
       "      <td>Dec-2015</td>\n",
       "      <td>Dec-2015</td>\n",
       "      <td>Dec-2015</td>\n",
       "      <td>Dec-2015</td>\n",
       "      <td>Dec-2015</td>\n",
       "    </tr>\n",
       "    <tr>\n",
       "      <th>loan_status</th>\n",
       "      <td>Fully Paid</td>\n",
       "      <td>Fully Paid</td>\n",
       "      <td>Fully Paid</td>\n",
       "      <td>Fully Paid</td>\n",
       "      <td>Fully Paid</td>\n",
       "    </tr>\n",
       "    <tr>\n",
       "      <th>pymnt_plan</th>\n",
       "      <td>n</td>\n",
       "      <td>n</td>\n",
       "      <td>n</td>\n",
       "      <td>n</td>\n",
       "      <td>n</td>\n",
       "    </tr>\n",
       "    <tr>\n",
       "      <th>purpose</th>\n",
       "      <td>debt_consolidation</td>\n",
       "      <td>small_business</td>\n",
       "      <td>home_improvement</td>\n",
       "      <td>major_purchase</td>\n",
       "      <td>debt_consolidation</td>\n",
       "    </tr>\n",
       "    <tr>\n",
       "      <th>title</th>\n",
       "      <td>Debt consolidation</td>\n",
       "      <td>Business</td>\n",
       "      <td>NaN</td>\n",
       "      <td>Major purchase</td>\n",
       "      <td>Debt consolidation</td>\n",
       "    </tr>\n",
       "    <tr>\n",
       "      <th>zip_code</th>\n",
       "      <td>190xx</td>\n",
       "      <td>577xx</td>\n",
       "      <td>605xx</td>\n",
       "      <td>174xx</td>\n",
       "      <td>300xx</td>\n",
       "    </tr>\n",
       "    <tr>\n",
       "      <th>addr_state</th>\n",
       "      <td>PA</td>\n",
       "      <td>SD</td>\n",
       "      <td>IL</td>\n",
       "      <td>PA</td>\n",
       "      <td>GA</td>\n",
       "    </tr>\n",
       "    <tr>\n",
       "      <th>earliest_cr_line</th>\n",
       "      <td>Aug-2003</td>\n",
       "      <td>Dec-1999</td>\n",
       "      <td>Aug-2000</td>\n",
       "      <td>Jun-1998</td>\n",
       "      <td>Oct-1987</td>\n",
       "    </tr>\n",
       "    <tr>\n",
       "      <th>initial_list_status</th>\n",
       "      <td>w</td>\n",
       "      <td>w</td>\n",
       "      <td>w</td>\n",
       "      <td>w</td>\n",
       "      <td>w</td>\n",
       "    </tr>\n",
       "    <tr>\n",
       "      <th>last_pymnt_d</th>\n",
       "      <td>Jan-2019</td>\n",
       "      <td>Jun-2016</td>\n",
       "      <td>Jun-2017</td>\n",
       "      <td>Jul-2016</td>\n",
       "      <td>May-2017</td>\n",
       "    </tr>\n",
       "    <tr>\n",
       "      <th>last_credit_pull_d</th>\n",
       "      <td>Mar-2019</td>\n",
       "      <td>Mar-2019</td>\n",
       "      <td>Mar-2019</td>\n",
       "      <td>Mar-2018</td>\n",
       "      <td>May-2017</td>\n",
       "    </tr>\n",
       "    <tr>\n",
       "      <th>hardship_flag</th>\n",
       "      <td>N</td>\n",
       "      <td>N</td>\n",
       "      <td>N</td>\n",
       "      <td>N</td>\n",
       "      <td>N</td>\n",
       "    </tr>\n",
       "    <tr>\n",
       "      <th>debt_settlement_flag</th>\n",
       "      <td>N</td>\n",
       "      <td>N</td>\n",
       "      <td>N</td>\n",
       "      <td>N</td>\n",
       "      <td>N</td>\n",
       "    </tr>\n",
       "  </tbody>\n",
       "</table>\n",
       "</div>"
      ],
      "text/plain": [
       "                                       0               1                 2  \\\n",
       "id                              68407277        68355089          68341763   \n",
       "term                           36 months       36 months         60 months   \n",
       "grade                                  C               C                 B   \n",
       "sub_grade                             C4              C1                B4   \n",
       "emp_length                     10+ years       10+ years         10+ years   \n",
       "home_ownership                  MORTGAGE        MORTGAGE          MORTGAGE   \n",
       "verification_status         Not Verified    Not Verified      Not Verified   \n",
       "issue_d                         Dec-2015        Dec-2015          Dec-2015   \n",
       "loan_status                   Fully Paid      Fully Paid        Fully Paid   \n",
       "pymnt_plan                             n               n                 n   \n",
       "purpose               debt_consolidation  small_business  home_improvement   \n",
       "title                 Debt consolidation        Business               NaN   \n",
       "zip_code                           190xx           577xx             605xx   \n",
       "addr_state                            PA              SD                IL   \n",
       "earliest_cr_line                Aug-2003        Dec-1999          Aug-2000   \n",
       "initial_list_status                    w               w                 w   \n",
       "last_pymnt_d                    Jan-2019        Jun-2016          Jun-2017   \n",
       "last_credit_pull_d              Mar-2019        Mar-2019          Mar-2019   \n",
       "hardship_flag                          N               N                 N   \n",
       "debt_settlement_flag                   N               N                 N   \n",
       "\n",
       "                                    4                   5  \n",
       "id                           68476807            68426831  \n",
       "term                        60 months           36 months  \n",
       "grade                               F                   C  \n",
       "sub_grade                          F1                  C3  \n",
       "emp_length                    3 years             4 years  \n",
       "home_ownership               MORTGAGE                RENT  \n",
       "verification_status   Source Verified     Source Verified  \n",
       "issue_d                      Dec-2015            Dec-2015  \n",
       "loan_status                Fully Paid          Fully Paid  \n",
       "pymnt_plan                          n                   n  \n",
       "purpose                major_purchase  debt_consolidation  \n",
       "title                  Major purchase  Debt consolidation  \n",
       "zip_code                        174xx               300xx  \n",
       "addr_state                         PA                  GA  \n",
       "earliest_cr_line             Jun-1998            Oct-1987  \n",
       "initial_list_status                 w                   w  \n",
       "last_pymnt_d                 Jul-2016            May-2017  \n",
       "last_credit_pull_d           Mar-2018            May-2017  \n",
       "hardship_flag                       N                   N  \n",
       "debt_settlement_flag                N                   N  "
      ]
     },
     "execution_count": 29,
     "metadata": {},
     "output_type": "execute_result"
    }
   ],
   "source": [
    "acc[categorical_features].head().T"
   ]
  },
  {
   "cell_type": "markdown",
   "metadata": {},
   "source": [
    "#### Convert some categorical featurs to numeric"
   ]
  },
  {
   "cell_type": "code",
   "execution_count": 30,
   "metadata": {},
   "outputs": [
    {
     "data": {
      "text/plain": [
       "array(['10+ years', '3 years', '4 years', '6 years', '7 years', '8 years',\n",
       "       '2 years', '5 years', '9 years', '< 1 year', '1 year', nan],\n",
       "      dtype=object)"
      ]
     },
     "execution_count": 30,
     "metadata": {},
     "output_type": "execute_result"
    }
   ],
   "source": [
    "acc['emp_length'].unique()"
   ]
  },
  {
   "cell_type": "code",
   "execution_count": 31,
   "metadata": {},
   "outputs": [
    {
     "data": {
      "text/plain": [
       "10.0    442199\n",
       "2.0     121743\n",
       "3.0     107597\n",
       "1.0      88494\n",
       "5.0      84154\n",
       "4.0      80556\n",
       "0.0      78511\n",
       "6.0      62733\n",
       "8.0      60701\n",
       "7.0      59624\n",
       "9.0      50937\n",
       "Name: emp_length, dtype: int64"
      ]
     },
     "execution_count": 31,
     "metadata": {},
     "output_type": "execute_result"
    }
   ],
   "source": [
    "# convert empl_lenght to num\n",
    "acc['emp_length'] = acc['emp_length'].str.replace(' years','')\n",
    "acc['emp_length'] = acc['emp_length'].str.replace('+','')\n",
    "acc['emp_length'] = acc['emp_length'].str.replace('<  ','')\n",
    "acc['emp_length'] = acc['emp_length'].str.replace(' year','')\n",
    "acc['emp_length']= acc['emp_length'].fillna(0)\n",
    "\n",
    "acc['emp_length'] = pd.to_numeric(acc['emp_length'], errors='coerce')\n",
    "acc['emp_length'].value_counts()\n"
   ]
  },
  {
   "cell_type": "code",
   "execution_count": 32,
   "metadata": {},
   "outputs": [
    {
     "data": {
      "text/plain": [
       " 36 months    1020743\n",
       " 60 months     324567\n",
       "Name: term, dtype: int64"
      ]
     },
     "execution_count": 32,
     "metadata": {},
     "output_type": "execute_result"
    }
   ],
   "source": [
    "acc['term'].value_counts()"
   ]
  },
  {
   "cell_type": "code",
   "execution_count": 33,
   "metadata": {},
   "outputs": [
    {
     "data": {
      "text/plain": [
       "36    1020743\n",
       "60     324567\n",
       "Name: term, dtype: int64"
      ]
     },
     "execution_count": 33,
     "metadata": {},
     "output_type": "execute_result"
    }
   ],
   "source": [
    "#convert term to num\n",
    "acc['term'] = acc['term'].str.replace(' months','')\n",
    "acc['term'] = pd.to_numeric(acc['term'], errors='coerce')\n",
    "acc['term'].value_counts()"
   ]
  },
  {
   "cell_type": "markdown",
   "metadata": {},
   "source": [
    "For the furthere data create a 'Year' column with the loan issued year values"
   ]
  },
  {
   "cell_type": "code",
   "execution_count": 34,
   "metadata": {},
   "outputs": [
    {
     "data": {
      "text/plain": [
       "2015    375545\n",
       "2016    293095\n",
       "2014    223102\n",
       "2017    169300\n",
       "2013    134804\n",
       "2018     56311\n",
       "2012     53367\n",
       "2011     21721\n",
       "2010     11536\n",
       "2009      4716\n",
       "2008      1562\n",
       "2007       251\n",
       "Name: year, dtype: int64"
      ]
     },
     "execution_count": 34,
     "metadata": {},
     "output_type": "execute_result"
    }
   ],
   "source": [
    "# convert date string to datetime \n",
    "dt_tmp=pd.to_datetime(acc['issue_d'])\n",
    "\n",
    "# add column year (for the data analysis)\n",
    "acc['year']=pd.to_datetime(dt_tmp).dt.strftime(\"%Y\").dropna(axis=0)\n",
    "acc['year'].value_counts()"
   ]
  },
  {
   "cell_type": "markdown",
   "metadata": {},
   "source": [
    "#### Object date value features "
   ]
  },
  {
   "cell_type": "markdown",
   "metadata": {},
   "source": [
    "According to Lending Club data dictionary https://resources.lendingclub.com/LCDataDictionary.xlsx \n",
    "the following datetime feature are irrelevant or unknown by the time of a loan\n"
   ]
  },
  {
   "cell_type": "code",
   "execution_count": 35,
   "metadata": {},
   "outputs": [],
   "source": [
    "#acc['issue_d'] = pd.to_datetime(acc['issue_d'], infer_datetime_format=True)\n",
    "\n",
    "dt_features = ['issue_d', # we already pull the year value from this feature so we can drop it\n",
    "            'last_pymnt_d' , #won't know at time of loan\n",
    "            'earliest_cr_line' ,#irrelevant\n",
    "             'last_credit_pull_d' #won't know at time of loan\n",
    "              ]"
   ]
  },
  {
   "cell_type": "code",
   "execution_count": 36,
   "metadata": {},
   "outputs": [],
   "source": [
    "acc.drop(dt_features, axis=1, inplace=True)"
   ]
  },
  {
   "cell_type": "markdown",
   "metadata": {},
   "source": [
    "#### Print the categorical columns and their associated levels."
   ]
  },
  {
   "cell_type": "code",
   "execution_count": 37,
   "metadata": {},
   "outputs": [
    {
     "name": "stdout",
     "output_type": "stream",
     "text": [
      "(1345310, 15)\n"
     ]
    },
    {
     "data": {
      "text/html": [
       "<div>\n",
       "<style scoped>\n",
       "    .dataframe tbody tr th:only-of-type {\n",
       "        vertical-align: middle;\n",
       "    }\n",
       "\n",
       "    .dataframe tbody tr th {\n",
       "        vertical-align: top;\n",
       "    }\n",
       "\n",
       "    .dataframe thead th {\n",
       "        text-align: right;\n",
       "    }\n",
       "</style>\n",
       "<table border=\"1\" class=\"dataframe\">\n",
       "  <thead>\n",
       "    <tr style=\"text-align: right;\">\n",
       "      <th></th>\n",
       "      <th>VarName</th>\n",
       "      <th>LevelsCount</th>\n",
       "    </tr>\n",
       "  </thead>\n",
       "  <tbody>\n",
       "    <tr>\n",
       "      <th>0</th>\n",
       "      <td>id</td>\n",
       "      <td>1345310</td>\n",
       "    </tr>\n",
       "    <tr>\n",
       "      <th>1</th>\n",
       "      <td>grade</td>\n",
       "      <td>7</td>\n",
       "    </tr>\n",
       "    <tr>\n",
       "      <th>2</th>\n",
       "      <td>sub_grade</td>\n",
       "      <td>35</td>\n",
       "    </tr>\n",
       "    <tr>\n",
       "      <th>3</th>\n",
       "      <td>home_ownership</td>\n",
       "      <td>6</td>\n",
       "    </tr>\n",
       "    <tr>\n",
       "      <th>4</th>\n",
       "      <td>verification_status</td>\n",
       "      <td>3</td>\n",
       "    </tr>\n",
       "    <tr>\n",
       "      <th>5</th>\n",
       "      <td>loan_status</td>\n",
       "      <td>2</td>\n",
       "    </tr>\n",
       "    <tr>\n",
       "      <th>6</th>\n",
       "      <td>pymnt_plan</td>\n",
       "      <td>1</td>\n",
       "    </tr>\n",
       "    <tr>\n",
       "      <th>7</th>\n",
       "      <td>purpose</td>\n",
       "      <td>14</td>\n",
       "    </tr>\n",
       "    <tr>\n",
       "      <th>8</th>\n",
       "      <td>title</td>\n",
       "      <td>61682</td>\n",
       "    </tr>\n",
       "    <tr>\n",
       "      <th>9</th>\n",
       "      <td>zip_code</td>\n",
       "      <td>943</td>\n",
       "    </tr>\n",
       "    <tr>\n",
       "      <th>10</th>\n",
       "      <td>addr_state</td>\n",
       "      <td>51</td>\n",
       "    </tr>\n",
       "    <tr>\n",
       "      <th>11</th>\n",
       "      <td>initial_list_status</td>\n",
       "      <td>2</td>\n",
       "    </tr>\n",
       "    <tr>\n",
       "      <th>12</th>\n",
       "      <td>hardship_flag</td>\n",
       "      <td>1</td>\n",
       "    </tr>\n",
       "    <tr>\n",
       "      <th>13</th>\n",
       "      <td>debt_settlement_flag</td>\n",
       "      <td>2</td>\n",
       "    </tr>\n",
       "    <tr>\n",
       "      <th>14</th>\n",
       "      <td>year</td>\n",
       "      <td>12</td>\n",
       "    </tr>\n",
       "  </tbody>\n",
       "</table>\n",
       "</div>"
      ],
      "text/plain": [
       "                 VarName  LevelsCount\n",
       "0                     id      1345310\n",
       "1                  grade            7\n",
       "2              sub_grade           35\n",
       "3         home_ownership            6\n",
       "4    verification_status            3\n",
       "5            loan_status            2\n",
       "6             pymnt_plan            1\n",
       "7                purpose           14\n",
       "8                  title        61682\n",
       "9               zip_code          943\n",
       "10            addr_state           51\n",
       "11   initial_list_status            2\n",
       "12         hardship_flag            1\n",
       "13  debt_settlement_flag            2\n",
       "14                  year           12"
      ]
     },
     "execution_count": 37,
     "metadata": {},
     "output_type": "execute_result"
    }
   ],
   "source": [
    "dfo = acc.select_dtypes(include=['object'], exclude=['datetime'])\n",
    "print(dfo.shape)\n",
    "#get levels for all variables\n",
    "vn = pd.DataFrame(dfo.nunique()).reset_index()\n",
    "vn.columns = ['VarName', 'LevelsCount']\n",
    "vn.sort_values(by='LevelsCount', ascending =False)\n",
    "vn"
   ]
  },
  {
   "cell_type": "markdown",
   "metadata": {},
   "source": [
    "#### Drop categorical features with many levels."
   ]
  },
  {
   "cell_type": "code",
   "execution_count": 38,
   "metadata": {},
   "outputs": [],
   "source": [
    "acc.drop(['id', 'zip_code', 'title'], axis=1, inplace=True)"
   ]
  },
  {
   "cell_type": "markdown",
   "metadata": {},
   "source": [
    "Review other categorical features:"
   ]
  },
  {
   "cell_type": "code",
   "execution_count": 39,
   "metadata": {},
   "outputs": [
    {
     "data": {
      "text/plain": [
       "array(['w', 'f'], dtype=object)"
      ]
     },
     "execution_count": 39,
     "metadata": {},
     "output_type": "execute_result"
    }
   ],
   "source": [
    "acc['initial_list_status'].unique()"
   ]
  },
  {
   "cell_type": "markdown",
   "metadata": {},
   "source": [
    "initial_list_status  - additional data from the site that can be used to identify whether each loan was funded through the “whole” or “fractional” program, which is irrelevant to our problem"
   ]
  },
  {
   "cell_type": "markdown",
   "metadata": {},
   "source": [
    "hardship_flag, pymnt_plan are constants"
   ]
  },
  {
   "cell_type": "code",
   "execution_count": 40,
   "metadata": {},
   "outputs": [],
   "source": [
    "acc.drop(['hardship_flag', 'initial_list_status', 'pymnt_plan'], axis=1, inplace=True)"
   ]
  },
  {
   "cell_type": "code",
   "execution_count": 41,
   "metadata": {},
   "outputs": [
    {
     "data": {
      "text/plain": [
       "(1345310, 60)"
      ]
     },
     "execution_count": 41,
     "metadata": {},
     "output_type": "execute_result"
    }
   ],
   "source": [
    "acc.shape"
   ]
  },
  {
   "cell_type": "markdown",
   "metadata": {},
   "source": [
    "# 3.5 Explore The Data"
   ]
  },
  {
   "cell_type": "markdown",
   "metadata": {},
   "source": [
    "#### Information on loans status"
   ]
  },
  {
   "cell_type": "markdown",
   "metadata": {},
   "source": [
    "We know the number of repaid and charged off loans (see above)\n",
    "Let's plot the percentage of 'Fully Paid' vs 'Charged Off' loans and how loans were distributed by loan atatus over the years"
   ]
  },
  {
   "cell_type": "code",
   "execution_count": 42,
   "metadata": {},
   "outputs": [
    {
     "data": {
      "text/plain": [
       "[Text(0, 0.5, '(%)')]"
      ]
     },
     "execution_count": 42,
     "metadata": {},
     "output_type": "execute_result"
    },
    {
     "data": {
      "image/png": "[encoded data removed]",
      "text/plain": [
       "<Figure size 1152x576 with 2 Axes>"
      ]
     },
     "metadata": {
      "needs_background": "light"
     },
     "output_type": "display_data"
    }
   ],
   "source": [
    "f, ax = plt.subplots(1,2, figsize=(16,8))\n",
    "\n",
    "colors = [\"blue\", \"red\"]\n",
    "labels =\"Fully Paid\", \"Charged off\"\n",
    "\n",
    "plt.suptitle('Information on Loan Status', fontsize=20)\n",
    "\n",
    "acc[\"loan_status\"].value_counts().plot.pie(explode=[0,0.25], autopct='%1.2f%%', ax=ax[0], shadow=True, colors=colors, \n",
    "                                             labels=labels, fontsize=12, startangle=70)\n",
    "\n",
    "\n",
    "# ax[0].set_title('State of Loan', fontsize=16)\n",
    "ax[0].set_ylabel('% of Condition of Loans', fontsize=14)\n",
    "\n",
    "# sns.countplot('loan_condition', data=acc, ax=ax[1], palette=colors)\n",
    "# ax[1].set_title('Condition of Loans', fontsize=20)\n",
    "# ax[1].set_xticklabels(['Good', 'Bad'], rotation='horizontal')\n",
    "#palette = [\"#3791D7\", \"#E01E1B\"]\n",
    "palette = [\"blue\", \"red\"]\n",
    "\n",
    "sns.barplot(x=\"year\", y=\"loan_amnt\", hue=\"loan_status\", data=acc, palette=palette, estimator=lambda x: len(x) / len(acc) * 100)\n",
    "ax[1].set(ylabel=\"(%)\")\n"
   ]
  },
  {
   "cell_type": "markdown",
   "metadata": {},
   "source": [
    "Over the years more hen 80% of all loans were fully repaid"
   ]
  },
  {
   "cell_type": "markdown",
   "metadata": {},
   "source": [
    "#### 'Fully Paid' and 'Charged off' loans by years"
   ]
  },
  {
   "cell_type": "code",
   "execution_count": 43,
   "metadata": {},
   "outputs": [
    {
     "data": {
      "text/plain": [
       "year  loan_status\n",
       "2007  Fully Paid        206\n",
       "      Charged Off        45\n",
       "2008  Fully Paid       1315\n",
       "      Charged Off       247\n",
       "2009  Fully Paid       4122\n",
       "      Charged Off       594\n",
       "2010  Fully Paid      10049\n",
       "      Charged Off      1487\n",
       "2011  Fully Paid      18424\n",
       "      Charged Off      3297\n",
       "2012  Fully Paid      44723\n",
       "      Charged Off      8644\n",
       "2013  Fully Paid     113780\n",
       "      Charged Off     21024\n",
       "2014  Fully Paid     181941\n",
       "      Charged Off     41161\n",
       "2015  Fully Paid     299742\n",
       "      Charged Off     75803\n",
       "2016  Fully Paid     224853\n",
       "      Charged Off     68242\n",
       "2017  Fully Paid     130152\n",
       "      Charged Off     39148\n",
       "2018  Fully Paid      47444\n",
       "      Charged Off      8867\n",
       "Name: loan_status, dtype: int64"
      ]
     },
     "execution_count": 43,
     "metadata": {},
     "output_type": "execute_result"
    }
   ],
   "source": [
    "acc.groupby('year')['loan_status'].value_counts()"
   ]
  },
  {
   "cell_type": "markdown",
   "metadata": {},
   "source": [
    "### 3.5.1 Approved loans features analysis"
   ]
  },
  {
   "cell_type": "markdown",
   "metadata": {},
   "source": [
    "#### Analisys of characteristics that could affect the most the loans approval, the loan terms and conditions, loan classification by grade"
   ]
  },
  {
   "cell_type": "markdown",
   "metadata": {},
   "source": [
    "Check if there is a dependencies between loan amounts and loan statuses. If 'Charged Off' loans have higher loan amounts"
   ]
  },
  {
   "cell_type": "markdown",
   "metadata": {},
   "source": [
    "### Loan Status vs. Loan amount"
   ]
  },
  {
   "cell_type": "code",
   "execution_count": 44,
   "metadata": {},
   "outputs": [
    {
     "data": {
      "image/png": "[encoded data removed]",
      "text/plain": [
       "<Figure size 432x288 with 1 Axes>"
      ]
     },
     "metadata": {
      "needs_background": "light"
     },
     "output_type": "display_data"
    }
   ],
   "source": [
    "sns.boxplot(x= \"loan_status\", y=\"loan_amnt\", data=acc)\n",
    "plt.show() "
   ]
  },
  {
   "cell_type": "markdown",
   "metadata": {},
   "source": [
    "There is no significant difference in loan amounts for repaid and charges off loans."
   ]
  },
  {
   "cell_type": "markdown",
   "metadata": {},
   "source": [
    "### Loan amount distribution"
   ]
  },
  {
   "cell_type": "code",
   "execution_count": 45,
   "metadata": {},
   "outputs": [
    {
     "data": {
      "image/png": "[encoded data removed]",
      "text/plain": [
       "<Figure size 432x288 with 1 Axes>"
      ]
     },
     "metadata": {
      "needs_background": "light"
     },
     "output_type": "display_data"
    }
   ],
   "source": [
    "acc.loan_amnt.hist()\n",
    "plt.xlabel('Loan amount')\n",
    "plt.ylabel('count');"
   ]
  },
  {
   "cell_type": "code",
   "execution_count": 46,
   "metadata": {},
   "outputs": [
    {
     "data": {
      "text/plain": [
       "14419.972013885275"
      ]
     },
     "execution_count": 46,
     "metadata": {},
     "output_type": "execute_result"
    }
   ],
   "source": [
    "acc['loan_amnt'].mean()"
   ]
  },
  {
   "cell_type": "markdown",
   "metadata": {},
   "source": [
    "Min loan amount is 1,000USD max 40,000USD with the average loan amount 14,400USD\n",
    "Most of the loans are less then 20,000USD"
   ]
  },
  {
   "cell_type": "markdown",
   "metadata": {},
   "source": [
    "I assume that loan astaus could depend on loan interest rate. The loans with lower rates most likely to be repaid"
   ]
  },
  {
   "cell_type": "markdown",
   "metadata": {},
   "source": [
    "### Loan status vs. Interest rates"
   ]
  },
  {
   "cell_type": "code",
   "execution_count": 47,
   "metadata": {},
   "outputs": [
    {
     "data": {
      "image/png": "[encoded data removed]",
      "text/plain": [
       "<Figure size 432x288 with 1 Axes>"
      ]
     },
     "metadata": {
      "needs_background": "light"
     },
     "output_type": "display_data"
    }
   ],
   "source": [
    "sns.boxplot(x= \"loan_status\", y=\"int_rate\", data=acc)\n",
    "plt.show() "
   ]
  },
  {
   "cell_type": "markdown",
   "metadata": {},
   "source": [
    "Our dataset contains loans with the interest rates as low as 7% and as high as 30%\n",
    "According to our box plot the loans with lower interest rate more likely to be fully paid"
   ]
  },
  {
   "cell_type": "markdown",
   "metadata": {},
   "source": [
    "### Loan status vs. Employment length"
   ]
  },
  {
   "cell_type": "code",
   "execution_count": 48,
   "metadata": {},
   "outputs": [
    {
     "data": {
      "image/png": "[encoded data removed]",
      "text/plain": [
       "<Figure size 432x288 with 1 Axes>"
      ]
     },
     "metadata": {
      "needs_background": "light"
     },
     "output_type": "display_data"
    }
   ],
   "source": [
    "sns.boxplot(y= \"loan_status\", x=\"emp_length\", data=acc, )\n",
    "plt.show() "
   ]
  },
  {
   "cell_type": "markdown",
   "metadata": {},
   "source": [
    "The boxplot displays that there is no significant difference in loan status vs employment lengnth"
   ]
  },
  {
   "cell_type": "markdown",
   "metadata": {},
   "source": [
    "### Statistisc of Employment length"
   ]
  },
  {
   "cell_type": "code",
   "execution_count": 49,
   "metadata": {},
   "outputs": [
    {
     "data": {
      "image/png": "[encoded data removed]",
      "text/plain": [
       "<Figure size 432x288 with 1 Axes>"
      ]
     },
     "metadata": {
      "needs_background": "light"
     },
     "output_type": "display_data"
    }
   ],
   "source": [
    "acc.emp_length.hist(bins=5)\n",
    "plt.xlabel('Employment length')\n",
    "plt.ylabel('count');"
   ]
  },
  {
   "cell_type": "markdown",
   "metadata": {},
   "source": [
    "Most of the borrowers have more then 8 years of employment lenght. That is explains the previous boxplot"
   ]
  },
  {
   "cell_type": "markdown",
   "metadata": {},
   "source": [
    "### Average Interest rate by Credit Score"
   ]
  },
  {
   "cell_type": "markdown",
   "metadata": {},
   "source": [
    "Let's see how the loan interest rate depends on borower's credit score. The expectations are the higher a credit score the lower the interest rate"
   ]
  },
  {
   "cell_type": "code",
   "execution_count": 50,
   "metadata": {},
   "outputs": [
    {
     "data": {
      "text/plain": [
       "<matplotlib.legend.Legend at 0x1d420981c40>"
      ]
     },
     "execution_count": 50,
     "metadata": {},
     "output_type": "execute_result"
    },
    {
     "data": {
      "image/png": "[encoded data removed]",
      "text/plain": [
       "<Figure size 1152x864 with 1 Axes>"
      ]
     },
     "metadata": {
      "needs_background": "light"
     },
     "output_type": "display_data"
    }
   ],
   "source": [
    "fig = plt.figure(figsize=(16,12))\n",
    "\n",
    "ax1 = fig.add_subplot(221)\n",
    "\n",
    "cmap = plt.cm.coolwarm_r\n",
    "interest_rate = acc.groupby(['year', 'fico_range_low']).int_rate.mean()\n",
    "interest_rate.unstack().plot(ax=ax1, colormap=cmap)\n",
    "ax1.set_title('Interest rate by Credit Score', fontsize=14)\n",
    "ax1.set_ylabel('Interest Rate (%)', fontsize=12)\n",
    "\n",
    "ax1.legend(bbox_to_anchor=(-0.3, -0.3, 1.7, 0.1), loc=0, prop={'size':12}, ncol=10, mode=\"expand\", borderaxespad=0.)\n"
   ]
  },
  {
   "cell_type": "markdown",
   "metadata": {},
   "source": [
    "The plot above shows thet tborowers with the higher credit score have lower interest rate"
   ]
  },
  {
   "cell_type": "markdown",
   "metadata": {},
   "source": [
    "### Dependencies between the loan_status and the grade"
   ]
  },
  {
   "cell_type": "markdown",
   "metadata": {},
   "source": [
    "Loan grading is a classification system that involves assigning a quality score to a loan based on a borrower's credit history, quality of the collateral, and the likelihood of repayment of the principal and interest.\n",
    "\n",
    "We have 6 types od the grades from 'A' (highest) to 'G'(lowest).\n",
    "\n",
    "The total number of loans by grades:"
   ]
  },
  {
   "cell_type": "code",
   "execution_count": 51,
   "metadata": {},
   "outputs": [
    {
     "data": {
      "text/plain": [
       "B    392741\n",
       "C    381686\n",
       "A    235090\n",
       "D    200953\n",
       "E     93650\n",
       "F     32058\n",
       "G      9132\n",
       "Name: grade, dtype: int64"
      ]
     },
     "execution_count": 51,
     "metadata": {},
     "output_type": "execute_result"
    }
   ],
   "source": [
    "acc['grade'].value_counts(dropna=False, ascending = False)"
   ]
  },
  {
   "cell_type": "markdown",
   "metadata": {},
   "source": [
    "### Fully paid and Charged off loans by Grades"
   ]
  },
  {
   "cell_type": "markdown",
   "metadata": {},
   "source": [
    "Here is the numbers of loans that were fully repaid/charged off by grades"
   ]
  },
  {
   "cell_type": "code",
   "execution_count": 52,
   "metadata": {},
   "outputs": [
    {
     "data": {
      "text/plain": [
       "grade  loan_status\n",
       "A      Fully Paid     220889\n",
       "       Charged Off     14201\n",
       "B      Fully Paid     340172\n",
       "       Charged Off     52569\n",
       "C      Fully Paid     296037\n",
       "       Charged Off     85649\n",
       "D      Fully Paid     139899\n",
       "       Charged Off     61054\n",
       "E      Fully Paid      57615\n",
       "       Charged Off     36035\n",
       "F      Fully Paid      17567\n",
       "       Charged Off     14491\n",
       "G      Fully Paid       4572\n",
       "       Charged Off      4560\n",
       "Name: loan_status, dtype: int64"
      ]
     },
     "execution_count": 52,
     "metadata": {},
     "output_type": "execute_result"
    }
   ],
   "source": [
    "acc.groupby('grade')['loan_status'].value_counts()"
   ]
  },
  {
   "cell_type": "markdown",
   "metadata": {},
   "source": [
    "As we can see above that the ratio of higher grades (less risky) loans higher than lower grades (more risky) loans. \n",
    "Let's plot it."
   ]
  },
  {
   "cell_type": "markdown",
   "metadata": {},
   "source": [
    "### Loan statuses by Grade"
   ]
  },
  {
   "cell_type": "code",
   "execution_count": 53,
   "metadata": {},
   "outputs": [
    {
     "data": {
      "text/plain": [
       "Text(0.5, 1.0, 'Loan statuses by Grade')"
      ]
     },
     "execution_count": 53,
     "metadata": {},
     "output_type": "execute_result"
    },
    {
     "data": {
      "image/png": "[encoded data removed]",
      "text/plain": [
       "<Figure size 1152x864 with 1 Axes>"
      ]
     },
     "metadata": {
      "needs_background": "light"
     },
     "output_type": "display_data"
    }
   ],
   "source": [
    "fig = plt.figure(figsize=(16,12))\n",
    "\n",
    "ax1 = fig.add_subplot(221)\n",
    "cmap = plt.cm.coolwarm_r\n",
    "\n",
    "loans_by_grade = acc.groupby(['grade', 'loan_status']).size()\n",
    "loans_by_grade.unstack().plot(kind='bar', stacked=True, colormap=cmap, ax=ax1, grid=False)\n",
    "ax1.set_title('Loan statuses by Grade', fontsize=14)\n",
    "\n",
    "\n",
    "#fp_a = acc.loc[(acc['loan_status'] =='Fully Paid') & (acc['grade'] == 'A')].count()\n"
   ]
  },
  {
   "cell_type": "markdown",
   "metadata": {},
   "source": [
    "We also expect that the interest rate will depend on the loan grade. The lower grade loans should have the higher interest rate.\n",
    "\n"
   ]
  },
  {
   "cell_type": "markdown",
   "metadata": {},
   "source": [
    "### Average interest rate by Grades"
   ]
  },
  {
   "cell_type": "code",
   "execution_count": 54,
   "metadata": {},
   "outputs": [
    {
     "data": {
      "text/plain": [
       "Text(0, 0.5, 'Interest Rate (%)')"
      ]
     },
     "execution_count": 54,
     "metadata": {},
     "output_type": "execute_result"
    },
    {
     "data": {
      "image/png": "[encoded data removed]",
      "text/plain": [
       "<Figure size 1152x864 with 1 Axes>"
      ]
     },
     "metadata": {
      "needs_background": "light"
     },
     "output_type": "display_data"
    }
   ],
   "source": [
    "fig = plt.figure(figsize=(16,12))\n",
    "\n",
    "ax1 = fig.add_subplot(221)\n",
    "\n",
    "cmap = plt.cm.coolwarm_r\n",
    "\n",
    "interest_rate = acc.groupby(['year', 'grade']).int_rate.mean()\n",
    "interest_rate.unstack().plot(ax=ax1, colormap=cmap)\n",
    "ax1.set_title('Average Interest rate by Grades', fontsize=14)\n",
    "ax1.set_ylabel('Interest Rate (%)', fontsize=12)"
   ]
  },
  {
   "cell_type": "markdown",
   "metadata": {},
   "source": [
    "Comparing the loans grade 'A' and 'F' there is a bid difference in interest_rate\n",
    "mean A = 7.1 vs. mean F 24.9\n",
    "max A = 9.6 vs max rate F = 30.75"
   ]
  },
  {
   "cell_type": "markdown",
   "metadata": {},
   "source": [
    "#### Convert classification target \"loan status\" to binary (Fully paid = 1, Charged off = 0).\n",
    "\n"
   ]
  },
  {
   "cell_type": "code",
   "execution_count": 55,
   "metadata": {},
   "outputs": [],
   "source": [
    "acc.loc[acc['loan_status']=='Fully Paid', 'loan_status'] = 1\n",
    "acc.loc[acc['loan_status']=='Charged Off', 'loan_status'] = 0\n",
    "\n",
    "acc['loan_status'] = pd.to_numeric(acc['loan_status'])\n"
   ]
  },
  {
   "cell_type": "code",
   "execution_count": 56,
   "metadata": {},
   "outputs": [],
   "source": [
    "#acc.corr()\n",
    "\n",
    "#plt.figure(figsize=(16, 6))\n",
    "#heatmap = sns.heatmap(acc.corr(), vmin=-1, vmax=1, annot=True, cmap='BrBG')\n",
    "#heatmap.set_title('Correlation Heatmap', fontdict={'fontsize':18}, pad=12);\n"
   ]
  },
  {
   "cell_type": "markdown",
   "metadata": {},
   "source": [
    "# 3.6 Recursive feature selection"
   ]
  },
  {
   "cell_type": "markdown",
   "metadata": {},
   "source": [
    "For recursive selection to work there shoudn't be NaN values in our dataset. Let's check it again."
   ]
  },
  {
   "cell_type": "code",
   "execution_count": 57,
   "metadata": {},
   "outputs": [
    {
     "data": {
      "text/html": [
       "<div>\n",
       "<style scoped>\n",
       "    .dataframe tbody tr th:only-of-type {\n",
       "        vertical-align: middle;\n",
       "    }\n",
       "\n",
       "    .dataframe tbody tr th {\n",
       "        vertical-align: top;\n",
       "    }\n",
       "\n",
       "    .dataframe thead th {\n",
       "        text-align: right;\n",
       "    }\n",
       "</style>\n",
       "<table border=\"1\" class=\"dataframe\">\n",
       "  <thead>\n",
       "    <tr style=\"text-align: right;\">\n",
       "      <th></th>\n",
       "      <th>count</th>\n",
       "      <th>%</th>\n",
       "    </tr>\n",
       "  </thead>\n",
       "  <tbody>\n",
       "    <tr>\n",
       "      <th>mths_since_recent_inq</th>\n",
       "      <td>174071</td>\n",
       "      <td>12.939100</td>\n",
       "    </tr>\n",
       "    <tr>\n",
       "      <th>emp_length</th>\n",
       "      <td>108061</td>\n",
       "      <td>8.032424</td>\n",
       "    </tr>\n",
       "    <tr>\n",
       "      <th>mo_sin_old_il_acct</th>\n",
       "      <td>105575</td>\n",
       "      <td>7.847634</td>\n",
       "    </tr>\n",
       "    <tr>\n",
       "      <th>pct_tl_nvr_dlq</th>\n",
       "      <td>67681</td>\n",
       "      <td>5.030885</td>\n",
       "    </tr>\n",
       "    <tr>\n",
       "      <th>avg_cur_bal</th>\n",
       "      <td>67549</td>\n",
       "      <td>5.021073</td>\n",
       "    </tr>\n",
       "    <tr>\n",
       "      <th>mo_sin_old_rev_tl_op</th>\n",
       "      <td>67528</td>\n",
       "      <td>5.019512</td>\n",
       "    </tr>\n",
       "    <tr>\n",
       "      <th>mo_sin_rcnt_rev_tl_op</th>\n",
       "      <td>67528</td>\n",
       "      <td>5.019512</td>\n",
       "    </tr>\n",
       "    <tr>\n",
       "      <th>num_rev_accts</th>\n",
       "      <td>67528</td>\n",
       "      <td>5.019512</td>\n",
       "    </tr>\n",
       "    <tr>\n",
       "      <th>num_bc_tl</th>\n",
       "      <td>67527</td>\n",
       "      <td>5.019438</td>\n",
       "    </tr>\n",
       "    <tr>\n",
       "      <th>total_rev_hi_lim</th>\n",
       "      <td>67527</td>\n",
       "      <td>5.019438</td>\n",
       "    </tr>\n",
       "    <tr>\n",
       "      <th>tot_coll_amt</th>\n",
       "      <td>67527</td>\n",
       "      <td>5.019438</td>\n",
       "    </tr>\n",
       "    <tr>\n",
       "      <th>mo_sin_rcnt_tl</th>\n",
       "      <td>67527</td>\n",
       "      <td>5.019438</td>\n",
       "    </tr>\n",
       "    <tr>\n",
       "      <th>num_accts_ever_120_pd</th>\n",
       "      <td>67527</td>\n",
       "      <td>5.019438</td>\n",
       "    </tr>\n",
       "    <tr>\n",
       "      <th>num_actv_bc_tl</th>\n",
       "      <td>67527</td>\n",
       "      <td>5.019438</td>\n",
       "    </tr>\n",
       "    <tr>\n",
       "      <th>tot_cur_bal</th>\n",
       "      <td>67527</td>\n",
       "      <td>5.019438</td>\n",
       "    </tr>\n",
       "    <tr>\n",
       "      <th>num_tl_90g_dpd_24m</th>\n",
       "      <td>67527</td>\n",
       "      <td>5.019438</td>\n",
       "    </tr>\n",
       "    <tr>\n",
       "      <th>num_il_tl</th>\n",
       "      <td>67527</td>\n",
       "      <td>5.019438</td>\n",
       "    </tr>\n",
       "    <tr>\n",
       "      <th>num_tl_op_past_12m</th>\n",
       "      <td>67527</td>\n",
       "      <td>5.019438</td>\n",
       "    </tr>\n",
       "    <tr>\n",
       "      <th>num_op_rev_tl</th>\n",
       "      <td>67527</td>\n",
       "      <td>5.019438</td>\n",
       "    </tr>\n",
       "    <tr>\n",
       "      <th>num_actv_rev_tl</th>\n",
       "      <td>67527</td>\n",
       "      <td>5.019438</td>\n",
       "    </tr>\n",
       "    <tr>\n",
       "      <th>bc_util</th>\n",
       "      <td>61912</td>\n",
       "      <td>4.602062</td>\n",
       "    </tr>\n",
       "    <tr>\n",
       "      <th>percent_bc_gt_75</th>\n",
       "      <td>61555</td>\n",
       "      <td>4.575525</td>\n",
       "    </tr>\n",
       "    <tr>\n",
       "      <th>bc_open_to_buy</th>\n",
       "      <td>61143</td>\n",
       "      <td>4.544900</td>\n",
       "    </tr>\n",
       "    <tr>\n",
       "      <th>mths_since_recent_bc</th>\n",
       "      <td>60221</td>\n",
       "      <td>4.476366</td>\n",
       "    </tr>\n",
       "    <tr>\n",
       "      <th>num_bc_sats</th>\n",
       "      <td>55841</td>\n",
       "      <td>4.150791</td>\n",
       "    </tr>\n",
       "    <tr>\n",
       "      <th>mort_acc</th>\n",
       "      <td>47281</td>\n",
       "      <td>3.514506</td>\n",
       "    </tr>\n",
       "    <tr>\n",
       "      <th>total_bc_limit</th>\n",
       "      <td>47281</td>\n",
       "      <td>3.514506</td>\n",
       "    </tr>\n",
       "    <tr>\n",
       "      <th>acc_open_past_24mths</th>\n",
       "      <td>47281</td>\n",
       "      <td>3.514506</td>\n",
       "    </tr>\n",
       "    <tr>\n",
       "      <th>revol_util</th>\n",
       "      <td>857</td>\n",
       "      <td>0.063703</td>\n",
       "    </tr>\n",
       "    <tr>\n",
       "      <th>pub_rec_bankruptcies</th>\n",
       "      <td>697</td>\n",
       "      <td>0.051810</td>\n",
       "    </tr>\n",
       "    <tr>\n",
       "      <th>dti</th>\n",
       "      <td>374</td>\n",
       "      <td>0.027800</td>\n",
       "    </tr>\n",
       "    <tr>\n",
       "      <th>tax_liens</th>\n",
       "      <td>39</td>\n",
       "      <td>0.002899</td>\n",
       "    </tr>\n",
       "    <tr>\n",
       "      <th>inq_last_6mths</th>\n",
       "      <td>1</td>\n",
       "      <td>0.000074</td>\n",
       "    </tr>\n",
       "    <tr>\n",
       "      <th>delinq_amnt</th>\n",
       "      <td>0</td>\n",
       "      <td>0.000000</td>\n",
       "    </tr>\n",
       "    <tr>\n",
       "      <th>term</th>\n",
       "      <td>0</td>\n",
       "      <td>0.000000</td>\n",
       "    </tr>\n",
       "    <tr>\n",
       "      <th>grade</th>\n",
       "      <td>0</td>\n",
       "      <td>0.000000</td>\n",
       "    </tr>\n",
       "    <tr>\n",
       "      <th>delinq_2yrs</th>\n",
       "      <td>0</td>\n",
       "      <td>0.000000</td>\n",
       "    </tr>\n",
       "    <tr>\n",
       "      <th>sub_grade</th>\n",
       "      <td>0</td>\n",
       "      <td>0.000000</td>\n",
       "    </tr>\n",
       "    <tr>\n",
       "      <th>home_ownership</th>\n",
       "      <td>0</td>\n",
       "      <td>0.000000</td>\n",
       "    </tr>\n",
       "    <tr>\n",
       "      <th>verification_status</th>\n",
       "      <td>0</td>\n",
       "      <td>0.000000</td>\n",
       "    </tr>\n",
       "    <tr>\n",
       "      <th>loan_status</th>\n",
       "      <td>0</td>\n",
       "      <td>0.000000</td>\n",
       "    </tr>\n",
       "    <tr>\n",
       "      <th>purpose</th>\n",
       "      <td>0</td>\n",
       "      <td>0.000000</td>\n",
       "    </tr>\n",
       "    <tr>\n",
       "      <th>addr_state</th>\n",
       "      <td>0</td>\n",
       "      <td>0.000000</td>\n",
       "    </tr>\n",
       "    <tr>\n",
       "      <th>debt_settlement_flag</th>\n",
       "      <td>0</td>\n",
       "      <td>0.000000</td>\n",
       "    </tr>\n",
       "    <tr>\n",
       "      <th>loan_amnt</th>\n",
       "      <td>0</td>\n",
       "      <td>0.000000</td>\n",
       "    </tr>\n",
       "    <tr>\n",
       "      <th>int_rate</th>\n",
       "      <td>0</td>\n",
       "      <td>0.000000</td>\n",
       "    </tr>\n",
       "    <tr>\n",
       "      <th>annual_inc</th>\n",
       "      <td>0</td>\n",
       "      <td>0.000000</td>\n",
       "    </tr>\n",
       "    <tr>\n",
       "      <th>fico_range_low</th>\n",
       "      <td>0</td>\n",
       "      <td>0.000000</td>\n",
       "    </tr>\n",
       "    <tr>\n",
       "      <th>last_fico_range_low</th>\n",
       "      <td>0</td>\n",
       "      <td>0.000000</td>\n",
       "    </tr>\n",
       "    <tr>\n",
       "      <th>open_acc</th>\n",
       "      <td>0</td>\n",
       "      <td>0.000000</td>\n",
       "    </tr>\n",
       "    <tr>\n",
       "      <th>pub_rec</th>\n",
       "      <td>0</td>\n",
       "      <td>0.000000</td>\n",
       "    </tr>\n",
       "    <tr>\n",
       "      <th>revol_bal</th>\n",
       "      <td>0</td>\n",
       "      <td>0.000000</td>\n",
       "    </tr>\n",
       "    <tr>\n",
       "      <th>total_acc</th>\n",
       "      <td>0</td>\n",
       "      <td>0.000000</td>\n",
       "    </tr>\n",
       "    <tr>\n",
       "      <th>total_pymnt</th>\n",
       "      <td>0</td>\n",
       "      <td>0.000000</td>\n",
       "    </tr>\n",
       "    <tr>\n",
       "      <th>total_rec_int</th>\n",
       "      <td>0</td>\n",
       "      <td>0.000000</td>\n",
       "    </tr>\n",
       "    <tr>\n",
       "      <th>total_rec_late_fee</th>\n",
       "      <td>0</td>\n",
       "      <td>0.000000</td>\n",
       "    </tr>\n",
       "    <tr>\n",
       "      <th>recoveries</th>\n",
       "      <td>0</td>\n",
       "      <td>0.000000</td>\n",
       "    </tr>\n",
       "    <tr>\n",
       "      <th>last_pymnt_amnt</th>\n",
       "      <td>0</td>\n",
       "      <td>0.000000</td>\n",
       "    </tr>\n",
       "    <tr>\n",
       "      <th>last_fico_range_high</th>\n",
       "      <td>0</td>\n",
       "      <td>0.000000</td>\n",
       "    </tr>\n",
       "    <tr>\n",
       "      <th>year</th>\n",
       "      <td>0</td>\n",
       "      <td>0.000000</td>\n",
       "    </tr>\n",
       "  </tbody>\n",
       "</table>\n",
       "</div>"
      ],
      "text/plain": [
       "                        count          %\n",
       "mths_since_recent_inq  174071  12.939100\n",
       "emp_length             108061   8.032424\n",
       "mo_sin_old_il_acct     105575   7.847634\n",
       "pct_tl_nvr_dlq          67681   5.030885\n",
       "avg_cur_bal             67549   5.021073\n",
       "mo_sin_old_rev_tl_op    67528   5.019512\n",
       "mo_sin_rcnt_rev_tl_op   67528   5.019512\n",
       "num_rev_accts           67528   5.019512\n",
       "num_bc_tl               67527   5.019438\n",
       "total_rev_hi_lim        67527   5.019438\n",
       "tot_coll_amt            67527   5.019438\n",
       "mo_sin_rcnt_tl          67527   5.019438\n",
       "num_accts_ever_120_pd   67527   5.019438\n",
       "num_actv_bc_tl          67527   5.019438\n",
       "tot_cur_bal             67527   5.019438\n",
       "num_tl_90g_dpd_24m      67527   5.019438\n",
       "num_il_tl               67527   5.019438\n",
       "num_tl_op_past_12m      67527   5.019438\n",
       "num_op_rev_tl           67527   5.019438\n",
       "num_actv_rev_tl         67527   5.019438\n",
       "bc_util                 61912   4.602062\n",
       "percent_bc_gt_75        61555   4.575525\n",
       "bc_open_to_buy          61143   4.544900\n",
       "mths_since_recent_bc    60221   4.476366\n",
       "num_bc_sats             55841   4.150791\n",
       "mort_acc                47281   3.514506\n",
       "total_bc_limit          47281   3.514506\n",
       "acc_open_past_24mths    47281   3.514506\n",
       "revol_util                857   0.063703\n",
       "pub_rec_bankruptcies      697   0.051810\n",
       "dti                       374   0.027800\n",
       "tax_liens                  39   0.002899\n",
       "inq_last_6mths              1   0.000074\n",
       "delinq_amnt                 0   0.000000\n",
       "term                        0   0.000000\n",
       "grade                       0   0.000000\n",
       "delinq_2yrs                 0   0.000000\n",
       "sub_grade                   0   0.000000\n",
       "home_ownership              0   0.000000\n",
       "verification_status         0   0.000000\n",
       "loan_status                 0   0.000000\n",
       "purpose                     0   0.000000\n",
       "addr_state                  0   0.000000\n",
       "debt_settlement_flag        0   0.000000\n",
       "loan_amnt                   0   0.000000\n",
       "int_rate                    0   0.000000\n",
       "annual_inc                  0   0.000000\n",
       "fico_range_low              0   0.000000\n",
       "last_fico_range_low         0   0.000000\n",
       "open_acc                    0   0.000000\n",
       "pub_rec                     0   0.000000\n",
       "revol_bal                   0   0.000000\n",
       "total_acc                   0   0.000000\n",
       "total_pymnt                 0   0.000000\n",
       "total_rec_int               0   0.000000\n",
       "total_rec_late_fee          0   0.000000\n",
       "recoveries                  0   0.000000\n",
       "last_pymnt_amnt             0   0.000000\n",
       "last_fico_range_high        0   0.000000\n",
       "year                        0   0.000000"
      ]
     },
     "execution_count": 57,
     "metadata": {},
     "output_type": "execute_result"
    }
   ],
   "source": [
    "missing = pd.concat([acc.isnull().sum(), 100 * acc.isnull().mean()], axis=1)\n",
    "missing.columns=['count', '%']\n",
    "missing.sort_values(by='count', ascending=False)"
   ]
  },
  {
   "cell_type": "markdown",
   "metadata": {},
   "source": [
    "#### Remove all NaN rows"
   ]
  },
  {
   "cell_type": "code",
   "execution_count": 58,
   "metadata": {},
   "outputs": [],
   "source": [
    "#acc.fillna(acc.mean())\n",
    "\n",
    "acc = acc.dropna()"
   ]
  },
  {
   "cell_type": "markdown",
   "metadata": {},
   "source": [
    "Get 1st 1000 rows"
   ]
  },
  {
   "cell_type": "code",
   "execution_count": 59,
   "metadata": {},
   "outputs": [],
   "source": [
    "acc1000 = acc[:1000]"
   ]
  },
  {
   "cell_type": "markdown",
   "metadata": {},
   "source": [
    "### Recursive feature elimination with Cross-Validation, create dummy features for object type features. "
   ]
  },
  {
   "cell_type": "code",
   "execution_count": 60,
   "metadata": {},
   "outputs": [],
   "source": [
    "from sklearn.ensemble import RandomForestClassifier\n",
    "from sklearn.feature_selection import RFECV\n",
    "from sklearn.model_selection import StratifiedKFold\n",
    "\n",
    "\n",
    "X = acc1000.drop('loan_status', axis=1)\n",
    "target = acc1000['loan_status']\n",
    "\n",
    "X = pd.get_dummies(X)\n",
    "\n",
    "rfc = RandomForestClassifier(random_state=101)\n",
    "rfecv = RFECV(estimator=rfc, step=1, cv=StratifiedKFold(10), scoring='accuracy')\n",
    "\n"
   ]
  },
  {
   "cell_type": "code",
   "execution_count": 67,
   "metadata": {},
   "outputs": [],
   "source": [
    "from sklearn import preprocessing\n",
    "import numpy as np\n",
    "# build scaler based on training data and apply it to test data to then also scale the test data\n",
    "scaler = preprocessing.StandardScaler().fit(X)\n",
    "X_scaled=scaler.transform(X)\n"
   ]
  },
  {
   "cell_type": "code",
   "execution_count": 68,
   "metadata": {},
   "outputs": [
    {
     "data": {
      "text/plain": [
       "RFECV(cv=StratifiedKFold(n_splits=10, random_state=None, shuffle=False),\n",
       "      estimator=RandomForestClassifier(random_state=101), scoring='accuracy')"
      ]
     },
     "execution_count": 68,
     "metadata": {},
     "output_type": "execute_result"
    }
   ],
   "source": [
    "rfecv.fit(X_scaled, target)\n"
   ]
  },
  {
   "cell_type": "markdown",
   "metadata": {},
   "source": [
    "### Print optimal features"
   ]
  },
  {
   "cell_type": "code",
   "execution_count": 69,
   "metadata": {},
   "outputs": [
    {
     "name": "stdout",
     "output_type": "stream",
     "text": [
      "Optimal number of features: 70\n"
     ]
    }
   ],
   "source": [
    "print('Optimal number of features: {}'.format(rfecv.n_features_))"
   ]
  },
  {
   "cell_type": "markdown",
   "metadata": {},
   "source": [
    "**<font color='teal'>Print out which features are considered to be least important and drop them </font>**"
   ]
  },
  {
   "cell_type": "code",
   "execution_count": 70,
   "metadata": {},
   "outputs": [
    {
     "name": "stdout",
     "output_type": "stream",
     "text": [
      "[ 28  44  49  53  56  57  58  59  60  61  62  63  64  65  66  68  69  70\n",
      "  71  72  73  74  76  77  78  79  80  81  82  83  84  85  86  87  88  89\n",
      "  90  97  98 101 102 103 104 105 107 109 110 111 112 113 114 115 116 117\n",
      " 118 119 120 121 122 123 124 125 126 127 128 130 131 132 133 134 136 137\n",
      " 139 140 141 142 143 144 145 146 148 149 150 151 152 153 154 157]\n"
     ]
    }
   ],
   "source": [
    "print(np.where(rfecv.support_ == False)[0])\n",
    "\n",
    "X.drop(X.columns[np.where(rfecv.support_ == False)[0]], axis=1, inplace=True)\n"
   ]
  },
  {
   "cell_type": "markdown",
   "metadata": {},
   "source": [
    "### Plot feature importances "
   ]
  },
  {
   "cell_type": "code",
   "execution_count": 71,
   "metadata": {},
   "outputs": [
    {
     "data": {
      "image/png": "[encoded data removed]",
      "text/plain": [
       "<Figure size 1152x1008 with 1 Axes>"
      ]
     },
     "metadata": {
      "needs_background": "light"
     },
     "output_type": "display_data"
    }
   ],
   "source": [
    "\n",
    "dset = pd.DataFrame()\n",
    "dset['attr'] = X.columns\n",
    "dset['importance'] = rfecv.estimator_.feature_importances_\n",
    "\n",
    "dset = dset.sort_values(by='importance', ascending=False)\n",
    "\n",
    "\n",
    "plt.figure(figsize=(16, 14))\n",
    "plt.barh(y=dset['attr'], width=dset['importance'], color='#1976D2')\n",
    "plt.title('RFECV - Feature Importances', fontsize=20, fontweight='bold', pad=20)\n",
    "plt.xlabel('Importance', fontsize=14, labelpad=20)\n",
    "plt.show()\n"
   ]
  },
  {
   "cell_type": "markdown",
   "metadata": {},
   "source": [
    "## 3.7 Saving data"
   ]
  },
  {
   "cell_type": "code",
   "execution_count": 72,
   "metadata": {},
   "outputs": [],
   "source": [
    "# save the data to a new csv file\n",
    "acc.to_csv('accept_3_1.csv', index=False)"
   ]
  }
 ],
 "metadata": {
  "kernelspec": {
   "display_name": "Python 3",
   "language": "python",
   "name": "python3"
  },
  "language_info": {
   "codemirror_mode": {
    "name": "ipython",
    "version": 3
   },
   "file_extension": ".py",
   "mimetype": "text/x-python",
   "name": "python",
   "nbconvert_exporter": "python",
   "pygments_lexer": "ipython3",
   "version": "3.8.3"
  }
 },
 "nbformat": 4,
 "nbformat_minor": 4
}
