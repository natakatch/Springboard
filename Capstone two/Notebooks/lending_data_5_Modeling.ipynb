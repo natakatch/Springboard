{
 "cells": [
  {
   "cell_type": "markdown",
   "metadata": {},
   "source": [
    "CAPSTONE TWO."
   ]
  },
  {
   "cell_type": "markdown",
   "metadata": {},
   "source": [
    "# DRAFT!!!"
   ]
  },
  {
   "cell_type": "markdown",
   "metadata": {},
   "source": [
    "# 5. Modeling"
   ]
  },
  {
   "cell_type": "markdown",
   "metadata": {},
   "source": [
    "## 5.1 Introduction"
   ]
  },
  {
   "cell_type": "markdown",
   "metadata": {},
   "source": [
    "In this chapter we continue working on creating ML model to predict whether a borrower will pay off a loan using the historical LendingClub data.\n",
    "\n",
    "To solve the problem, then, build a decision tree to implement a classification solution. \n",
    "\n",
    "\n",
    "**2. Sourcing and loading** \n",
    "- Import packages\n",
    "- Load data\n",
    "- Explore the data\n",
    "\n",
    " \n",
    "**3. Transforming and visualizing**\n",
    "- Train/test split\n",
    "  \n",
    "  \n",
    "**4. Modelling** \n",
    "- Random Forest - Eager learners\n",
    "- Support Vector Machine (SVM)\n",
    "- k-nearest neighbor - Lazy learners\n",
    "\n",
    "\n",
    "\n",
    "- ???? Artificial Neural Networks - Eager learners ????\n",
    "\n",
    "\n",
    "**5. Evaluating and concluding** \n",
    "\n",
    "\n",
    "\n"
   ]
  },
  {
   "cell_type": "markdown",
   "metadata": {},
   "source": [
    "## 5.2 Sourcing and loading"
   ]
  },
  {
   "cell_type": "markdown",
   "metadata": {},
   "source": [
    "### 5.2.1 Imports"
   ]
  },
  {
   "cell_type": "code",
   "execution_count": 1,
   "metadata": {},
   "outputs": [],
   "source": [
    "import pandas as pd\n",
    "import numpy as np\n",
    "import os\n",
    "import matplotlib.pyplot as plt\n",
    "import seaborn as sns\n",
    "from sklearn.decomposition import PCA\n",
    "from sklearn.preprocessing import scale\n",
    "\n",
    "from scipy import stats\n",
    "# random enables us to generate random numbers\n",
    "import random\n",
    "\n",
    "from sklearn.ensemble import RandomForestClassifier\n",
    "from sklearn.feature_selection import RFECV\n",
    "from sklearn.model_selection import StratifiedKFold\n",
    "\n",
    "from sklearn.model_selection import train_test_split\n",
    "\n",
    "from sklearn import tree, metrics\n",
    "from io import StringIO\n",
    "from IPython.display import Image  \n",
    "import pydotplus\n",
    "\n",
    "from sklearn.metrics import classification_report, confusion_matrix\n",
    "from sklearn import preprocessing\n",
    "\n",
    "from sklearn.svm import SVC\n"
   ]
  },
  {
   "cell_type": "markdown",
   "metadata": {},
   "source": [
    "### 5.2.2 Load the data"
   ]
  },
  {
   "cell_type": "markdown",
   "metadata": {},
   "source": [
    "On our previous steps we alredy created the clean dataset: \n",
    "\n",
    " * drop features with mising values\n",
    " * remove features with low variance\n",
    " * drop highly correlated features\n",
    " * convert categorical features to numeric\n",
    " * drop categorical features with many levels and constants\n",
    " \n",
    " After data cleaning and wrangling we reduced the number of our features from initial 151 to 60\n",
    " \n",
    " Then we used Recursive feature elimination algorithm to select optimal features (Recursive feature elimination algorithm \n",
    " with  Cross-Validation).\n",
    "  \n",
    " We used the Recursive feature elimination algorithm\n",
    "   * For the first 1000 records  -> 70 optimal features\n",
    "   * For 1000 randomly selected records"
   ]
  },
  {
   "cell_type": "markdown",
   "metadata": {},
   "source": [
    "### Result for the first 1,000 records - 70 optimal features:"
   ]
  },
  {
   "cell_type": "code",
   "execution_count": 2,
   "metadata": {},
   "outputs": [],
   "source": [
    "X1000 = pd.read_csv('accept_3_x.csv')"
   ]
  },
  {
   "cell_type": "code",
   "execution_count": 3,
   "metadata": {},
   "outputs": [
    {
     "data": {
      "text/html": [
       "<div>\n",
       "<style scoped>\n",
       "    .dataframe tbody tr th:only-of-type {\n",
       "        vertical-align: middle;\n",
       "    }\n",
       "\n",
       "    .dataframe tbody tr th {\n",
       "        vertical-align: top;\n",
       "    }\n",
       "\n",
       "    .dataframe thead th {\n",
       "        text-align: right;\n",
       "    }\n",
       "</style>\n",
       "<table border=\"1\" class=\"dataframe\">\n",
       "  <thead>\n",
       "    <tr style=\"text-align: right;\">\n",
       "      <th></th>\n",
       "      <th>term</th>\n",
       "      <th>emp_length</th>\n",
       "      <th>loan_amnt</th>\n",
       "      <th>int_rate</th>\n",
       "      <th>annual_inc</th>\n",
       "      <th>dti</th>\n",
       "      <th>delinq_2yrs</th>\n",
       "      <th>fico_range_low</th>\n",
       "      <th>inq_last_6mths</th>\n",
       "      <th>open_acc</th>\n",
       "      <th>...</th>\n",
       "      <th>purpose_debt_consolidation</th>\n",
       "      <th>purpose_home_improvement</th>\n",
       "      <th>purpose_small_business</th>\n",
       "      <th>addr_state_AL</th>\n",
       "      <th>addr_state_MO</th>\n",
       "      <th>addr_state_NJ</th>\n",
       "      <th>addr_state_NY</th>\n",
       "      <th>addr_state_TX</th>\n",
       "      <th>debt_settlement_flag_N</th>\n",
       "      <th>debt_settlement_flag_Y</th>\n",
       "    </tr>\n",
       "  </thead>\n",
       "  <tbody>\n",
       "    <tr>\n",
       "      <th>0</th>\n",
       "      <td>36</td>\n",
       "      <td>10.0</td>\n",
       "      <td>3600.0</td>\n",
       "      <td>13.99</td>\n",
       "      <td>55000.0</td>\n",
       "      <td>5.91</td>\n",
       "      <td>0.0</td>\n",
       "      <td>675.0</td>\n",
       "      <td>1.0</td>\n",
       "      <td>7.0</td>\n",
       "      <td>...</td>\n",
       "      <td>1</td>\n",
       "      <td>0</td>\n",
       "      <td>0</td>\n",
       "      <td>0</td>\n",
       "      <td>0</td>\n",
       "      <td>0</td>\n",
       "      <td>0</td>\n",
       "      <td>0</td>\n",
       "      <td>1</td>\n",
       "      <td>0</td>\n",
       "    </tr>\n",
       "    <tr>\n",
       "      <th>1</th>\n",
       "      <td>36</td>\n",
       "      <td>10.0</td>\n",
       "      <td>24700.0</td>\n",
       "      <td>11.99</td>\n",
       "      <td>65000.0</td>\n",
       "      <td>16.06</td>\n",
       "      <td>1.0</td>\n",
       "      <td>715.0</td>\n",
       "      <td>4.0</td>\n",
       "      <td>22.0</td>\n",
       "      <td>...</td>\n",
       "      <td>0</td>\n",
       "      <td>0</td>\n",
       "      <td>1</td>\n",
       "      <td>0</td>\n",
       "      <td>0</td>\n",
       "      <td>0</td>\n",
       "      <td>0</td>\n",
       "      <td>0</td>\n",
       "      <td>1</td>\n",
       "      <td>0</td>\n",
       "    </tr>\n",
       "    <tr>\n",
       "      <th>2</th>\n",
       "      <td>60</td>\n",
       "      <td>10.0</td>\n",
       "      <td>20000.0</td>\n",
       "      <td>10.78</td>\n",
       "      <td>63000.0</td>\n",
       "      <td>10.78</td>\n",
       "      <td>0.0</td>\n",
       "      <td>695.0</td>\n",
       "      <td>0.0</td>\n",
       "      <td>6.0</td>\n",
       "      <td>...</td>\n",
       "      <td>0</td>\n",
       "      <td>1</td>\n",
       "      <td>0</td>\n",
       "      <td>0</td>\n",
       "      <td>0</td>\n",
       "      <td>0</td>\n",
       "      <td>0</td>\n",
       "      <td>0</td>\n",
       "      <td>1</td>\n",
       "      <td>0</td>\n",
       "    </tr>\n",
       "    <tr>\n",
       "      <th>3</th>\n",
       "      <td>60</td>\n",
       "      <td>3.0</td>\n",
       "      <td>10400.0</td>\n",
       "      <td>22.45</td>\n",
       "      <td>104433.0</td>\n",
       "      <td>25.37</td>\n",
       "      <td>1.0</td>\n",
       "      <td>695.0</td>\n",
       "      <td>3.0</td>\n",
       "      <td>12.0</td>\n",
       "      <td>...</td>\n",
       "      <td>0</td>\n",
       "      <td>0</td>\n",
       "      <td>0</td>\n",
       "      <td>0</td>\n",
       "      <td>0</td>\n",
       "      <td>0</td>\n",
       "      <td>0</td>\n",
       "      <td>0</td>\n",
       "      <td>1</td>\n",
       "      <td>0</td>\n",
       "    </tr>\n",
       "    <tr>\n",
       "      <th>4</th>\n",
       "      <td>36</td>\n",
       "      <td>10.0</td>\n",
       "      <td>20000.0</td>\n",
       "      <td>9.17</td>\n",
       "      <td>180000.0</td>\n",
       "      <td>14.67</td>\n",
       "      <td>0.0</td>\n",
       "      <td>680.0</td>\n",
       "      <td>0.0</td>\n",
       "      <td>12.0</td>\n",
       "      <td>...</td>\n",
       "      <td>1</td>\n",
       "      <td>0</td>\n",
       "      <td>0</td>\n",
       "      <td>0</td>\n",
       "      <td>0</td>\n",
       "      <td>0</td>\n",
       "      <td>0</td>\n",
       "      <td>0</td>\n",
       "      <td>1</td>\n",
       "      <td>0</td>\n",
       "    </tr>\n",
       "  </tbody>\n",
       "</table>\n",
       "<p>5 rows × 70 columns</p>\n",
       "</div>"
      ],
      "text/plain": [
       "   term  emp_length  loan_amnt  int_rate  annual_inc    dti  delinq_2yrs  \\\n",
       "0    36        10.0     3600.0     13.99     55000.0   5.91          0.0   \n",
       "1    36        10.0    24700.0     11.99     65000.0  16.06          1.0   \n",
       "2    60        10.0    20000.0     10.78     63000.0  10.78          0.0   \n",
       "3    60         3.0    10400.0     22.45    104433.0  25.37          1.0   \n",
       "4    36        10.0    20000.0      9.17    180000.0  14.67          0.0   \n",
       "\n",
       "   fico_range_low  inq_last_6mths  open_acc  ...  purpose_debt_consolidation  \\\n",
       "0           675.0             1.0       7.0  ...                           1   \n",
       "1           715.0             4.0      22.0  ...                           0   \n",
       "2           695.0             0.0       6.0  ...                           0   \n",
       "3           695.0             3.0      12.0  ...                           0   \n",
       "4           680.0             0.0      12.0  ...                           1   \n",
       "\n",
       "   purpose_home_improvement  purpose_small_business  addr_state_AL  \\\n",
       "0                         0                       0              0   \n",
       "1                         0                       1              0   \n",
       "2                         1                       0              0   \n",
       "3                         0                       0              0   \n",
       "4                         0                       0              0   \n",
       "\n",
       "   addr_state_MO  addr_state_NJ  addr_state_NY  addr_state_TX  \\\n",
       "0              0              0              0              0   \n",
       "1              0              0              0              0   \n",
       "2              0              0              0              0   \n",
       "3              0              0              0              0   \n",
       "4              0              0              0              0   \n",
       "\n",
       "   debt_settlement_flag_N  debt_settlement_flag_Y  \n",
       "0                       1                       0  \n",
       "1                       1                       0  \n",
       "2                       1                       0  \n",
       "3                       1                       0  \n",
       "4                       1                       0  \n",
       "\n",
       "[5 rows x 70 columns]"
      ]
     },
     "execution_count": 3,
     "metadata": {},
     "output_type": "execute_result"
    }
   ],
   "source": [
    "X1000.head()"
   ]
  },
  {
   "cell_type": "code",
   "execution_count": 4,
   "metadata": {
    "scrolled": false
   },
   "outputs": [
    {
     "name": "stdout",
     "output_type": "stream",
     "text": [
      "<class 'pandas.core.frame.DataFrame'>\n",
      "RangeIndex: 1000 entries, 0 to 999\n",
      "Data columns (total 70 columns):\n",
      " #   Column                               Non-Null Count  Dtype  \n",
      "---  ------                               --------------  -----  \n",
      " 0   term                                 1000 non-null   int64  \n",
      " 1   emp_length                           1000 non-null   float64\n",
      " 2   loan_amnt                            1000 non-null   float64\n",
      " 3   int_rate                             1000 non-null   float64\n",
      " 4   annual_inc                           1000 non-null   float64\n",
      " 5   dti                                  1000 non-null   float64\n",
      " 6   delinq_2yrs                          1000 non-null   float64\n",
      " 7   fico_range_low                       1000 non-null   float64\n",
      " 8   inq_last_6mths                       1000 non-null   float64\n",
      " 9   open_acc                             1000 non-null   float64\n",
      " 10  pub_rec                              1000 non-null   float64\n",
      " 11  revol_bal                            1000 non-null   float64\n",
      " 12  revol_util                           1000 non-null   float64\n",
      " 13  total_acc                            1000 non-null   float64\n",
      " 14  total_pymnt                          1000 non-null   float64\n",
      " 15  total_rec_int                        1000 non-null   float64\n",
      " 16  total_rec_late_fee                   1000 non-null   float64\n",
      " 17  recoveries                           1000 non-null   float64\n",
      " 18  last_pymnt_amnt                      1000 non-null   float64\n",
      " 19  last_fico_range_high                 1000 non-null   float64\n",
      " 20  last_fico_range_low                  1000 non-null   float64\n",
      " 21  tot_coll_amt                         1000 non-null   float64\n",
      " 22  tot_cur_bal                          1000 non-null   float64\n",
      " 23  total_rev_hi_lim                     1000 non-null   float64\n",
      " 24  acc_open_past_24mths                 1000 non-null   float64\n",
      " 25  avg_cur_bal                          1000 non-null   float64\n",
      " 26  bc_open_to_buy                       1000 non-null   float64\n",
      " 27  bc_util                              1000 non-null   float64\n",
      " 28  mo_sin_old_il_acct                   1000 non-null   float64\n",
      " 29  mo_sin_old_rev_tl_op                 1000 non-null   float64\n",
      " 30  mo_sin_rcnt_rev_tl_op                1000 non-null   float64\n",
      " 31  mo_sin_rcnt_tl                       1000 non-null   float64\n",
      " 32  mort_acc                             1000 non-null   float64\n",
      " 33  mths_since_recent_bc                 1000 non-null   float64\n",
      " 34  mths_since_recent_inq                1000 non-null   float64\n",
      " 35  num_accts_ever_120_pd                1000 non-null   float64\n",
      " 36  num_actv_bc_tl                       1000 non-null   float64\n",
      " 37  num_actv_rev_tl                      1000 non-null   float64\n",
      " 38  num_bc_sats                          1000 non-null   float64\n",
      " 39  num_bc_tl                            1000 non-null   float64\n",
      " 40  num_il_tl                            1000 non-null   float64\n",
      " 41  num_op_rev_tl                        1000 non-null   float64\n",
      " 42  num_rev_accts                        1000 non-null   float64\n",
      " 43  num_tl_op_past_12m                   1000 non-null   float64\n",
      " 44  pct_tl_nvr_dlq                       1000 non-null   float64\n",
      " 45  percent_bc_gt_75                     1000 non-null   float64\n",
      " 46  pub_rec_bankruptcies                 1000 non-null   float64\n",
      " 47  total_bc_limit                       1000 non-null   float64\n",
      " 48  grade_A                              1000 non-null   int64  \n",
      " 49  grade_B                              1000 non-null   int64  \n",
      " 50  grade_D                              1000 non-null   int64  \n",
      " 51  grade_E                              1000 non-null   int64  \n",
      " 52  sub_grade_B5                         1000 non-null   int64  \n",
      " 53  sub_grade_D3                         1000 non-null   int64  \n",
      " 54  home_ownership_MORTGAGE              1000 non-null   int64  \n",
      " 55  home_ownership_OWN                   1000 non-null   int64  \n",
      " 56  home_ownership_RENT                  1000 non-null   int64  \n",
      " 57  verification_status_Not Verified     1000 non-null   int64  \n",
      " 58  verification_status_Source Verified  1000 non-null   int64  \n",
      " 59  verification_status_Verified         1000 non-null   int64  \n",
      " 60  purpose_debt_consolidation           1000 non-null   int64  \n",
      " 61  purpose_home_improvement             1000 non-null   int64  \n",
      " 62  purpose_small_business               1000 non-null   int64  \n",
      " 63  addr_state_AL                        1000 non-null   int64  \n",
      " 64  addr_state_MO                        1000 non-null   int64  \n",
      " 65  addr_state_NJ                        1000 non-null   int64  \n",
      " 66  addr_state_NY                        1000 non-null   int64  \n",
      " 67  addr_state_TX                        1000 non-null   int64  \n",
      " 68  debt_settlement_flag_N               1000 non-null   int64  \n",
      " 69  debt_settlement_flag_Y               1000 non-null   int64  \n",
      "dtypes: float64(47), int64(23)\n",
      "memory usage: 547.0 KB\n"
     ]
    }
   ],
   "source": [
    "X1000.info(5)"
   ]
  },
  {
   "cell_type": "markdown",
   "metadata": {},
   "source": [
    "#### target \"loan status\"  values (Fully paid = 1, Charged off = 0)"
   ]
  },
  {
   "cell_type": "code",
   "execution_count": 5,
   "metadata": {},
   "outputs": [],
   "source": [
    "target1000 =  pd.read_csv('accept_3_target.csv')"
   ]
  },
  {
   "cell_type": "code",
   "execution_count": 6,
   "metadata": {},
   "outputs": [
    {
     "data": {
      "text/html": [
       "<div>\n",
       "<style scoped>\n",
       "    .dataframe tbody tr th:only-of-type {\n",
       "        vertical-align: middle;\n",
       "    }\n",
       "\n",
       "    .dataframe tbody tr th {\n",
       "        vertical-align: top;\n",
       "    }\n",
       "\n",
       "    .dataframe thead th {\n",
       "        text-align: right;\n",
       "    }\n",
       "</style>\n",
       "<table border=\"1\" class=\"dataframe\">\n",
       "  <thead>\n",
       "    <tr style=\"text-align: right;\">\n",
       "      <th></th>\n",
       "      <th>loan_status</th>\n",
       "    </tr>\n",
       "  </thead>\n",
       "  <tbody>\n",
       "    <tr>\n",
       "      <th>0</th>\n",
       "      <td>1</td>\n",
       "    </tr>\n",
       "    <tr>\n",
       "      <th>1</th>\n",
       "      <td>1</td>\n",
       "    </tr>\n",
       "    <tr>\n",
       "      <th>2</th>\n",
       "      <td>1</td>\n",
       "    </tr>\n",
       "    <tr>\n",
       "      <th>3</th>\n",
       "      <td>1</td>\n",
       "    </tr>\n",
       "    <tr>\n",
       "      <th>4</th>\n",
       "      <td>1</td>\n",
       "    </tr>\n",
       "  </tbody>\n",
       "</table>\n",
       "</div>"
      ],
      "text/plain": [
       "   loan_status\n",
       "0            1\n",
       "1            1\n",
       "2            1\n",
       "3            1\n",
       "4            1"
      ]
     },
     "execution_count": 6,
     "metadata": {},
     "output_type": "execute_result"
    }
   ],
   "source": [
    "target1000.head()"
   ]
  },
  {
   "cell_type": "code",
   "execution_count": 7,
   "metadata": {},
   "outputs": [],
   "source": [
    "target1000 = target1000.to_numpy()"
   ]
  },
  {
   "cell_type": "markdown",
   "metadata": {},
   "source": [
    "### Result for the 1,000 randomly seleced records  - following 9 optimal features:"
   ]
  },
  {
   "cell_type": "code",
   "execution_count": 8,
   "metadata": {},
   "outputs": [],
   "source": [
    "XR1000 = pd.read_csv('accept_3_xr.csv')"
   ]
  },
  {
   "cell_type": "code",
   "execution_count": 9,
   "metadata": {},
   "outputs": [
    {
     "data": {
      "text/html": [
       "<div>\n",
       "<style scoped>\n",
       "    .dataframe tbody tr th:only-of-type {\n",
       "        vertical-align: middle;\n",
       "    }\n",
       "\n",
       "    .dataframe tbody tr th {\n",
       "        vertical-align: top;\n",
       "    }\n",
       "\n",
       "    .dataframe thead th {\n",
       "        text-align: right;\n",
       "    }\n",
       "</style>\n",
       "<table border=\"1\" class=\"dataframe\">\n",
       "  <thead>\n",
       "    <tr style=\"text-align: right;\">\n",
       "      <th></th>\n",
       "      <th>loan_amnt</th>\n",
       "      <th>int_rate</th>\n",
       "      <th>total_pymnt</th>\n",
       "      <th>total_rec_int</th>\n",
       "      <th>recoveries</th>\n",
       "      <th>last_pymnt_amnt</th>\n",
       "      <th>last_fico_range_high</th>\n",
       "      <th>last_fico_range_low</th>\n",
       "      <th>debt_settlement_flag_N</th>\n",
       "    </tr>\n",
       "  </thead>\n",
       "  <tbody>\n",
       "    <tr>\n",
       "      <th>0</th>\n",
       "      <td>7400.0</td>\n",
       "      <td>19.99</td>\n",
       "      <td>7469.850167</td>\n",
       "      <td>69.85</td>\n",
       "      <td>0.00</td>\n",
       "      <td>7486.29</td>\n",
       "      <td>704.0</td>\n",
       "      <td>700.0</td>\n",
       "      <td>1</td>\n",
       "    </tr>\n",
       "    <tr>\n",
       "      <th>1</th>\n",
       "      <td>18250.0</td>\n",
       "      <td>11.14</td>\n",
       "      <td>20012.516107</td>\n",
       "      <td>1762.52</td>\n",
       "      <td>0.00</td>\n",
       "      <td>13426.96</td>\n",
       "      <td>724.0</td>\n",
       "      <td>720.0</td>\n",
       "      <td>1</td>\n",
       "    </tr>\n",
       "    <tr>\n",
       "      <th>2</th>\n",
       "      <td>28800.0</td>\n",
       "      <td>27.34</td>\n",
       "      <td>8892.990000</td>\n",
       "      <td>1865.21</td>\n",
       "      <td>6324.64</td>\n",
       "      <td>885.28</td>\n",
       "      <td>584.0</td>\n",
       "      <td>580.0</td>\n",
       "      <td>1</td>\n",
       "    </tr>\n",
       "    <tr>\n",
       "      <th>3</th>\n",
       "      <td>6200.0</td>\n",
       "      <td>5.93</td>\n",
       "      <td>6781.057552</td>\n",
       "      <td>581.06</td>\n",
       "      <td>0.00</td>\n",
       "      <td>188.40</td>\n",
       "      <td>659.0</td>\n",
       "      <td>655.0</td>\n",
       "      <td>1</td>\n",
       "    </tr>\n",
       "    <tr>\n",
       "      <th>4</th>\n",
       "      <td>6500.0</td>\n",
       "      <td>15.31</td>\n",
       "      <td>6182.160000</td>\n",
       "      <td>1498.68</td>\n",
       "      <td>214.84</td>\n",
       "      <td>535.64</td>\n",
       "      <td>514.0</td>\n",
       "      <td>510.0</td>\n",
       "      <td>1</td>\n",
       "    </tr>\n",
       "  </tbody>\n",
       "</table>\n",
       "</div>"
      ],
      "text/plain": [
       "   loan_amnt  int_rate   total_pymnt  total_rec_int  recoveries  \\\n",
       "0     7400.0     19.99   7469.850167          69.85        0.00   \n",
       "1    18250.0     11.14  20012.516107        1762.52        0.00   \n",
       "2    28800.0     27.34   8892.990000        1865.21     6324.64   \n",
       "3     6200.0      5.93   6781.057552         581.06        0.00   \n",
       "4     6500.0     15.31   6182.160000        1498.68      214.84   \n",
       "\n",
       "   last_pymnt_amnt  last_fico_range_high  last_fico_range_low  \\\n",
       "0          7486.29                 704.0                700.0   \n",
       "1         13426.96                 724.0                720.0   \n",
       "2           885.28                 584.0                580.0   \n",
       "3           188.40                 659.0                655.0   \n",
       "4           535.64                 514.0                510.0   \n",
       "\n",
       "   debt_settlement_flag_N  \n",
       "0                       1  \n",
       "1                       1  \n",
       "2                       1  \n",
       "3                       1  \n",
       "4                       1  "
      ]
     },
     "execution_count": 9,
     "metadata": {},
     "output_type": "execute_result"
    }
   ],
   "source": [
    "XR1000.head()"
   ]
  },
  {
   "cell_type": "markdown",
   "metadata": {},
   "source": [
    "#### targetR  \"loan status\"  values (Fully paid = 1, Charged off = 0)"
   ]
  },
  {
   "cell_type": "code",
   "execution_count": 10,
   "metadata": {},
   "outputs": [],
   "source": [
    "targetR1000 =  pd.read_csv('accept_3_target_r.csv')"
   ]
  },
  {
   "cell_type": "code",
   "execution_count": 11,
   "metadata": {},
   "outputs": [
    {
     "data": {
      "text/html": [
       "<div>\n",
       "<style scoped>\n",
       "    .dataframe tbody tr th:only-of-type {\n",
       "        vertical-align: middle;\n",
       "    }\n",
       "\n",
       "    .dataframe tbody tr th {\n",
       "        vertical-align: top;\n",
       "    }\n",
       "\n",
       "    .dataframe thead th {\n",
       "        text-align: right;\n",
       "    }\n",
       "</style>\n",
       "<table border=\"1\" class=\"dataframe\">\n",
       "  <thead>\n",
       "    <tr style=\"text-align: right;\">\n",
       "      <th></th>\n",
       "      <th>loan_status</th>\n",
       "    </tr>\n",
       "  </thead>\n",
       "  <tbody>\n",
       "    <tr>\n",
       "      <th>0</th>\n",
       "      <td>1</td>\n",
       "    </tr>\n",
       "    <tr>\n",
       "      <th>1</th>\n",
       "      <td>1</td>\n",
       "    </tr>\n",
       "    <tr>\n",
       "      <th>2</th>\n",
       "      <td>0</td>\n",
       "    </tr>\n",
       "    <tr>\n",
       "      <th>3</th>\n",
       "      <td>1</td>\n",
       "    </tr>\n",
       "    <tr>\n",
       "      <th>4</th>\n",
       "      <td>0</td>\n",
       "    </tr>\n",
       "  </tbody>\n",
       "</table>\n",
       "</div>"
      ],
      "text/plain": [
       "   loan_status\n",
       "0            1\n",
       "1            1\n",
       "2            0\n",
       "3            1\n",
       "4            0"
      ]
     },
     "execution_count": 11,
     "metadata": {},
     "output_type": "execute_result"
    }
   ],
   "source": [
    "targetR1000.head()"
   ]
  },
  {
   "cell_type": "code",
   "execution_count": 12,
   "metadata": {},
   "outputs": [
    {
     "data": {
      "text/html": [
       "<div>\n",
       "<style scoped>\n",
       "    .dataframe tbody tr th:only-of-type {\n",
       "        vertical-align: middle;\n",
       "    }\n",
       "\n",
       "    .dataframe tbody tr th {\n",
       "        vertical-align: top;\n",
       "    }\n",
       "\n",
       "    .dataframe thead th {\n",
       "        text-align: right;\n",
       "    }\n",
       "</style>\n",
       "<table border=\"1\" class=\"dataframe\">\n",
       "  <thead>\n",
       "    <tr style=\"text-align: right;\">\n",
       "      <th></th>\n",
       "      <th>loan_amnt</th>\n",
       "      <th>int_rate</th>\n",
       "      <th>total_pymnt</th>\n",
       "      <th>total_rec_int</th>\n",
       "      <th>recoveries</th>\n",
       "      <th>last_pymnt_amnt</th>\n",
       "      <th>last_fico_range_high</th>\n",
       "      <th>last_fico_range_low</th>\n",
       "      <th>debt_settlement_flag_N</th>\n",
       "    </tr>\n",
       "  </thead>\n",
       "  <tbody>\n",
       "    <tr>\n",
       "      <th>0</th>\n",
       "      <td>7400.0</td>\n",
       "      <td>19.99</td>\n",
       "      <td>7469.850167</td>\n",
       "      <td>69.85</td>\n",
       "      <td>0.00</td>\n",
       "      <td>7486.29</td>\n",
       "      <td>704.0</td>\n",
       "      <td>700.0</td>\n",
       "      <td>1</td>\n",
       "    </tr>\n",
       "    <tr>\n",
       "      <th>1</th>\n",
       "      <td>18250.0</td>\n",
       "      <td>11.14</td>\n",
       "      <td>20012.516107</td>\n",
       "      <td>1762.52</td>\n",
       "      <td>0.00</td>\n",
       "      <td>13426.96</td>\n",
       "      <td>724.0</td>\n",
       "      <td>720.0</td>\n",
       "      <td>1</td>\n",
       "    </tr>\n",
       "    <tr>\n",
       "      <th>2</th>\n",
       "      <td>28800.0</td>\n",
       "      <td>27.34</td>\n",
       "      <td>8892.990000</td>\n",
       "      <td>1865.21</td>\n",
       "      <td>6324.64</td>\n",
       "      <td>885.28</td>\n",
       "      <td>584.0</td>\n",
       "      <td>580.0</td>\n",
       "      <td>1</td>\n",
       "    </tr>\n",
       "    <tr>\n",
       "      <th>3</th>\n",
       "      <td>6200.0</td>\n",
       "      <td>5.93</td>\n",
       "      <td>6781.057552</td>\n",
       "      <td>581.06</td>\n",
       "      <td>0.00</td>\n",
       "      <td>188.40</td>\n",
       "      <td>659.0</td>\n",
       "      <td>655.0</td>\n",
       "      <td>1</td>\n",
       "    </tr>\n",
       "    <tr>\n",
       "      <th>4</th>\n",
       "      <td>6500.0</td>\n",
       "      <td>15.31</td>\n",
       "      <td>6182.160000</td>\n",
       "      <td>1498.68</td>\n",
       "      <td>214.84</td>\n",
       "      <td>535.64</td>\n",
       "      <td>514.0</td>\n",
       "      <td>510.0</td>\n",
       "      <td>1</td>\n",
       "    </tr>\n",
       "    <tr>\n",
       "      <th>...</th>\n",
       "      <td>...</td>\n",
       "      <td>...</td>\n",
       "      <td>...</td>\n",
       "      <td>...</td>\n",
       "      <td>...</td>\n",
       "      <td>...</td>\n",
       "      <td>...</td>\n",
       "      <td>...</td>\n",
       "      <td>...</td>\n",
       "    </tr>\n",
       "    <tr>\n",
       "      <th>995</th>\n",
       "      <td>25000.0</td>\n",
       "      <td>15.61</td>\n",
       "      <td>35898.575170</td>\n",
       "      <td>10898.58</td>\n",
       "      <td>0.00</td>\n",
       "      <td>5156.29</td>\n",
       "      <td>684.0</td>\n",
       "      <td>680.0</td>\n",
       "      <td>1</td>\n",
       "    </tr>\n",
       "    <tr>\n",
       "      <th>996</th>\n",
       "      <td>20000.0</td>\n",
       "      <td>13.67</td>\n",
       "      <td>24454.610657</td>\n",
       "      <td>4454.61</td>\n",
       "      <td>0.00</td>\n",
       "      <td>679.98</td>\n",
       "      <td>734.0</td>\n",
       "      <td>730.0</td>\n",
       "      <td>1</td>\n",
       "    </tr>\n",
       "    <tr>\n",
       "      <th>997</th>\n",
       "      <td>6025.0</td>\n",
       "      <td>9.75</td>\n",
       "      <td>6302.190000</td>\n",
       "      <td>277.19</td>\n",
       "      <td>0.00</td>\n",
       "      <td>5353.22</td>\n",
       "      <td>684.0</td>\n",
       "      <td>680.0</td>\n",
       "      <td>1</td>\n",
       "    </tr>\n",
       "    <tr>\n",
       "      <th>998</th>\n",
       "      <td>7950.0</td>\n",
       "      <td>15.31</td>\n",
       "      <td>2207.640000</td>\n",
       "      <td>740.40</td>\n",
       "      <td>0.00</td>\n",
       "      <td>276.80</td>\n",
       "      <td>604.0</td>\n",
       "      <td>600.0</td>\n",
       "      <td>1</td>\n",
       "    </tr>\n",
       "    <tr>\n",
       "      <th>999</th>\n",
       "      <td>4000.0</td>\n",
       "      <td>9.99</td>\n",
       "      <td>4188.422845</td>\n",
       "      <td>188.42</td>\n",
       "      <td>0.00</td>\n",
       "      <td>153.09</td>\n",
       "      <td>734.0</td>\n",
       "      <td>730.0</td>\n",
       "      <td>1</td>\n",
       "    </tr>\n",
       "  </tbody>\n",
       "</table>\n",
       "<p>1000 rows × 9 columns</p>\n",
       "</div>"
      ],
      "text/plain": [
       "     loan_amnt  int_rate   total_pymnt  total_rec_int  recoveries  \\\n",
       "0       7400.0     19.99   7469.850167          69.85        0.00   \n",
       "1      18250.0     11.14  20012.516107        1762.52        0.00   \n",
       "2      28800.0     27.34   8892.990000        1865.21     6324.64   \n",
       "3       6200.0      5.93   6781.057552         581.06        0.00   \n",
       "4       6500.0     15.31   6182.160000        1498.68      214.84   \n",
       "..         ...       ...           ...            ...         ...   \n",
       "995    25000.0     15.61  35898.575170       10898.58        0.00   \n",
       "996    20000.0     13.67  24454.610657        4454.61        0.00   \n",
       "997     6025.0      9.75   6302.190000         277.19        0.00   \n",
       "998     7950.0     15.31   2207.640000         740.40        0.00   \n",
       "999     4000.0      9.99   4188.422845         188.42        0.00   \n",
       "\n",
       "     last_pymnt_amnt  last_fico_range_high  last_fico_range_low  \\\n",
       "0            7486.29                 704.0                700.0   \n",
       "1           13426.96                 724.0                720.0   \n",
       "2             885.28                 584.0                580.0   \n",
       "3             188.40                 659.0                655.0   \n",
       "4             535.64                 514.0                510.0   \n",
       "..               ...                   ...                  ...   \n",
       "995          5156.29                 684.0                680.0   \n",
       "996           679.98                 734.0                730.0   \n",
       "997          5353.22                 684.0                680.0   \n",
       "998           276.80                 604.0                600.0   \n",
       "999           153.09                 734.0                730.0   \n",
       "\n",
       "     debt_settlement_flag_N  \n",
       "0                         1  \n",
       "1                         1  \n",
       "2                         1  \n",
       "3                         1  \n",
       "4                         1  \n",
       "..                      ...  \n",
       "995                       1  \n",
       "996                       1  \n",
       "997                       1  \n",
       "998                       1  \n",
       "999                       1  \n",
       "\n",
       "[1000 rows x 9 columns]"
      ]
     },
     "execution_count": 12,
     "metadata": {},
     "output_type": "execute_result"
    }
   ],
   "source": [
    "XR1000"
   ]
  },
  {
   "cell_type": "markdown",
   "metadata": {},
   "source": [
    "## Optimal features review"
   ]
  },
  {
   "cell_type": "markdown",
   "metadata": {},
   "source": [
    "Use Lending Club data dictionary https://resources.lendingclub.com/LCDataDictionary.xlsx \n",
    "to review the selected features that are unknown by the time of a loan and resulting features\n",
    "\n",
    "\n",
    "  * debt_settlement_flag_N\n",
    "  * debt_settlement_flag_Y\n",
    "  * total_pymnt\n",
    "  * last_pymnt_amnt\n",
    "  * recoveries\n",
    "  * revol_util\n",
    "  * total_rec_int\n",
    "  * total_rec_late_fee\n",
    "  * \n",
    "  "
   ]
  },
  {
   "cell_type": "code",
   "execution_count": 13,
   "metadata": {},
   "outputs": [],
   "source": [
    "XR1000 = XR1000.drop('debt_settlement_flag_N', axis=1)\n",
    "XR1000 = XR1000.drop('total_pymnt', axis=1)\n",
    "XR1000 = XR1000.drop('last_pymnt_amnt', axis=1)\n",
    "XR1000 = XR1000.drop('recoveries', axis=1)\n",
    "XR1000 = XR1000.drop('total_rec_int', axis=1)"
   ]
  },
  {
   "cell_type": "code",
   "execution_count": 14,
   "metadata": {},
   "outputs": [
    {
     "data": {
      "text/html": [
       "<div>\n",
       "<style scoped>\n",
       "    .dataframe tbody tr th:only-of-type {\n",
       "        vertical-align: middle;\n",
       "    }\n",
       "\n",
       "    .dataframe tbody tr th {\n",
       "        vertical-align: top;\n",
       "    }\n",
       "\n",
       "    .dataframe thead th {\n",
       "        text-align: right;\n",
       "    }\n",
       "</style>\n",
       "<table border=\"1\" class=\"dataframe\">\n",
       "  <thead>\n",
       "    <tr style=\"text-align: right;\">\n",
       "      <th></th>\n",
       "      <th>loan_amnt</th>\n",
       "      <th>int_rate</th>\n",
       "      <th>last_fico_range_high</th>\n",
       "      <th>last_fico_range_low</th>\n",
       "    </tr>\n",
       "  </thead>\n",
       "  <tbody>\n",
       "    <tr>\n",
       "      <th>0</th>\n",
       "      <td>7400.0</td>\n",
       "      <td>19.99</td>\n",
       "      <td>704.0</td>\n",
       "      <td>700.0</td>\n",
       "    </tr>\n",
       "    <tr>\n",
       "      <th>1</th>\n",
       "      <td>18250.0</td>\n",
       "      <td>11.14</td>\n",
       "      <td>724.0</td>\n",
       "      <td>720.0</td>\n",
       "    </tr>\n",
       "    <tr>\n",
       "      <th>2</th>\n",
       "      <td>28800.0</td>\n",
       "      <td>27.34</td>\n",
       "      <td>584.0</td>\n",
       "      <td>580.0</td>\n",
       "    </tr>\n",
       "    <tr>\n",
       "      <th>3</th>\n",
       "      <td>6200.0</td>\n",
       "      <td>5.93</td>\n",
       "      <td>659.0</td>\n",
       "      <td>655.0</td>\n",
       "    </tr>\n",
       "    <tr>\n",
       "      <th>4</th>\n",
       "      <td>6500.0</td>\n",
       "      <td>15.31</td>\n",
       "      <td>514.0</td>\n",
       "      <td>510.0</td>\n",
       "    </tr>\n",
       "  </tbody>\n",
       "</table>\n",
       "</div>"
      ],
      "text/plain": [
       "   loan_amnt  int_rate  last_fico_range_high  last_fico_range_low\n",
       "0     7400.0     19.99                 704.0                700.0\n",
       "1    18250.0     11.14                 724.0                720.0\n",
       "2    28800.0     27.34                 584.0                580.0\n",
       "3     6200.0      5.93                 659.0                655.0\n",
       "4     6500.0     15.31                 514.0                510.0"
      ]
     },
     "execution_count": 14,
     "metadata": {},
     "output_type": "execute_result"
    }
   ],
   "source": [
    "XR1000.head()"
   ]
  },
  {
   "cell_type": "code",
   "execution_count": 15,
   "metadata": {},
   "outputs": [],
   "source": [
    "X1000 = X1000.drop('debt_settlement_flag_N', axis=1)\n",
    "X1000 = X1000.drop('debt_settlement_flag_Y', axis=1)\n",
    "X1000 = X1000.drop('total_pymnt', axis=1)\n",
    "X1000 = X1000.drop('last_pymnt_amnt', axis=1)\n",
    "X1000 = X1000.drop('recoveries', axis=1)\n",
    "X1000 = X1000.drop('revol_util', axis=1)\n",
    "X1000 = X1000.drop('total_rec_int', axis=1)\n",
    "X1000 = X1000.drop('total_rec_late_fee', axis=1)"
   ]
  },
  {
   "cell_type": "code",
   "execution_count": 16,
   "metadata": {},
   "outputs": [
    {
     "data": {
      "text/html": [
       "<div>\n",
       "<style scoped>\n",
       "    .dataframe tbody tr th:only-of-type {\n",
       "        vertical-align: middle;\n",
       "    }\n",
       "\n",
       "    .dataframe tbody tr th {\n",
       "        vertical-align: top;\n",
       "    }\n",
       "\n",
       "    .dataframe thead th {\n",
       "        text-align: right;\n",
       "    }\n",
       "</style>\n",
       "<table border=\"1\" class=\"dataframe\">\n",
       "  <thead>\n",
       "    <tr style=\"text-align: right;\">\n",
       "      <th></th>\n",
       "      <th>term</th>\n",
       "      <th>emp_length</th>\n",
       "      <th>loan_amnt</th>\n",
       "      <th>int_rate</th>\n",
       "      <th>annual_inc</th>\n",
       "      <th>dti</th>\n",
       "      <th>delinq_2yrs</th>\n",
       "      <th>fico_range_low</th>\n",
       "      <th>inq_last_6mths</th>\n",
       "      <th>open_acc</th>\n",
       "      <th>...</th>\n",
       "      <th>verification_status_Source Verified</th>\n",
       "      <th>verification_status_Verified</th>\n",
       "      <th>purpose_debt_consolidation</th>\n",
       "      <th>purpose_home_improvement</th>\n",
       "      <th>purpose_small_business</th>\n",
       "      <th>addr_state_AL</th>\n",
       "      <th>addr_state_MO</th>\n",
       "      <th>addr_state_NJ</th>\n",
       "      <th>addr_state_NY</th>\n",
       "      <th>addr_state_TX</th>\n",
       "    </tr>\n",
       "  </thead>\n",
       "  <tbody>\n",
       "    <tr>\n",
       "      <th>0</th>\n",
       "      <td>36</td>\n",
       "      <td>10.0</td>\n",
       "      <td>3600.0</td>\n",
       "      <td>13.99</td>\n",
       "      <td>55000.0</td>\n",
       "      <td>5.91</td>\n",
       "      <td>0.0</td>\n",
       "      <td>675.0</td>\n",
       "      <td>1.0</td>\n",
       "      <td>7.0</td>\n",
       "      <td>...</td>\n",
       "      <td>0</td>\n",
       "      <td>0</td>\n",
       "      <td>1</td>\n",
       "      <td>0</td>\n",
       "      <td>0</td>\n",
       "      <td>0</td>\n",
       "      <td>0</td>\n",
       "      <td>0</td>\n",
       "      <td>0</td>\n",
       "      <td>0</td>\n",
       "    </tr>\n",
       "    <tr>\n",
       "      <th>1</th>\n",
       "      <td>36</td>\n",
       "      <td>10.0</td>\n",
       "      <td>24700.0</td>\n",
       "      <td>11.99</td>\n",
       "      <td>65000.0</td>\n",
       "      <td>16.06</td>\n",
       "      <td>1.0</td>\n",
       "      <td>715.0</td>\n",
       "      <td>4.0</td>\n",
       "      <td>22.0</td>\n",
       "      <td>...</td>\n",
       "      <td>0</td>\n",
       "      <td>0</td>\n",
       "      <td>0</td>\n",
       "      <td>0</td>\n",
       "      <td>1</td>\n",
       "      <td>0</td>\n",
       "      <td>0</td>\n",
       "      <td>0</td>\n",
       "      <td>0</td>\n",
       "      <td>0</td>\n",
       "    </tr>\n",
       "    <tr>\n",
       "      <th>2</th>\n",
       "      <td>60</td>\n",
       "      <td>10.0</td>\n",
       "      <td>20000.0</td>\n",
       "      <td>10.78</td>\n",
       "      <td>63000.0</td>\n",
       "      <td>10.78</td>\n",
       "      <td>0.0</td>\n",
       "      <td>695.0</td>\n",
       "      <td>0.0</td>\n",
       "      <td>6.0</td>\n",
       "      <td>...</td>\n",
       "      <td>0</td>\n",
       "      <td>0</td>\n",
       "      <td>0</td>\n",
       "      <td>1</td>\n",
       "      <td>0</td>\n",
       "      <td>0</td>\n",
       "      <td>0</td>\n",
       "      <td>0</td>\n",
       "      <td>0</td>\n",
       "      <td>0</td>\n",
       "    </tr>\n",
       "    <tr>\n",
       "      <th>3</th>\n",
       "      <td>60</td>\n",
       "      <td>3.0</td>\n",
       "      <td>10400.0</td>\n",
       "      <td>22.45</td>\n",
       "      <td>104433.0</td>\n",
       "      <td>25.37</td>\n",
       "      <td>1.0</td>\n",
       "      <td>695.0</td>\n",
       "      <td>3.0</td>\n",
       "      <td>12.0</td>\n",
       "      <td>...</td>\n",
       "      <td>1</td>\n",
       "      <td>0</td>\n",
       "      <td>0</td>\n",
       "      <td>0</td>\n",
       "      <td>0</td>\n",
       "      <td>0</td>\n",
       "      <td>0</td>\n",
       "      <td>0</td>\n",
       "      <td>0</td>\n",
       "      <td>0</td>\n",
       "    </tr>\n",
       "    <tr>\n",
       "      <th>4</th>\n",
       "      <td>36</td>\n",
       "      <td>10.0</td>\n",
       "      <td>20000.0</td>\n",
       "      <td>9.17</td>\n",
       "      <td>180000.0</td>\n",
       "      <td>14.67</td>\n",
       "      <td>0.0</td>\n",
       "      <td>680.0</td>\n",
       "      <td>0.0</td>\n",
       "      <td>12.0</td>\n",
       "      <td>...</td>\n",
       "      <td>0</td>\n",
       "      <td>0</td>\n",
       "      <td>1</td>\n",
       "      <td>0</td>\n",
       "      <td>0</td>\n",
       "      <td>0</td>\n",
       "      <td>0</td>\n",
       "      <td>0</td>\n",
       "      <td>0</td>\n",
       "      <td>0</td>\n",
       "    </tr>\n",
       "  </tbody>\n",
       "</table>\n",
       "<p>5 rows × 62 columns</p>\n",
       "</div>"
      ],
      "text/plain": [
       "   term  emp_length  loan_amnt  int_rate  annual_inc    dti  delinq_2yrs  \\\n",
       "0    36        10.0     3600.0     13.99     55000.0   5.91          0.0   \n",
       "1    36        10.0    24700.0     11.99     65000.0  16.06          1.0   \n",
       "2    60        10.0    20000.0     10.78     63000.0  10.78          0.0   \n",
       "3    60         3.0    10400.0     22.45    104433.0  25.37          1.0   \n",
       "4    36        10.0    20000.0      9.17    180000.0  14.67          0.0   \n",
       "\n",
       "   fico_range_low  inq_last_6mths  open_acc  ...  \\\n",
       "0           675.0             1.0       7.0  ...   \n",
       "1           715.0             4.0      22.0  ...   \n",
       "2           695.0             0.0       6.0  ...   \n",
       "3           695.0             3.0      12.0  ...   \n",
       "4           680.0             0.0      12.0  ...   \n",
       "\n",
       "   verification_status_Source Verified  verification_status_Verified  \\\n",
       "0                                    0                             0   \n",
       "1                                    0                             0   \n",
       "2                                    0                             0   \n",
       "3                                    1                             0   \n",
       "4                                    0                             0   \n",
       "\n",
       "   purpose_debt_consolidation  purpose_home_improvement  \\\n",
       "0                           1                         0   \n",
       "1                           0                         0   \n",
       "2                           0                         1   \n",
       "3                           0                         0   \n",
       "4                           1                         0   \n",
       "\n",
       "   purpose_small_business  addr_state_AL  addr_state_MO  addr_state_NJ  \\\n",
       "0                       0              0              0              0   \n",
       "1                       1              0              0              0   \n",
       "2                       0              0              0              0   \n",
       "3                       0              0              0              0   \n",
       "4                       0              0              0              0   \n",
       "\n",
       "   addr_state_NY  addr_state_TX  \n",
       "0              0              0  \n",
       "1              0              0  \n",
       "2              0              0  \n",
       "3              0              0  \n",
       "4              0              0  \n",
       "\n",
       "[5 rows x 62 columns]"
      ]
     },
     "execution_count": 16,
     "metadata": {},
     "output_type": "execute_result"
    }
   ],
   "source": [
    "X1000.head()"
   ]
  },
  {
   "cell_type": "markdown",
   "metadata": {},
   "source": [
    "## 5.3 . Transforming and visualizing"
   ]
  },
  {
   "cell_type": "markdown",
   "metadata": {},
   "source": [
    "### Select only optimal features in our initial clean dataset\n"
   ]
  },
  {
   "cell_type": "markdown",
   "metadata": {},
   "source": [
    "To execute the train/test split properly, we did following steps: \n",
    "\n",
    "\n",
    "1. Divide the acc subset into X and y, and then further divide those subsets into train and test subsets for X and y respectively\n",
    "2. Create dummy variables to deal with categorical inputs\n",
    "3. Visualize the data using scatter and boxplots of several variables in the y-axis and the decision on the x-axis\n",
    " \n"
   ]
  },
  {
   "cell_type": "code",
   "execution_count": 17,
   "metadata": {},
   "outputs": [],
   "source": [
    "acc = pd.read_csv('accept_3_2.csv')"
   ]
  },
  {
   "cell_type": "code",
   "execution_count": 18,
   "metadata": {},
   "outputs": [
    {
     "data": {
      "text/plain": [
       "(1023608, 60)"
      ]
     },
     "execution_count": 18,
     "metadata": {},
     "output_type": "execute_result"
    }
   ],
   "source": [
    "acc.shape"
   ]
  },
  {
   "cell_type": "code",
   "execution_count": 19,
   "metadata": {},
   "outputs": [],
   "source": [
    "X = acc.drop('loan_status', axis=1)\n",
    "\n",
    "target = acc['loan_status']\n",
    "\n",
    "X = pd.get_dummies(X)"
   ]
  },
  {
   "cell_type": "code",
   "execution_count": 20,
   "metadata": {},
   "outputs": [
    {
     "data": {
      "text/plain": [
       "(1023608, 170)"
      ]
     },
     "execution_count": 20,
     "metadata": {},
     "output_type": "execute_result"
    }
   ],
   "source": [
    "X.shape"
   ]
  },
  {
   "cell_type": "markdown",
   "metadata": {},
   "source": [
    "We have dataset with 1,023,608 rows for our data modeling"
   ]
  },
  {
   "cell_type": "code",
   "execution_count": 21,
   "metadata": {},
   "outputs": [
    {
     "data": {
      "text/plain": [
       "count    1.023608e+06\n",
       "mean     7.935411e-01\n",
       "std      4.047639e-01\n",
       "min      0.000000e+00\n",
       "25%      1.000000e+00\n",
       "50%      1.000000e+00\n",
       "75%      1.000000e+00\n",
       "max      1.000000e+00\n",
       "Name: loan_status, dtype: float64"
      ]
     },
     "execution_count": 21,
     "metadata": {},
     "output_type": "execute_result"
    }
   ],
   "source": [
    "target.describe()"
   ]
  },
  {
   "cell_type": "code",
   "execution_count": 22,
   "metadata": {},
   "outputs": [
    {
     "data": {
      "image/png": "[encoded data removed]",
      "text/plain": [
       "<Figure size 432x288 with 1 Axes>"
      ]
     },
     "metadata": {
      "needs_background": "light"
     },
     "output_type": "display_data"
    }
   ],
   "source": [
    "# \n",
    "sns.boxplot(x=\"loan_status\", y=\"last_fico_range_high\", data=acc)\n",
    "plt.show() "
   ]
  },
  {
   "cell_type": "code",
   "execution_count": 23,
   "metadata": {},
   "outputs": [
    {
     "data": {
      "text/plain": [
       "<matplotlib.axes._subplots.AxesSubplot at 0x1dd5edf80a0>"
      ]
     },
     "execution_count": 23,
     "metadata": {},
     "output_type": "execute_result"
    },
    {
     "name": "stderr",
     "output_type": "stream",
     "text": [
      "C:\\Users\\Natalia Katchoura\\anaconda3\\lib\\site-packages\\IPython\\core\\pylabtools.py:132: UserWarning: Creating legend with loc=\"best\" can be slow with large amounts of data.\n",
      "  fig.canvas.print_figure(bytes_io, **kw)\n"
     ]
    },
    {
     "data": {
      "image/png": "[encoded data removed]",
      "text/plain": [
       "<Figure size 432x288 with 1 Axes>"
      ]
     },
     "metadata": {
      "needs_background": "light"
     },
     "output_type": "display_data"
    }
   ],
   "source": [
    "# Make a scatterplot on acc, where x is loan amount, y is last_fico_range_high and hue is loan_statusDecision \n",
    "sns.scatterplot(x= \"loan_amnt\", y=\"last_fico_range_high\",  hue = \"loan_status\", data =acc)"
   ]
  },
  {
   "cell_type": "markdown",
   "metadata": {},
   "source": [
    "### Use optimal feutures we have got for 1,000 randomly selected rows"
   ]
  },
  {
   "cell_type": "code",
   "execution_count": 24,
   "metadata": {},
   "outputs": [
    {
     "data": {
      "text/html": [
       "<div>\n",
       "<style scoped>\n",
       "    .dataframe tbody tr th:only-of-type {\n",
       "        vertical-align: middle;\n",
       "    }\n",
       "\n",
       "    .dataframe tbody tr th {\n",
       "        vertical-align: top;\n",
       "    }\n",
       "\n",
       "    .dataframe thead th {\n",
       "        text-align: right;\n",
       "    }\n",
       "</style>\n",
       "<table border=\"1\" class=\"dataframe\">\n",
       "  <thead>\n",
       "    <tr style=\"text-align: right;\">\n",
       "      <th></th>\n",
       "      <th>loan_amnt</th>\n",
       "      <th>int_rate</th>\n",
       "      <th>last_fico_range_high</th>\n",
       "      <th>last_fico_range_low</th>\n",
       "    </tr>\n",
       "  </thead>\n",
       "  <tbody>\n",
       "    <tr>\n",
       "      <th>0</th>\n",
       "      <td>3600.0</td>\n",
       "      <td>13.99</td>\n",
       "      <td>564.0</td>\n",
       "      <td>560.0</td>\n",
       "    </tr>\n",
       "    <tr>\n",
       "      <th>1</th>\n",
       "      <td>24700.0</td>\n",
       "      <td>11.99</td>\n",
       "      <td>699.0</td>\n",
       "      <td>695.0</td>\n",
       "    </tr>\n",
       "    <tr>\n",
       "      <th>2</th>\n",
       "      <td>20000.0</td>\n",
       "      <td>10.78</td>\n",
       "      <td>704.0</td>\n",
       "      <td>700.0</td>\n",
       "    </tr>\n",
       "    <tr>\n",
       "      <th>3</th>\n",
       "      <td>10400.0</td>\n",
       "      <td>22.45</td>\n",
       "      <td>704.0</td>\n",
       "      <td>700.0</td>\n",
       "    </tr>\n",
       "    <tr>\n",
       "      <th>4</th>\n",
       "      <td>20000.0</td>\n",
       "      <td>9.17</td>\n",
       "      <td>654.0</td>\n",
       "      <td>650.0</td>\n",
       "    </tr>\n",
       "    <tr>\n",
       "      <th>...</th>\n",
       "      <td>...</td>\n",
       "      <td>...</td>\n",
       "      <td>...</td>\n",
       "      <td>...</td>\n",
       "    </tr>\n",
       "    <tr>\n",
       "      <th>1023603</th>\n",
       "      <td>18000.0</td>\n",
       "      <td>9.49</td>\n",
       "      <td>709.0</td>\n",
       "      <td>705.0</td>\n",
       "    </tr>\n",
       "    <tr>\n",
       "      <th>1023604</th>\n",
       "      <td>29400.0</td>\n",
       "      <td>13.99</td>\n",
       "      <td>719.0</td>\n",
       "      <td>715.0</td>\n",
       "    </tr>\n",
       "    <tr>\n",
       "      <th>1023605</th>\n",
       "      <td>32000.0</td>\n",
       "      <td>14.49</td>\n",
       "      <td>499.0</td>\n",
       "      <td>0.0</td>\n",
       "    </tr>\n",
       "    <tr>\n",
       "      <th>1023606</th>\n",
       "      <td>16000.0</td>\n",
       "      <td>12.79</td>\n",
       "      <td>684.0</td>\n",
       "      <td>680.0</td>\n",
       "    </tr>\n",
       "    <tr>\n",
       "      <th>1023607</th>\n",
       "      <td>24000.0</td>\n",
       "      <td>14.49</td>\n",
       "      <td>594.0</td>\n",
       "      <td>590.0</td>\n",
       "    </tr>\n",
       "  </tbody>\n",
       "</table>\n",
       "<p>1023608 rows × 4 columns</p>\n",
       "</div>"
      ],
      "text/plain": [
       "         loan_amnt  int_rate  last_fico_range_high  last_fico_range_low\n",
       "0           3600.0     13.99                 564.0                560.0\n",
       "1          24700.0     11.99                 699.0                695.0\n",
       "2          20000.0     10.78                 704.0                700.0\n",
       "3          10400.0     22.45                 704.0                700.0\n",
       "4          20000.0      9.17                 654.0                650.0\n",
       "...            ...       ...                   ...                  ...\n",
       "1023603    18000.0      9.49                 709.0                705.0\n",
       "1023604    29400.0     13.99                 719.0                715.0\n",
       "1023605    32000.0     14.49                 499.0                  0.0\n",
       "1023606    16000.0     12.79                 684.0                680.0\n",
       "1023607    24000.0     14.49                 594.0                590.0\n",
       "\n",
       "[1023608 rows x 4 columns]"
      ]
     },
     "execution_count": 24,
     "metadata": {},
     "output_type": "execute_result"
    }
   ],
   "source": [
    "XR = X[XR1000.columns]\n",
    "XR"
   ]
  },
  {
   "cell_type": "code",
   "execution_count": 25,
   "metadata": {},
   "outputs": [
    {
     "data": {
      "text/html": [
       "<div>\n",
       "<style scoped>\n",
       "    .dataframe tbody tr th:only-of-type {\n",
       "        vertical-align: middle;\n",
       "    }\n",
       "\n",
       "    .dataframe tbody tr th {\n",
       "        vertical-align: top;\n",
       "    }\n",
       "\n",
       "    .dataframe thead th {\n",
       "        text-align: right;\n",
       "    }\n",
       "</style>\n",
       "<table border=\"1\" class=\"dataframe\">\n",
       "  <thead>\n",
       "    <tr style=\"text-align: right;\">\n",
       "      <th></th>\n",
       "      <th>count</th>\n",
       "      <th>mean</th>\n",
       "      <th>std</th>\n",
       "      <th>min</th>\n",
       "      <th>25%</th>\n",
       "      <th>50%</th>\n",
       "      <th>75%</th>\n",
       "      <th>max</th>\n",
       "    </tr>\n",
       "  </thead>\n",
       "  <tbody>\n",
       "    <tr>\n",
       "      <th>loan_amnt</th>\n",
       "      <td>1023608.0</td>\n",
       "      <td>14731.430147</td>\n",
       "      <td>8762.492258</td>\n",
       "      <td>1000.00</td>\n",
       "      <td>8000.00</td>\n",
       "      <td>12575.00</td>\n",
       "      <td>20000.00</td>\n",
       "      <td>40000.00</td>\n",
       "    </tr>\n",
       "    <tr>\n",
       "      <th>int_rate</th>\n",
       "      <td>1023608.0</td>\n",
       "      <td>13.406376</td>\n",
       "      <td>4.814057</td>\n",
       "      <td>5.31</td>\n",
       "      <td>9.93</td>\n",
       "      <td>12.99</td>\n",
       "      <td>16.24</td>\n",
       "      <td>30.99</td>\n",
       "    </tr>\n",
       "    <tr>\n",
       "      <th>last_fico_range_high</th>\n",
       "      <td>1023608.0</td>\n",
       "      <td>675.151567</td>\n",
       "      <td>81.008597</td>\n",
       "      <td>0.00</td>\n",
       "      <td>624.00</td>\n",
       "      <td>689.00</td>\n",
       "      <td>734.00</td>\n",
       "      <td>850.00</td>\n",
       "    </tr>\n",
       "    <tr>\n",
       "      <th>last_fico_range_low</th>\n",
       "      <td>1023608.0</td>\n",
       "      <td>657.998028</td>\n",
       "      <td>132.415940</td>\n",
       "      <td>0.00</td>\n",
       "      <td>620.00</td>\n",
       "      <td>685.00</td>\n",
       "      <td>730.00</td>\n",
       "      <td>845.00</td>\n",
       "    </tr>\n",
       "  </tbody>\n",
       "</table>\n",
       "</div>"
      ],
      "text/plain": [
       "                          count          mean          std      min      25%  \\\n",
       "loan_amnt             1023608.0  14731.430147  8762.492258  1000.00  8000.00   \n",
       "int_rate              1023608.0     13.406376     4.814057     5.31     9.93   \n",
       "last_fico_range_high  1023608.0    675.151567    81.008597     0.00   624.00   \n",
       "last_fico_range_low   1023608.0    657.998028   132.415940     0.00   620.00   \n",
       "\n",
       "                           50%       75%       max  \n",
       "loan_amnt             12575.00  20000.00  40000.00  \n",
       "int_rate                 12.99     16.24     30.99  \n",
       "last_fico_range_high    689.00    734.00    850.00  \n",
       "last_fico_range_low     685.00    730.00    845.00  "
      ]
     },
     "execution_count": 25,
     "metadata": {},
     "output_type": "execute_result"
    }
   ],
   "source": [
    "XR.describe().T"
   ]
  },
  {
   "cell_type": "markdown",
   "metadata": {},
   "source": [
    "### Use the selected optimal feutures we have got for the first 1,000 rows"
   ]
  },
  {
   "cell_type": "code",
   "execution_count": 26,
   "metadata": {},
   "outputs": [
    {
     "data": {
      "text/html": [
       "<div>\n",
       "<style scoped>\n",
       "    .dataframe tbody tr th:only-of-type {\n",
       "        vertical-align: middle;\n",
       "    }\n",
       "\n",
       "    .dataframe tbody tr th {\n",
       "        vertical-align: top;\n",
       "    }\n",
       "\n",
       "    .dataframe thead th {\n",
       "        text-align: right;\n",
       "    }\n",
       "</style>\n",
       "<table border=\"1\" class=\"dataframe\">\n",
       "  <thead>\n",
       "    <tr style=\"text-align: right;\">\n",
       "      <th></th>\n",
       "      <th>term</th>\n",
       "      <th>emp_length</th>\n",
       "      <th>loan_amnt</th>\n",
       "      <th>int_rate</th>\n",
       "      <th>annual_inc</th>\n",
       "      <th>dti</th>\n",
       "      <th>delinq_2yrs</th>\n",
       "      <th>fico_range_low</th>\n",
       "      <th>inq_last_6mths</th>\n",
       "      <th>open_acc</th>\n",
       "      <th>...</th>\n",
       "      <th>verification_status_Source Verified</th>\n",
       "      <th>verification_status_Verified</th>\n",
       "      <th>purpose_debt_consolidation</th>\n",
       "      <th>purpose_home_improvement</th>\n",
       "      <th>purpose_small_business</th>\n",
       "      <th>addr_state_AL</th>\n",
       "      <th>addr_state_MO</th>\n",
       "      <th>addr_state_NJ</th>\n",
       "      <th>addr_state_NY</th>\n",
       "      <th>addr_state_TX</th>\n",
       "    </tr>\n",
       "  </thead>\n",
       "  <tbody>\n",
       "    <tr>\n",
       "      <th>0</th>\n",
       "      <td>36</td>\n",
       "      <td>10.0</td>\n",
       "      <td>3600.0</td>\n",
       "      <td>13.99</td>\n",
       "      <td>55000.0</td>\n",
       "      <td>5.91</td>\n",
       "      <td>0.0</td>\n",
       "      <td>675.0</td>\n",
       "      <td>1.0</td>\n",
       "      <td>7.0</td>\n",
       "      <td>...</td>\n",
       "      <td>0</td>\n",
       "      <td>0</td>\n",
       "      <td>1</td>\n",
       "      <td>0</td>\n",
       "      <td>0</td>\n",
       "      <td>0</td>\n",
       "      <td>0</td>\n",
       "      <td>0</td>\n",
       "      <td>0</td>\n",
       "      <td>0</td>\n",
       "    </tr>\n",
       "    <tr>\n",
       "      <th>1</th>\n",
       "      <td>36</td>\n",
       "      <td>10.0</td>\n",
       "      <td>24700.0</td>\n",
       "      <td>11.99</td>\n",
       "      <td>65000.0</td>\n",
       "      <td>16.06</td>\n",
       "      <td>1.0</td>\n",
       "      <td>715.0</td>\n",
       "      <td>4.0</td>\n",
       "      <td>22.0</td>\n",
       "      <td>...</td>\n",
       "      <td>0</td>\n",
       "      <td>0</td>\n",
       "      <td>0</td>\n",
       "      <td>0</td>\n",
       "      <td>1</td>\n",
       "      <td>0</td>\n",
       "      <td>0</td>\n",
       "      <td>0</td>\n",
       "      <td>0</td>\n",
       "      <td>0</td>\n",
       "    </tr>\n",
       "    <tr>\n",
       "      <th>2</th>\n",
       "      <td>60</td>\n",
       "      <td>10.0</td>\n",
       "      <td>20000.0</td>\n",
       "      <td>10.78</td>\n",
       "      <td>63000.0</td>\n",
       "      <td>10.78</td>\n",
       "      <td>0.0</td>\n",
       "      <td>695.0</td>\n",
       "      <td>0.0</td>\n",
       "      <td>6.0</td>\n",
       "      <td>...</td>\n",
       "      <td>0</td>\n",
       "      <td>0</td>\n",
       "      <td>0</td>\n",
       "      <td>1</td>\n",
       "      <td>0</td>\n",
       "      <td>0</td>\n",
       "      <td>0</td>\n",
       "      <td>0</td>\n",
       "      <td>0</td>\n",
       "      <td>0</td>\n",
       "    </tr>\n",
       "    <tr>\n",
       "      <th>3</th>\n",
       "      <td>60</td>\n",
       "      <td>3.0</td>\n",
       "      <td>10400.0</td>\n",
       "      <td>22.45</td>\n",
       "      <td>104433.0</td>\n",
       "      <td>25.37</td>\n",
       "      <td>1.0</td>\n",
       "      <td>695.0</td>\n",
       "      <td>3.0</td>\n",
       "      <td>12.0</td>\n",
       "      <td>...</td>\n",
       "      <td>1</td>\n",
       "      <td>0</td>\n",
       "      <td>0</td>\n",
       "      <td>0</td>\n",
       "      <td>0</td>\n",
       "      <td>0</td>\n",
       "      <td>0</td>\n",
       "      <td>0</td>\n",
       "      <td>0</td>\n",
       "      <td>0</td>\n",
       "    </tr>\n",
       "    <tr>\n",
       "      <th>4</th>\n",
       "      <td>36</td>\n",
       "      <td>10.0</td>\n",
       "      <td>20000.0</td>\n",
       "      <td>9.17</td>\n",
       "      <td>180000.0</td>\n",
       "      <td>14.67</td>\n",
       "      <td>0.0</td>\n",
       "      <td>680.0</td>\n",
       "      <td>0.0</td>\n",
       "      <td>12.0</td>\n",
       "      <td>...</td>\n",
       "      <td>0</td>\n",
       "      <td>0</td>\n",
       "      <td>1</td>\n",
       "      <td>0</td>\n",
       "      <td>0</td>\n",
       "      <td>0</td>\n",
       "      <td>0</td>\n",
       "      <td>0</td>\n",
       "      <td>0</td>\n",
       "      <td>0</td>\n",
       "    </tr>\n",
       "    <tr>\n",
       "      <th>...</th>\n",
       "      <td>...</td>\n",
       "      <td>...</td>\n",
       "      <td>...</td>\n",
       "      <td>...</td>\n",
       "      <td>...</td>\n",
       "      <td>...</td>\n",
       "      <td>...</td>\n",
       "      <td>...</td>\n",
       "      <td>...</td>\n",
       "      <td>...</td>\n",
       "      <td>...</td>\n",
       "      <td>...</td>\n",
       "      <td>...</td>\n",
       "      <td>...</td>\n",
       "      <td>...</td>\n",
       "      <td>...</td>\n",
       "      <td>...</td>\n",
       "      <td>...</td>\n",
       "      <td>...</td>\n",
       "      <td>...</td>\n",
       "      <td>...</td>\n",
       "    </tr>\n",
       "    <tr>\n",
       "      <th>1023603</th>\n",
       "      <td>60</td>\n",
       "      <td>5.0</td>\n",
       "      <td>18000.0</td>\n",
       "      <td>9.49</td>\n",
       "      <td>130000.0</td>\n",
       "      <td>20.59</td>\n",
       "      <td>0.0</td>\n",
       "      <td>735.0</td>\n",
       "      <td>1.0</td>\n",
       "      <td>17.0</td>\n",
       "      <td>...</td>\n",
       "      <td>0</td>\n",
       "      <td>0</td>\n",
       "      <td>0</td>\n",
       "      <td>1</td>\n",
       "      <td>0</td>\n",
       "      <td>0</td>\n",
       "      <td>0</td>\n",
       "      <td>0</td>\n",
       "      <td>0</td>\n",
       "      <td>1</td>\n",
       "    </tr>\n",
       "    <tr>\n",
       "      <th>1023604</th>\n",
       "      <td>60</td>\n",
       "      <td>9.0</td>\n",
       "      <td>29400.0</td>\n",
       "      <td>13.99</td>\n",
       "      <td>180792.0</td>\n",
       "      <td>22.03</td>\n",
       "      <td>0.0</td>\n",
       "      <td>705.0</td>\n",
       "      <td>1.0</td>\n",
       "      <td>16.0</td>\n",
       "      <td>...</td>\n",
       "      <td>0</td>\n",
       "      <td>0</td>\n",
       "      <td>1</td>\n",
       "      <td>0</td>\n",
       "      <td>0</td>\n",
       "      <td>0</td>\n",
       "      <td>0</td>\n",
       "      <td>0</td>\n",
       "      <td>0</td>\n",
       "      <td>0</td>\n",
       "    </tr>\n",
       "    <tr>\n",
       "      <th>1023605</th>\n",
       "      <td>60</td>\n",
       "      <td>3.0</td>\n",
       "      <td>32000.0</td>\n",
       "      <td>14.49</td>\n",
       "      <td>157000.0</td>\n",
       "      <td>10.34</td>\n",
       "      <td>0.0</td>\n",
       "      <td>735.0</td>\n",
       "      <td>0.0</td>\n",
       "      <td>14.0</td>\n",
       "      <td>...</td>\n",
       "      <td>1</td>\n",
       "      <td>0</td>\n",
       "      <td>0</td>\n",
       "      <td>1</td>\n",
       "      <td>0</td>\n",
       "      <td>0</td>\n",
       "      <td>0</td>\n",
       "      <td>0</td>\n",
       "      <td>0</td>\n",
       "      <td>0</td>\n",
       "    </tr>\n",
       "    <tr>\n",
       "      <th>1023606</th>\n",
       "      <td>60</td>\n",
       "      <td>10.0</td>\n",
       "      <td>16000.0</td>\n",
       "      <td>12.79</td>\n",
       "      <td>150000.0</td>\n",
       "      <td>12.25</td>\n",
       "      <td>0.0</td>\n",
       "      <td>665.0</td>\n",
       "      <td>0.0</td>\n",
       "      <td>12.0</td>\n",
       "      <td>...</td>\n",
       "      <td>0</td>\n",
       "      <td>0</td>\n",
       "      <td>0</td>\n",
       "      <td>0</td>\n",
       "      <td>0</td>\n",
       "      <td>0</td>\n",
       "      <td>0</td>\n",
       "      <td>0</td>\n",
       "      <td>0</td>\n",
       "      <td>0</td>\n",
       "    </tr>\n",
       "    <tr>\n",
       "      <th>1023607</th>\n",
       "      <td>60</td>\n",
       "      <td>6.0</td>\n",
       "      <td>24000.0</td>\n",
       "      <td>14.49</td>\n",
       "      <td>110000.0</td>\n",
       "      <td>18.30</td>\n",
       "      <td>0.0</td>\n",
       "      <td>660.0</td>\n",
       "      <td>0.0</td>\n",
       "      <td>10.0</td>\n",
       "      <td>...</td>\n",
       "      <td>0</td>\n",
       "      <td>0</td>\n",
       "      <td>1</td>\n",
       "      <td>0</td>\n",
       "      <td>0</td>\n",
       "      <td>0</td>\n",
       "      <td>0</td>\n",
       "      <td>0</td>\n",
       "      <td>0</td>\n",
       "      <td>0</td>\n",
       "    </tr>\n",
       "  </tbody>\n",
       "</table>\n",
       "<p>1023608 rows × 62 columns</p>\n",
       "</div>"
      ],
      "text/plain": [
       "         term  emp_length  loan_amnt  int_rate  annual_inc    dti  \\\n",
       "0          36        10.0     3600.0     13.99     55000.0   5.91   \n",
       "1          36        10.0    24700.0     11.99     65000.0  16.06   \n",
       "2          60        10.0    20000.0     10.78     63000.0  10.78   \n",
       "3          60         3.0    10400.0     22.45    104433.0  25.37   \n",
       "4          36        10.0    20000.0      9.17    180000.0  14.67   \n",
       "...       ...         ...        ...       ...         ...    ...   \n",
       "1023603    60         5.0    18000.0      9.49    130000.0  20.59   \n",
       "1023604    60         9.0    29400.0     13.99    180792.0  22.03   \n",
       "1023605    60         3.0    32000.0     14.49    157000.0  10.34   \n",
       "1023606    60        10.0    16000.0     12.79    150000.0  12.25   \n",
       "1023607    60         6.0    24000.0     14.49    110000.0  18.30   \n",
       "\n",
       "         delinq_2yrs  fico_range_low  inq_last_6mths  open_acc  ...  \\\n",
       "0                0.0           675.0             1.0       7.0  ...   \n",
       "1                1.0           715.0             4.0      22.0  ...   \n",
       "2                0.0           695.0             0.0       6.0  ...   \n",
       "3                1.0           695.0             3.0      12.0  ...   \n",
       "4                0.0           680.0             0.0      12.0  ...   \n",
       "...              ...             ...             ...       ...  ...   \n",
       "1023603          0.0           735.0             1.0      17.0  ...   \n",
       "1023604          0.0           705.0             1.0      16.0  ...   \n",
       "1023605          0.0           735.0             0.0      14.0  ...   \n",
       "1023606          0.0           665.0             0.0      12.0  ...   \n",
       "1023607          0.0           660.0             0.0      10.0  ...   \n",
       "\n",
       "         verification_status_Source Verified  verification_status_Verified  \\\n",
       "0                                          0                             0   \n",
       "1                                          0                             0   \n",
       "2                                          0                             0   \n",
       "3                                          1                             0   \n",
       "4                                          0                             0   \n",
       "...                                      ...                           ...   \n",
       "1023603                                    0                             0   \n",
       "1023604                                    0                             0   \n",
       "1023605                                    1                             0   \n",
       "1023606                                    0                             0   \n",
       "1023607                                    0                             0   \n",
       "\n",
       "         purpose_debt_consolidation  purpose_home_improvement  \\\n",
       "0                                 1                         0   \n",
       "1                                 0                         0   \n",
       "2                                 0                         1   \n",
       "3                                 0                         0   \n",
       "4                                 1                         0   \n",
       "...                             ...                       ...   \n",
       "1023603                           0                         1   \n",
       "1023604                           1                         0   \n",
       "1023605                           0                         1   \n",
       "1023606                           0                         0   \n",
       "1023607                           1                         0   \n",
       "\n",
       "         purpose_small_business  addr_state_AL  addr_state_MO  addr_state_NJ  \\\n",
       "0                             0              0              0              0   \n",
       "1                             1              0              0              0   \n",
       "2                             0              0              0              0   \n",
       "3                             0              0              0              0   \n",
       "4                             0              0              0              0   \n",
       "...                         ...            ...            ...            ...   \n",
       "1023603                       0              0              0              0   \n",
       "1023604                       0              0              0              0   \n",
       "1023605                       0              0              0              0   \n",
       "1023606                       0              0              0              0   \n",
       "1023607                       0              0              0              0   \n",
       "\n",
       "         addr_state_NY  addr_state_TX  \n",
       "0                    0              0  \n",
       "1                    0              0  \n",
       "2                    0              0  \n",
       "3                    0              0  \n",
       "4                    0              0  \n",
       "...                ...            ...  \n",
       "1023603              0              1  \n",
       "1023604              0              0  \n",
       "1023605              0              0  \n",
       "1023606              0              0  \n",
       "1023607              0              0  \n",
       "\n",
       "[1023608 rows x 62 columns]"
      ]
     },
     "execution_count": 26,
     "metadata": {},
     "output_type": "execute_result"
    }
   ],
   "source": [
    "X = X[X1000.columns]\n",
    "X"
   ]
  },
  {
   "cell_type": "code",
   "execution_count": 27,
   "metadata": {},
   "outputs": [
    {
     "data": {
      "text/html": [
       "<div>\n",
       "<style scoped>\n",
       "    .dataframe tbody tr th:only-of-type {\n",
       "        vertical-align: middle;\n",
       "    }\n",
       "\n",
       "    .dataframe tbody tr th {\n",
       "        vertical-align: top;\n",
       "    }\n",
       "\n",
       "    .dataframe thead th {\n",
       "        text-align: right;\n",
       "    }\n",
       "</style>\n",
       "<table border=\"1\" class=\"dataframe\">\n",
       "  <thead>\n",
       "    <tr style=\"text-align: right;\">\n",
       "      <th></th>\n",
       "      <th>term</th>\n",
       "      <th>emp_length</th>\n",
       "      <th>loan_amnt</th>\n",
       "      <th>int_rate</th>\n",
       "      <th>annual_inc</th>\n",
       "      <th>dti</th>\n",
       "      <th>delinq_2yrs</th>\n",
       "      <th>fico_range_low</th>\n",
       "      <th>inq_last_6mths</th>\n",
       "      <th>open_acc</th>\n",
       "      <th>...</th>\n",
       "      <th>verification_status_Source Verified</th>\n",
       "      <th>verification_status_Verified</th>\n",
       "      <th>purpose_debt_consolidation</th>\n",
       "      <th>purpose_home_improvement</th>\n",
       "      <th>purpose_small_business</th>\n",
       "      <th>addr_state_AL</th>\n",
       "      <th>addr_state_MO</th>\n",
       "      <th>addr_state_NJ</th>\n",
       "      <th>addr_state_NY</th>\n",
       "      <th>addr_state_TX</th>\n",
       "    </tr>\n",
       "  </thead>\n",
       "  <tbody>\n",
       "    <tr>\n",
       "      <th>count</th>\n",
       "      <td>1.023608e+06</td>\n",
       "      <td>1.023608e+06</td>\n",
       "      <td>1.023608e+06</td>\n",
       "      <td>1.023608e+06</td>\n",
       "      <td>1.023608e+06</td>\n",
       "      <td>1.023608e+06</td>\n",
       "      <td>1.023608e+06</td>\n",
       "      <td>1.023608e+06</td>\n",
       "      <td>1.023608e+06</td>\n",
       "      <td>1.023608e+06</td>\n",
       "      <td>...</td>\n",
       "      <td>1.023608e+06</td>\n",
       "      <td>1.023608e+06</td>\n",
       "      <td>1.023608e+06</td>\n",
       "      <td>1.023608e+06</td>\n",
       "      <td>1.023608e+06</td>\n",
       "      <td>1.023608e+06</td>\n",
       "      <td>1.023608e+06</td>\n",
       "      <td>1.023608e+06</td>\n",
       "      <td>1.023608e+06</td>\n",
       "      <td>1.023608e+06</td>\n",
       "    </tr>\n",
       "    <tr>\n",
       "      <th>mean</th>\n",
       "      <td>4.203130e+01</td>\n",
       "      <td>6.160305e+00</td>\n",
       "      <td>1.473143e+04</td>\n",
       "      <td>1.340638e+01</td>\n",
       "      <td>7.868392e+04</td>\n",
       "      <td>1.886576e+01</td>\n",
       "      <td>3.344112e-01</td>\n",
       "      <td>6.946077e+02</td>\n",
       "      <td>7.190116e-01</td>\n",
       "      <td>1.209292e+01</td>\n",
       "      <td>...</td>\n",
       "      <td>3.924715e-01</td>\n",
       "      <td>3.144866e-01</td>\n",
       "      <td>5.898772e-01</td>\n",
       "      <td>6.838946e-02</td>\n",
       "      <td>9.953029e-03</td>\n",
       "      <td>1.289263e-02</td>\n",
       "      <td>1.651023e-02</td>\n",
       "      <td>3.584282e-02</td>\n",
       "      <td>7.583763e-02</td>\n",
       "      <td>8.411521e-02</td>\n",
       "    </tr>\n",
       "    <tr>\n",
       "      <th>std</th>\n",
       "      <td>1.041032e+01</td>\n",
       "      <td>3.611333e+00</td>\n",
       "      <td>8.762492e+03</td>\n",
       "      <td>4.814057e+00</td>\n",
       "      <td>7.290254e+04</td>\n",
       "      <td>1.079899e+01</td>\n",
       "      <td>9.000680e-01</td>\n",
       "      <td>3.098041e+01</td>\n",
       "      <td>9.587176e-01</td>\n",
       "      <td>5.518546e+00</td>\n",
       "      <td>...</td>\n",
       "      <td>4.883010e-01</td>\n",
       "      <td>4.643113e-01</td>\n",
       "      <td>4.918560e-01</td>\n",
       "      <td>2.524132e-01</td>\n",
       "      <td>9.926719e-02</td>\n",
       "      <td>1.128115e-01</td>\n",
       "      <td>1.274271e-01</td>\n",
       "      <td>1.858982e-01</td>\n",
       "      <td>2.647383e-01</td>\n",
       "      <td>2.775607e-01</td>\n",
       "    </tr>\n",
       "    <tr>\n",
       "      <th>min</th>\n",
       "      <td>3.600000e+01</td>\n",
       "      <td>0.000000e+00</td>\n",
       "      <td>1.000000e+03</td>\n",
       "      <td>5.310000e+00</td>\n",
       "      <td>1.600000e+01</td>\n",
       "      <td>-1.000000e+00</td>\n",
       "      <td>0.000000e+00</td>\n",
       "      <td>6.600000e+02</td>\n",
       "      <td>0.000000e+00</td>\n",
       "      <td>1.000000e+00</td>\n",
       "      <td>...</td>\n",
       "      <td>0.000000e+00</td>\n",
       "      <td>0.000000e+00</td>\n",
       "      <td>0.000000e+00</td>\n",
       "      <td>0.000000e+00</td>\n",
       "      <td>0.000000e+00</td>\n",
       "      <td>0.000000e+00</td>\n",
       "      <td>0.000000e+00</td>\n",
       "      <td>0.000000e+00</td>\n",
       "      <td>0.000000e+00</td>\n",
       "      <td>0.000000e+00</td>\n",
       "    </tr>\n",
       "    <tr>\n",
       "      <th>25%</th>\n",
       "      <td>3.600000e+01</td>\n",
       "      <td>3.000000e+00</td>\n",
       "      <td>8.000000e+03</td>\n",
       "      <td>9.930000e+00</td>\n",
       "      <td>4.800000e+04</td>\n",
       "      <td>1.248000e+01</td>\n",
       "      <td>0.000000e+00</td>\n",
       "      <td>6.700000e+02</td>\n",
       "      <td>0.000000e+00</td>\n",
       "      <td>8.000000e+00</td>\n",
       "      <td>...</td>\n",
       "      <td>0.000000e+00</td>\n",
       "      <td>0.000000e+00</td>\n",
       "      <td>0.000000e+00</td>\n",
       "      <td>0.000000e+00</td>\n",
       "      <td>0.000000e+00</td>\n",
       "      <td>0.000000e+00</td>\n",
       "      <td>0.000000e+00</td>\n",
       "      <td>0.000000e+00</td>\n",
       "      <td>0.000000e+00</td>\n",
       "      <td>0.000000e+00</td>\n",
       "    </tr>\n",
       "    <tr>\n",
       "      <th>50%</th>\n",
       "      <td>3.600000e+01</td>\n",
       "      <td>7.000000e+00</td>\n",
       "      <td>1.257500e+04</td>\n",
       "      <td>1.299000e+01</td>\n",
       "      <td>6.650000e+04</td>\n",
       "      <td>1.823000e+01</td>\n",
       "      <td>0.000000e+00</td>\n",
       "      <td>6.850000e+02</td>\n",
       "      <td>0.000000e+00</td>\n",
       "      <td>1.100000e+01</td>\n",
       "      <td>...</td>\n",
       "      <td>0.000000e+00</td>\n",
       "      <td>0.000000e+00</td>\n",
       "      <td>1.000000e+00</td>\n",
       "      <td>0.000000e+00</td>\n",
       "      <td>0.000000e+00</td>\n",
       "      <td>0.000000e+00</td>\n",
       "      <td>0.000000e+00</td>\n",
       "      <td>0.000000e+00</td>\n",
       "      <td>0.000000e+00</td>\n",
       "      <td>0.000000e+00</td>\n",
       "    </tr>\n",
       "    <tr>\n",
       "      <th>75%</th>\n",
       "      <td>6.000000e+01</td>\n",
       "      <td>1.000000e+01</td>\n",
       "      <td>2.000000e+04</td>\n",
       "      <td>1.624000e+01</td>\n",
       "      <td>9.400000e+04</td>\n",
       "      <td>2.465000e+01</td>\n",
       "      <td>0.000000e+00</td>\n",
       "      <td>7.100000e+02</td>\n",
       "      <td>1.000000e+00</td>\n",
       "      <td>1.500000e+01</td>\n",
       "      <td>...</td>\n",
       "      <td>1.000000e+00</td>\n",
       "      <td>1.000000e+00</td>\n",
       "      <td>1.000000e+00</td>\n",
       "      <td>0.000000e+00</td>\n",
       "      <td>0.000000e+00</td>\n",
       "      <td>0.000000e+00</td>\n",
       "      <td>0.000000e+00</td>\n",
       "      <td>0.000000e+00</td>\n",
       "      <td>0.000000e+00</td>\n",
       "      <td>0.000000e+00</td>\n",
       "    </tr>\n",
       "    <tr>\n",
       "      <th>max</th>\n",
       "      <td>6.000000e+01</td>\n",
       "      <td>1.000000e+01</td>\n",
       "      <td>4.000000e+04</td>\n",
       "      <td>3.099000e+01</td>\n",
       "      <td>1.099920e+07</td>\n",
       "      <td>9.990000e+02</td>\n",
       "      <td>3.900000e+01</td>\n",
       "      <td>8.450000e+02</td>\n",
       "      <td>8.000000e+00</td>\n",
       "      <td>9.000000e+01</td>\n",
       "      <td>...</td>\n",
       "      <td>1.000000e+00</td>\n",
       "      <td>1.000000e+00</td>\n",
       "      <td>1.000000e+00</td>\n",
       "      <td>1.000000e+00</td>\n",
       "      <td>1.000000e+00</td>\n",
       "      <td>1.000000e+00</td>\n",
       "      <td>1.000000e+00</td>\n",
       "      <td>1.000000e+00</td>\n",
       "      <td>1.000000e+00</td>\n",
       "      <td>1.000000e+00</td>\n",
       "    </tr>\n",
       "  </tbody>\n",
       "</table>\n",
       "<p>8 rows × 62 columns</p>\n",
       "</div>"
      ],
      "text/plain": [
       "               term    emp_length     loan_amnt      int_rate    annual_inc  \\\n",
       "count  1.023608e+06  1.023608e+06  1.023608e+06  1.023608e+06  1.023608e+06   \n",
       "mean   4.203130e+01  6.160305e+00  1.473143e+04  1.340638e+01  7.868392e+04   \n",
       "std    1.041032e+01  3.611333e+00  8.762492e+03  4.814057e+00  7.290254e+04   \n",
       "min    3.600000e+01  0.000000e+00  1.000000e+03  5.310000e+00  1.600000e+01   \n",
       "25%    3.600000e+01  3.000000e+00  8.000000e+03  9.930000e+00  4.800000e+04   \n",
       "50%    3.600000e+01  7.000000e+00  1.257500e+04  1.299000e+01  6.650000e+04   \n",
       "75%    6.000000e+01  1.000000e+01  2.000000e+04  1.624000e+01  9.400000e+04   \n",
       "max    6.000000e+01  1.000000e+01  4.000000e+04  3.099000e+01  1.099920e+07   \n",
       "\n",
       "                dti   delinq_2yrs  fico_range_low  inq_last_6mths  \\\n",
       "count  1.023608e+06  1.023608e+06    1.023608e+06    1.023608e+06   \n",
       "mean   1.886576e+01  3.344112e-01    6.946077e+02    7.190116e-01   \n",
       "std    1.079899e+01  9.000680e-01    3.098041e+01    9.587176e-01   \n",
       "min   -1.000000e+00  0.000000e+00    6.600000e+02    0.000000e+00   \n",
       "25%    1.248000e+01  0.000000e+00    6.700000e+02    0.000000e+00   \n",
       "50%    1.823000e+01  0.000000e+00    6.850000e+02    0.000000e+00   \n",
       "75%    2.465000e+01  0.000000e+00    7.100000e+02    1.000000e+00   \n",
       "max    9.990000e+02  3.900000e+01    8.450000e+02    8.000000e+00   \n",
       "\n",
       "           open_acc  ...  verification_status_Source Verified  \\\n",
       "count  1.023608e+06  ...                         1.023608e+06   \n",
       "mean   1.209292e+01  ...                         3.924715e-01   \n",
       "std    5.518546e+00  ...                         4.883010e-01   \n",
       "min    1.000000e+00  ...                         0.000000e+00   \n",
       "25%    8.000000e+00  ...                         0.000000e+00   \n",
       "50%    1.100000e+01  ...                         0.000000e+00   \n",
       "75%    1.500000e+01  ...                         1.000000e+00   \n",
       "max    9.000000e+01  ...                         1.000000e+00   \n",
       "\n",
       "       verification_status_Verified  purpose_debt_consolidation  \\\n",
       "count                  1.023608e+06                1.023608e+06   \n",
       "mean                   3.144866e-01                5.898772e-01   \n",
       "std                    4.643113e-01                4.918560e-01   \n",
       "min                    0.000000e+00                0.000000e+00   \n",
       "25%                    0.000000e+00                0.000000e+00   \n",
       "50%                    0.000000e+00                1.000000e+00   \n",
       "75%                    1.000000e+00                1.000000e+00   \n",
       "max                    1.000000e+00                1.000000e+00   \n",
       "\n",
       "       purpose_home_improvement  purpose_small_business  addr_state_AL  \\\n",
       "count              1.023608e+06            1.023608e+06   1.023608e+06   \n",
       "mean               6.838946e-02            9.953029e-03   1.289263e-02   \n",
       "std                2.524132e-01            9.926719e-02   1.128115e-01   \n",
       "min                0.000000e+00            0.000000e+00   0.000000e+00   \n",
       "25%                0.000000e+00            0.000000e+00   0.000000e+00   \n",
       "50%                0.000000e+00            0.000000e+00   0.000000e+00   \n",
       "75%                0.000000e+00            0.000000e+00   0.000000e+00   \n",
       "max                1.000000e+00            1.000000e+00   1.000000e+00   \n",
       "\n",
       "       addr_state_MO  addr_state_NJ  addr_state_NY  addr_state_TX  \n",
       "count   1.023608e+06   1.023608e+06   1.023608e+06   1.023608e+06  \n",
       "mean    1.651023e-02   3.584282e-02   7.583763e-02   8.411521e-02  \n",
       "std     1.274271e-01   1.858982e-01   2.647383e-01   2.775607e-01  \n",
       "min     0.000000e+00   0.000000e+00   0.000000e+00   0.000000e+00  \n",
       "25%     0.000000e+00   0.000000e+00   0.000000e+00   0.000000e+00  \n",
       "50%     0.000000e+00   0.000000e+00   0.000000e+00   0.000000e+00  \n",
       "75%     0.000000e+00   0.000000e+00   0.000000e+00   0.000000e+00  \n",
       "max     1.000000e+00   1.000000e+00   1.000000e+00   1.000000e+00  \n",
       "\n",
       "[8 rows x 62 columns]"
      ]
     },
     "execution_count": 27,
     "metadata": {},
     "output_type": "execute_result"
    }
   ],
   "source": [
    "X.describe()"
   ]
  },
  {
   "cell_type": "markdown",
   "metadata": {},
   "source": [
    "### Split into testing and training datasets"
   ]
  },
  {
   "cell_type": "code",
   "execution_count": 28,
   "metadata": {},
   "outputs": [],
   "source": [
    "XR_train, XR_test, yR_train, yR_test = train_test_split(XR, target, test_size=0.25)\n",
    "\n",
    "X_train, X_test, y_train, y_test = train_test_split(X, target, test_size=0.25)\n"
   ]
  },
  {
   "cell_type": "markdown",
   "metadata": {},
   "source": [
    "## 5.4 Modeling"
   ]
  },
  {
   "cell_type": "markdown",
   "metadata": {},
   "source": [
    "The goal is to create a model that predicts the value of a target variable by learning simple decision rules inferred from the data features. \n",
    "\n",
    "Predict descrit class label"
   ]
  },
  {
   "cell_type": "markdown",
   "metadata": {},
   "source": [
    "### 5.4.1 Classification models"
   ]
  },
  {
   "cell_type": "markdown",
   "metadata": {},
   "source": [
    "Classification algorithm - Decision Tree"
   ]
  },
  {
   "cell_type": "markdown",
   "metadata": {},
   "source": [
    "### Random Forest"
   ]
  },
  {
   "cell_type": "code",
   "execution_count": 29,
   "metadata": {},
   "outputs": [
    {
     "name": "stderr",
     "output_type": "stream",
     "text": [
      "[Parallel(n_jobs=-1)]: Using backend ThreadingBackend with 4 concurrent workers.\n",
      "[Parallel(n_jobs=-1)]: Done  42 tasks      | elapsed:  1.3min\n",
      "[Parallel(n_jobs=-1)]: Done 100 out of 100 | elapsed:  3.3min finished\n",
      "[Parallel(n_jobs=4)]: Using backend ThreadingBackend with 4 concurrent workers.\n",
      "[Parallel(n_jobs=4)]: Done  42 tasks      | elapsed:    4.8s\n",
      "[Parallel(n_jobs=4)]: Done 100 out of 100 | elapsed:   11.0s finished\n"
     ]
    },
    {
     "name": "stdout",
     "output_type": "stream",
     "text": [
      "[[ 40224  12507]\n",
      " [ 18051 185120]]\n"
     ]
    }
   ],
   "source": [
    "# Train a random forest classifier\n",
    "\n",
    "rf_model = RandomForestClassifier(n_estimators=100, oob_score=True, class_weight=\"balanced\", n_jobs=-1, verbose=True)\n",
    "rf_model.fit(XR_train, yR_train)\n",
    "\n",
    "y_pred = rf_model.predict(XR_test)\n",
    "pl = confusion_matrix(yR_test,y_pred)\n",
    "\n",
    "print(pl)\n"
   ]
  },
  {
   "cell_type": "code",
   "execution_count": 30,
   "metadata": {},
   "outputs": [
    {
     "data": {
      "text/plain": [
       "<matplotlib.axes._subplots.AxesSubplot at 0x1dda191d490>"
      ]
     },
     "execution_count": 30,
     "metadata": {},
     "output_type": "execute_result"
    },
    {
     "data": {
      "image/png": "[encoded data removed]",
      "text/plain": [
       "<Figure size 504x360 with 2 Axes>"
      ]
     },
     "metadata": {
      "needs_background": "light"
     },
     "output_type": "display_data"
    }
   ],
   "source": [
    "# plot Confusion matrix\n",
    "plt.figure(figsize = (7,5))\n",
    "sns.heatmap(pl, annot=True, cmap ='Blues')"
   ]
  },
  {
   "cell_type": "code",
   "execution_count": 31,
   "metadata": {},
   "outputs": [
    {
     "name": "stdout",
     "output_type": "stream",
     "text": [
      "              precision    recall  f1-score   support\n",
      "\n",
      "           0       0.69      0.76      0.72     52731\n",
      "           1       0.94      0.91      0.92    203171\n",
      "\n",
      "    accuracy                           0.88    255902\n",
      "   macro avg       0.81      0.84      0.82    255902\n",
      "weighted avg       0.89      0.88      0.88    255902\n",
      "\n"
     ]
    }
   ],
   "source": [
    "print(classification_report(yR_test, y_pred))"
   ]
  },
  {
   "cell_type": "code",
   "execution_count": 32,
   "metadata": {},
   "outputs": [
    {
     "name": "stdout",
     "output_type": "stream",
     "text": [
      "Accuracy: 0.8805870997491227\n",
      "Balanced accuracy: 0.8369843505628007\n",
      "Precision score 0.9367141129501536\n",
      "Recall score 0.7628150423849348\n"
     ]
    }
   ],
   "source": [
    "print(\"Accuracy:\", metrics.accuracy_score(yR_test,y_pred))\n",
    "print(\"Balanced accuracy:\", metrics.balanced_accuracy_score(yR_test,y_pred))\n",
    "print('Precision score' , metrics.precision_score(yR_test,y_pred, pos_label = 1))\n",
    "print('Recall score' , metrics.recall_score(yR_test,y_pred, pos_label = 0))"
   ]
  },
  {
   "cell_type": "markdown",
   "metadata": {},
   "source": [
    "### Train a random forest classifier for X (62 features)"
   ]
  },
  {
   "cell_type": "code",
   "execution_count": 33,
   "metadata": {},
   "outputs": [
    {
     "name": "stderr",
     "output_type": "stream",
     "text": [
      "[Parallel(n_jobs=-1)]: Using backend ThreadingBackend with 4 concurrent workers.\n",
      "[Parallel(n_jobs=-1)]: Done  42 tasks      | elapsed:  3.3min\n",
      "[Parallel(n_jobs=-1)]: Done 100 out of 100 | elapsed:  8.3min finished\n",
      "[Parallel(n_jobs=4)]: Using backend ThreadingBackend with 4 concurrent workers.\n",
      "[Parallel(n_jobs=4)]: Done  42 tasks      | elapsed:    4.7s\n",
      "[Parallel(n_jobs=4)]: Done 100 out of 100 | elapsed:   14.0s finished\n"
     ]
    },
    {
     "name": "stdout",
     "output_type": "stream",
     "text": [
      "[[ 11721  40952]\n",
      " [ 46554 156675]]\n"
     ]
    }
   ],
   "source": [
    "# Train a random forest classifier\n",
    "\n",
    "rf_model2 = RandomForestClassifier(n_estimators=100, oob_score=True, class_weight=\"balanced\", n_jobs=-1, verbose=True)\n",
    "rf_model2.fit(X_train, y_train)\n",
    "\n",
    "y_pred2 = rf_model2.predict(X_test)\n",
    "pl2 = confusion_matrix(y_test,y_pred)\n",
    "\n",
    "print(pl2)\n"
   ]
  },
  {
   "cell_type": "code",
   "execution_count": 34,
   "metadata": {},
   "outputs": [
    {
     "data": {
      "text/plain": [
       "<matplotlib.axes._subplots.AxesSubplot at 0x1dd004b5460>"
      ]
     },
     "execution_count": 34,
     "metadata": {},
     "output_type": "execute_result"
    },
    {
     "data": {
      "image/png": "[encoded data removed]",
      "text/plain": [
       "<Figure size 504x360 with 2 Axes>"
      ]
     },
     "metadata": {
      "needs_background": "light"
     },
     "output_type": "display_data"
    }
   ],
   "source": [
    "#plot Confusion matrix\n",
    "\n",
    "plt.figure(figsize = (7,5))\n",
    "sns.heatmap(pl, annot=True, cmap ='Greens')"
   ]
  },
  {
   "cell_type": "code",
   "execution_count": 35,
   "metadata": {},
   "outputs": [
    {
     "name": "stdout",
     "output_type": "stream",
     "text": [
      "              precision    recall  f1-score   support\n",
      "\n",
      "           0       0.77      0.77      0.77     52673\n",
      "           1       0.94      0.94      0.94    203229\n",
      "\n",
      "    accuracy                           0.91    255902\n",
      "   macro avg       0.86      0.86      0.86    255902\n",
      "weighted avg       0.91      0.91      0.91    255902\n",
      "\n"
     ]
    }
   ],
   "source": [
    "print(classification_report(y_test, y_pred2))"
   ]
  },
  {
   "cell_type": "code",
   "execution_count": 36,
   "metadata": {},
   "outputs": [
    {
     "name": "stdout",
     "output_type": "stream",
     "text": [
      "Accuracy: 0.906030433525334\n",
      "Balanced accuracy: 0.8555083471805954\n",
      "Precision score 0.940358810518555\n",
      "Recall score 0.7696352970212443\n"
     ]
    }
   ],
   "source": [
    "print(\"Accuracy:\", metrics.accuracy_score(y_test,y_pred2))\n",
    "print(\"Balanced accuracy:\", metrics.balanced_accuracy_score(y_test,y_pred2))\n",
    "print('Precision score' , metrics.precision_score(y_test,y_pred2, pos_label = 1))\n",
    "print('Recall score' , metrics.recall_score(y_test,y_pred2, pos_label = 0))"
   ]
  },
  {
   "cell_type": "markdown",
   "metadata": {},
   "source": [
    "\n"
   ]
  },
  {
   "cell_type": "markdown",
   "metadata": {},
   "source": [
    "### K-nearest neighbor"
   ]
  },
  {
   "cell_type": "code",
   "execution_count": 37,
   "metadata": {},
   "outputs": [],
   "source": [
    "from sklearn.neighbors import KNeighborsClassifier\n",
    "\n",
    "knn = KNeighborsClassifier(p=2,weights='distance',n_neighbors=50)\n",
    "knn.fit(X_train,y_train)\n",
    "\n",
    "y_pred_knn=knn.predict(X_test)\n",
    "\n"
   ]
  },
  {
   "cell_type": "code",
   "execution_count": 38,
   "metadata": {},
   "outputs": [
    {
     "name": "stdout",
     "output_type": "stream",
     "text": [
      "[[   444  52229]\n",
      " [   540 202689]]\n"
     ]
    }
   ],
   "source": [
    "#Confusion matrix:\n",
    "\n",
    "cm_knn = confusion_matrix(y_test, y_pred_knn)\n",
    "print(cm_knn)\n"
   ]
  },
  {
   "cell_type": "code",
   "execution_count": 39,
   "metadata": {},
   "outputs": [
    {
     "data": {
      "text/plain": [
       "<matplotlib.axes._subplots.AxesSubplot at 0x1dd041a2880>"
      ]
     },
     "execution_count": 39,
     "metadata": {},
     "output_type": "execute_result"
    },
    {
     "data": {
      "image/png": "[encoded data removed]",
      "text/plain": [
       "<Figure size 504x360 with 2 Axes>"
      ]
     },
     "metadata": {
      "needs_background": "light"
     },
     "output_type": "display_data"
    }
   ],
   "source": [
    "plt.figure(figsize = (7,5))\n",
    "sns.heatmap(cm_knn, annot=True, cmap ='Oranges')"
   ]
  },
  {
   "cell_type": "code",
   "execution_count": 40,
   "metadata": {},
   "outputs": [
    {
     "name": "stdout",
     "output_type": "stream",
     "text": [
      "              precision    recall  f1-score   support\n",
      "\n",
      "           0       0.45      0.01      0.02     52673\n",
      "           1       0.80      1.00      0.88    203229\n",
      "\n",
      "    accuracy                           0.79    255902\n",
      "   macro avg       0.62      0.50      0.45    255902\n",
      "weighted avg       0.72      0.79      0.71    255902\n",
      "\n"
     ]
    }
   ],
   "source": [
    "print(classification_report(y_test, y_pred_knn))"
   ]
  },
  {
   "cell_type": "code",
   "execution_count": 41,
   "metadata": {},
   "outputs": [
    {
     "name": "stdout",
     "output_type": "stream",
     "text": [
      "Accuracy: 0.7937921548092629\n",
      "Balanced accuracy: 0.5028861324930956\n",
      "Precision score 0.795114507410226\n",
      "Recall score 0.008429366088888045\n"
     ]
    }
   ],
   "source": [
    "print(\"Accuracy:\", metrics.accuracy_score(y_test,y_pred_knn))\n",
    "print(\"Balanced accuracy:\", metrics.balanced_accuracy_score(y_test,y_pred_knn))\n",
    "print('Precision score' , metrics.precision_score(y_test,y_pred_knn, pos_label = 1))\n",
    "print('Recall score' , metrics.recall_score(y_test,y_pred_knn, pos_label = 0))"
   ]
  },
  {
   "cell_type": "markdown",
   "metadata": {},
   "source": [
    "### Gradient Boosting"
   ]
  },
  {
   "cell_type": "code",
   "execution_count": 42,
   "metadata": {},
   "outputs": [
    {
     "name": "stdout",
     "output_type": "stream",
     "text": [
      "[[ 41256  11417]\n",
      " [ 12610 190619]]\n"
     ]
    }
   ],
   "source": [
    "from sklearn.ensemble import GradientBoostingClassifier\n",
    "\n",
    "gb = GradientBoostingClassifier(n_estimators=20, learning_rate = 1, max_features=None, max_depth = 2, random_state = 0)\n",
    "model_res = gb.fit(X_train, y_train)\n",
    "\n",
    "y_pred_gb = model_res.predict(X_test)\n",
    "\n",
    "#Confusion matrix:\n",
    "\n",
    "cm_gb = confusion_matrix(y_test, y_pred_gb)\n",
    "print(cm_gb)\n",
    "\n"
   ]
  },
  {
   "cell_type": "code",
   "execution_count": 43,
   "metadata": {},
   "outputs": [
    {
     "data": {
      "text/plain": [
       "<matplotlib.axes._subplots.AxesSubplot at 0x1dd046402b0>"
      ]
     },
     "execution_count": 43,
     "metadata": {},
     "output_type": "execute_result"
    },
    {
     "data": {
      "image/png": "[encoded data removed]",
      "text/plain": [
       "<Figure size 504x360 with 2 Axes>"
      ]
     },
     "metadata": {
      "needs_background": "light"
     },
     "output_type": "display_data"
    }
   ],
   "source": [
    "plt.figure(figsize = (7,5))\n",
    "sns.heatmap(cm_gb, annot=True, cmap ='Greens')"
   ]
  },
  {
   "cell_type": "code",
   "execution_count": 44,
   "metadata": {},
   "outputs": [
    {
     "name": "stdout",
     "output_type": "stream",
     "text": [
      "              precision    recall  f1-score   support\n",
      "\n",
      "           0       0.77      0.78      0.77     52673\n",
      "           1       0.94      0.94      0.94    203229\n",
      "\n",
      "    accuracy                           0.91    255902\n",
      "   macro avg       0.85      0.86      0.86    255902\n",
      "weighted avg       0.91      0.91      0.91    255902\n",
      "\n"
     ]
    }
   ],
   "source": [
    "print(classification_report(y_test, y_pred_gb))"
   ]
  },
  {
   "cell_type": "code",
   "execution_count": 45,
   "metadata": {},
   "outputs": [
    {
     "name": "stdout",
     "output_type": "stream",
     "text": [
      "Accuracy: 0.9061085884440138\n",
      "Balanced accuracy: 0.8605996764228507\n",
      "Precision score 0.9434902690609595\n",
      "Recall score 0.7832475841512729\n"
     ]
    }
   ],
   "source": [
    "print(\"Accuracy:\", metrics.accuracy_score(y_test,y_pred_gb))\n",
    "print(\"Balanced accuracy:\", metrics.balanced_accuracy_score(y_test,y_pred_gb))\n",
    "print('Precision score' , metrics.precision_score(y_test,y_pred_gb, pos_label = 1))\n",
    "print('Recall score' , metrics.recall_score(y_test,y_pred_gb, pos_label = 0))"
   ]
  },
  {
   "cell_type": "markdown",
   "metadata": {},
   "source": [
    "### Support Vector Machine (SVM):"
   ]
  },
  {
   "cell_type": "code",
   "execution_count": null,
   "metadata": {},
   "outputs": [],
   "source": [
    "svm = SVC(kernel='linear')\n",
    "svm.fit(XR_train, yR_train)\n",
    "\n",
    "y_pred_svm=svm.predict(XR_test)\n"
   ]
  },
  {
   "cell_type": "code",
   "execution_count": null,
   "metadata": {},
   "outputs": [],
   "source": [
    "#Confusion matrix:\n",
    "\n",
    "cm_svm = confusion_matrix(y_test, y_pred_svm)\n",
    "print(cm_svm)\n"
   ]
  },
  {
   "cell_type": "code",
   "execution_count": null,
   "metadata": {},
   "outputs": [],
   "source": [
    "plt.figure(figsize = (7,5))\n",
    "sns.heatmap(cm_svm, annot=True, cmap ='Reds')"
   ]
  },
  {
   "cell_type": "code",
   "execution_count": null,
   "metadata": {},
   "outputs": [],
   "source": [
    "print(classification_report(y_test, y_pred_svm))"
   ]
  },
  {
   "cell_type": "code",
   "execution_count": null,
   "metadata": {},
   "outputs": [],
   "source": [
    "print(\"Accuracy:\", metrics.accuracy_score(y_test,y_pred_svm))\n",
    "print(\"Balanced accuracy:\", metrics.balanced_accuracy_score(y_test,y_pred_svm))\n",
    "print('Precision score' , metrics.precision_score(y_test,y_pred_svm, pos_label = 1))\n",
    "print('Recall score' , metrics.recall_score(y_test,y_pred_svm, pos_label = 0))"
   ]
  },
  {
   "cell_type": "markdown",
   "metadata": {},
   "source": [
    "# DRAFT!!!"
   ]
  },
  {
   "cell_type": "markdown",
   "metadata": {},
   "source": [
    "Artificial Neural Networks"
   ]
  },
  {
   "cell_type": "code",
   "execution_count": null,
   "metadata": {},
   "outputs": [],
   "source": [
    "#!pip install keras"
   ]
  },
  {
   "cell_type": "code",
   "execution_count": null,
   "metadata": {},
   "outputs": [],
   "source": [
    "#!pip install tensorflow"
   ]
  },
  {
   "cell_type": "code",
   "execution_count": null,
   "metadata": {},
   "outputs": [],
   "source": [
    "from sklearn.preprocessing import MinMaxScaler\n",
    "\n",
    "scaler = MinMaxScaler()\n",
    "\n",
    "X_train= scaler.fit_transform(X_train)\n",
    "X_test = scaler.transform(X_test)\n",
    "\n",
    "print(X_train.shape)\n",
    "print(X_test.shape)"
   ]
  },
  {
   "cell_type": "code",
   "execution_count": null,
   "metadata": {},
   "outputs": [],
   "source": [
    "from tensorflow.keras.models import Sequential\n",
    "from tensorflow.keras.layers import Dense, Dropout\n",
    "\n",
    "# building the model\n",
    "\n",
    "model = Sequential()\n",
    "model.add(Dense(units=78,activation='relu'))\n",
    "model.add(Dense(units=39,activation='relu'))\n",
    "model.add(Dense(units=19,activation='relu'))\n",
    "model.add(Dense(units=8,activation='relu'))\n",
    "model.add(Dense(units=4,activation='relu'))\n",
    "model.add(Dense(units=1,activation='sigmoid'))\n",
    "\n",
    "model.compile(loss='binary_crossentropy', optimizer='adam', metrics=['accuracy'])\n"
   ]
  },
  {
   "cell_type": "code",
   "execution_count": null,
   "metadata": {},
   "outputs": [],
   "source": [
    "model.fit(x=X_train, \n",
    "          y=y9_train, \n",
    "          epochs=40,\n",
    "          batch_size=512,\n",
    "          validation_data=(X_test, y_test), verbose=1)"
   ]
  },
  {
   "cell_type": "code",
   "execution_count": null,
   "metadata": {},
   "outputs": [],
   "source": [
    "predictions = (model.predict(X_test) > 0.5).astype(\"int32\")\n",
    "\n",
    "print(classification_report(y_test, predictions))"
   ]
  },
  {
   "cell_type": "markdown",
   "metadata": {},
   "source": [
    "Evaluate"
   ]
  },
  {
   "cell_type": "code",
   "execution_count": null,
   "metadata": {},
   "outputs": [],
   "source": [
    "losses = pd.DataFrame(model.history.history)\n",
    "losses"
   ]
  },
  {
   "cell_type": "code",
   "execution_count": null,
   "metadata": {},
   "outputs": [],
   "source": [
    "#losses[['loss','"
   ]
  },
  {
   "cell_type": "code",
   "execution_count": null,
   "metadata": {},
   "outputs": [],
   "source": []
  }
 ],
 "metadata": {
  "kernelspec": {
   "display_name": "Python 3",
   "language": "python",
   "name": "python3"
  },
  "language_info": {
   "codemirror_mode": {
    "name": "ipython",
    "version": 3
   },
   "file_extension": ".py",
   "mimetype": "text/x-python",
   "name": "python",
   "nbconvert_exporter": "python",
   "pygments_lexer": "ipython3",
   "version": "3.8.3"
  }
 },
 "nbformat": 4,
 "nbformat_minor": 4
}
