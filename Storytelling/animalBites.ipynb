{
 "cells": [
  {
   "cell_type": "markdown",
   "metadata": {},
   "source": [
    "# Storytelling"
   ]
  },
  {
   "cell_type": "markdown",
   "metadata": {},
   "source": [
    "## Animal bites in US from 1985 to 2017"
   ]
  },
  {
   "cell_type": "markdown",
   "metadata": {},
   "source": [
    "In the United States, animal bites are often reported to law enforcement (such as animal control). \n",
    "\n",
    "The Health_AnimalBites dataset includes information on over 9,000 animal bites which occurred near Louisville, Kentucky from 1985 to 2017 and includes information on whether the animal was quarantined after the bite occurred and whether that animal was rabid."
   ]
  },
  {
   "cell_type": "markdown",
   "metadata": {},
   "source": [
    " Attributes of animal bite incidents reported to and investigated by Louisville Metro Department of Public Health and Wellness\n",
    "    \n",
    "    * bite_date: The date the bite occurred\n",
    "    * SpeciesIDDesc: The species of animal that did the biting\n",
    "    * BreedIDDesc: Breed (if known)\n",
    "    * GenderIDDesc: Gender (of the animal)\n",
    "    * color: color of the animal\n",
    "    * vaccination_yrs: how many years had passed since the last vaccination\n",
    "    * vaccination_date: the date of the last vaccination\n",
    "    * victim_zip: the zipcode of the victim\n",
    "    * AdvIssuedYNDesc: whether advice was issued\n",
    "    * WhereBittenIDDesc: Where on the body the victim was bitten\n",
    "    * quarantine_date: whether the animal was quarantined\n",
    "    * DispositionIDDesc: whether the animal was released from quarantine\n",
    "    * headsentdate: the date the animal’s head was sent to the lab\n",
    "    * release_date: the date the animal was released\n",
    "    * ResultsIDDesc: results from lab tests (for rabies)"
   ]
  },
  {
   "cell_type": "markdown",
   "metadata": {},
   "source": [
    "Based on the input data we will try to find answers to following questions:\n",
    "\n",
    "* Which animals are most likely to bite humans?\n",
    "* Are some dog breeds more likely to bite?\n",
    "* Male Vs. Female. Who is more aggressive? Does it depend on which animal?\n",
    "* Is there any dependencies on the time of the yeat to be bitten by an animal?\n",
    "* What factors are most strongly associated with a positive rabies test result?"
   ]
  },
  {
   "cell_type": "code",
   "execution_count": 1,
   "metadata": {},
   "outputs": [],
   "source": [
    "import pandas as pd\n",
    "import numpy as np\n",
    "import os\n",
    "import matplotlib.pyplot as plt\n",
    "import seaborn as sns\n",
    "from sklearn.decomposition import PCA\n",
    "from sklearn.preprocessing import scale\n",
    "\n",
    "from scipy import stats\n"
   ]
  },
  {
   "cell_type": "markdown",
   "metadata": {},
   "source": [
    "### Dataframe evaluation"
   ]
  },
  {
   "cell_type": "code",
   "execution_count": 2,
   "metadata": {},
   "outputs": [],
   "source": [
    "bites = pd.read_csv('bites.csv')"
   ]
  },
  {
   "cell_type": "code",
   "execution_count": 3,
   "metadata": {},
   "outputs": [
    {
     "data": {
      "text/html": [
       "<div>\n",
       "<style scoped>\n",
       "    .dataframe tbody tr th:only-of-type {\n",
       "        vertical-align: middle;\n",
       "    }\n",
       "\n",
       "    .dataframe tbody tr th {\n",
       "        vertical-align: top;\n",
       "    }\n",
       "\n",
       "    .dataframe thead th {\n",
       "        text-align: right;\n",
       "    }\n",
       "</style>\n",
       "<table border=\"1\" class=\"dataframe\">\n",
       "  <thead>\n",
       "    <tr style=\"text-align: right;\">\n",
       "      <th></th>\n",
       "      <th>bite_date</th>\n",
       "      <th>SpeciesIDDesc</th>\n",
       "      <th>BreedIDDesc</th>\n",
       "      <th>GenderIDDesc</th>\n",
       "      <th>color</th>\n",
       "      <th>vaccination_yrs</th>\n",
       "      <th>vaccination_date</th>\n",
       "      <th>victim_zip</th>\n",
       "      <th>AdvIssuedYNDesc</th>\n",
       "      <th>WhereBittenIDDesc</th>\n",
       "      <th>quarantine_date</th>\n",
       "      <th>DispositionIDDesc</th>\n",
       "      <th>head_sent_date</th>\n",
       "      <th>release_date</th>\n",
       "      <th>ResultsIDDesc</th>\n",
       "    </tr>\n",
       "  </thead>\n",
       "  <tbody>\n",
       "    <tr>\n",
       "      <th>0</th>\n",
       "      <td>1985-05-05 00:00:00</td>\n",
       "      <td>DOG</td>\n",
       "      <td>NaN</td>\n",
       "      <td>FEMALE</td>\n",
       "      <td>LIG. BROWN</td>\n",
       "      <td>1.0</td>\n",
       "      <td>1985-06-20 00:00:00</td>\n",
       "      <td>40229</td>\n",
       "      <td>NO</td>\n",
       "      <td>BODY</td>\n",
       "      <td>1985-05-05 00:00:00</td>\n",
       "      <td>UNKNOWN</td>\n",
       "      <td>NaN</td>\n",
       "      <td>NaN</td>\n",
       "      <td>UNKNOWN</td>\n",
       "    </tr>\n",
       "    <tr>\n",
       "      <th>1</th>\n",
       "      <td>1986-02-12 00:00:00</td>\n",
       "      <td>DOG</td>\n",
       "      <td>NaN</td>\n",
       "      <td>UNKNOWN</td>\n",
       "      <td>BRO &amp; BLA</td>\n",
       "      <td>NaN</td>\n",
       "      <td>NaN</td>\n",
       "      <td>40218</td>\n",
       "      <td>NO</td>\n",
       "      <td>BODY</td>\n",
       "      <td>1986-02-12 00:00:00</td>\n",
       "      <td>UNKNOWN</td>\n",
       "      <td>NaN</td>\n",
       "      <td>NaN</td>\n",
       "      <td>UNKNOWN</td>\n",
       "    </tr>\n",
       "    <tr>\n",
       "      <th>2</th>\n",
       "      <td>1987-05-07 00:00:00</td>\n",
       "      <td>DOG</td>\n",
       "      <td>NaN</td>\n",
       "      <td>UNKNOWN</td>\n",
       "      <td>NaN</td>\n",
       "      <td>NaN</td>\n",
       "      <td>NaN</td>\n",
       "      <td>40219</td>\n",
       "      <td>NO</td>\n",
       "      <td>BODY</td>\n",
       "      <td>1990-05-07 00:00:00</td>\n",
       "      <td>UNKNOWN</td>\n",
       "      <td>NaN</td>\n",
       "      <td>NaN</td>\n",
       "      <td>UNKNOWN</td>\n",
       "    </tr>\n",
       "    <tr>\n",
       "      <th>3</th>\n",
       "      <td>1988-10-02 00:00:00</td>\n",
       "      <td>DOG</td>\n",
       "      <td>NaN</td>\n",
       "      <td>MALE</td>\n",
       "      <td>BLA &amp; BRO</td>\n",
       "      <td>NaN</td>\n",
       "      <td>NaN</td>\n",
       "      <td>NaN</td>\n",
       "      <td>NO</td>\n",
       "      <td>BODY</td>\n",
       "      <td>1990-10-02 00:00:00</td>\n",
       "      <td>UNKNOWN</td>\n",
       "      <td>NaN</td>\n",
       "      <td>NaN</td>\n",
       "      <td>UNKNOWN</td>\n",
       "    </tr>\n",
       "    <tr>\n",
       "      <th>4</th>\n",
       "      <td>1989-08-29 00:00:00</td>\n",
       "      <td>DOG</td>\n",
       "      <td>NaN</td>\n",
       "      <td>FEMALE</td>\n",
       "      <td>BLK-WHT</td>\n",
       "      <td>NaN</td>\n",
       "      <td>NaN</td>\n",
       "      <td>NaN</td>\n",
       "      <td>NO</td>\n",
       "      <td>BODY</td>\n",
       "      <td>NaN</td>\n",
       "      <td>UNKNOWN</td>\n",
       "      <td>NaN</td>\n",
       "      <td>NaN</td>\n",
       "      <td>UNKNOWN</td>\n",
       "    </tr>\n",
       "    <tr>\n",
       "      <th>5</th>\n",
       "      <td>1989-11-24 00:00:00</td>\n",
       "      <td>DOG</td>\n",
       "      <td>NaN</td>\n",
       "      <td>UNKNOWN</td>\n",
       "      <td>NaN</td>\n",
       "      <td>NaN</td>\n",
       "      <td>NaN</td>\n",
       "      <td>40211</td>\n",
       "      <td>NO</td>\n",
       "      <td>BODY</td>\n",
       "      <td>NaN</td>\n",
       "      <td>UNKNOWN</td>\n",
       "      <td>NaN</td>\n",
       "      <td>NaN</td>\n",
       "      <td>UNKNOWN</td>\n",
       "    </tr>\n",
       "    <tr>\n",
       "      <th>6</th>\n",
       "      <td>1990-02-08 00:00:00</td>\n",
       "      <td>DOG</td>\n",
       "      <td>NaN</td>\n",
       "      <td>FEMALE</td>\n",
       "      <td>BLACK/WHIT</td>\n",
       "      <td>1.0</td>\n",
       "      <td>1990-02-13 00:00:00</td>\n",
       "      <td>40203</td>\n",
       "      <td>NO</td>\n",
       "      <td>BODY</td>\n",
       "      <td>1990-02-12 00:00:00</td>\n",
       "      <td>UNKNOWN</td>\n",
       "      <td>NaN</td>\n",
       "      <td>NaN</td>\n",
       "      <td>UNKNOWN</td>\n",
       "    </tr>\n",
       "    <tr>\n",
       "      <th>7</th>\n",
       "      <td>1990-02-22 00:00:00</td>\n",
       "      <td>DOG</td>\n",
       "      <td>NaN</td>\n",
       "      <td>MALE</td>\n",
       "      <td>BLK-WHT</td>\n",
       "      <td>NaN</td>\n",
       "      <td>NaN</td>\n",
       "      <td>NaN</td>\n",
       "      <td>NO</td>\n",
       "      <td>BODY</td>\n",
       "      <td>1990-02-23 00:00:00</td>\n",
       "      <td>RELEASED</td>\n",
       "      <td>NaN</td>\n",
       "      <td>NaN</td>\n",
       "      <td>UNKNOWN</td>\n",
       "    </tr>\n",
       "    <tr>\n",
       "      <th>8</th>\n",
       "      <td>1990-08-02 00:00:00</td>\n",
       "      <td>DOG</td>\n",
       "      <td>NaN</td>\n",
       "      <td>MALE</td>\n",
       "      <td>BROWN</td>\n",
       "      <td>NaN</td>\n",
       "      <td>NaN</td>\n",
       "      <td>NaN</td>\n",
       "      <td>NO</td>\n",
       "      <td>BODY</td>\n",
       "      <td>1990-08-02 00:00:00</td>\n",
       "      <td>UNKNOWN</td>\n",
       "      <td>NaN</td>\n",
       "      <td>NaN</td>\n",
       "      <td>UNKNOWN</td>\n",
       "    </tr>\n",
       "    <tr>\n",
       "      <th>9</th>\n",
       "      <td>1990-08-19 00:00:00</td>\n",
       "      <td>DOG</td>\n",
       "      <td>NaN</td>\n",
       "      <td>UNKNOWN</td>\n",
       "      <td>BRN-TAN</td>\n",
       "      <td>NaN</td>\n",
       "      <td>NaN</td>\n",
       "      <td>NaN</td>\n",
       "      <td>NO</td>\n",
       "      <td>BODY</td>\n",
       "      <td>1990-08-20 00:00:00</td>\n",
       "      <td>RELEASED</td>\n",
       "      <td>NaN</td>\n",
       "      <td>NaN</td>\n",
       "      <td>UNKNOWN</td>\n",
       "    </tr>\n",
       "    <tr>\n",
       "      <th>10</th>\n",
       "      <td>1990-08-31 00:00:00</td>\n",
       "      <td>DOG</td>\n",
       "      <td>NaN</td>\n",
       "      <td>MALE</td>\n",
       "      <td>TRI</td>\n",
       "      <td>NaN</td>\n",
       "      <td>NaN</td>\n",
       "      <td>NaN</td>\n",
       "      <td>NO</td>\n",
       "      <td>HEAD</td>\n",
       "      <td>1990-09-04 00:00:00</td>\n",
       "      <td>RELEASED</td>\n",
       "      <td>NaN</td>\n",
       "      <td>NaN</td>\n",
       "      <td>UNKNOWN</td>\n",
       "    </tr>\n",
       "    <tr>\n",
       "      <th>11</th>\n",
       "      <td>1990-10-20 00:00:00</td>\n",
       "      <td>DOG</td>\n",
       "      <td>NaN</td>\n",
       "      <td>MALE</td>\n",
       "      <td>BLK</td>\n",
       "      <td>NaN</td>\n",
       "      <td>NaN</td>\n",
       "      <td>NaN</td>\n",
       "      <td>NO</td>\n",
       "      <td>BODY</td>\n",
       "      <td>1990-10-22 00:00:00</td>\n",
       "      <td>RELEASED</td>\n",
       "      <td>NaN</td>\n",
       "      <td>NaN</td>\n",
       "      <td>UNKNOWN</td>\n",
       "    </tr>\n",
       "    <tr>\n",
       "      <th>12</th>\n",
       "      <td>1991-02-09 00:00:00</td>\n",
       "      <td>DOG</td>\n",
       "      <td>NaN</td>\n",
       "      <td>MALE</td>\n",
       "      <td>BLK-BRN</td>\n",
       "      <td>NaN</td>\n",
       "      <td>NaN</td>\n",
       "      <td>NaN</td>\n",
       "      <td>NO</td>\n",
       "      <td>BODY</td>\n",
       "      <td>1991-02-13 00:00:00</td>\n",
       "      <td>RELEASED</td>\n",
       "      <td>NaN</td>\n",
       "      <td>NaN</td>\n",
       "      <td>UNKNOWN</td>\n",
       "    </tr>\n",
       "    <tr>\n",
       "      <th>13</th>\n",
       "      <td>1991-07-05 00:00:00</td>\n",
       "      <td>DOG</td>\n",
       "      <td>NaN</td>\n",
       "      <td>MALE</td>\n",
       "      <td>BLK-BRN</td>\n",
       "      <td>NaN</td>\n",
       "      <td>NaN</td>\n",
       "      <td>NaN</td>\n",
       "      <td>YES</td>\n",
       "      <td>BODY</td>\n",
       "      <td>1991-07-09 00:00:00</td>\n",
       "      <td>RELEASED</td>\n",
       "      <td>NaN</td>\n",
       "      <td>NaN</td>\n",
       "      <td>UNKNOWN</td>\n",
       "    </tr>\n",
       "    <tr>\n",
       "      <th>14</th>\n",
       "      <td>1991-09-14 00:00:00</td>\n",
       "      <td>DOG</td>\n",
       "      <td>NaN</td>\n",
       "      <td>MALE</td>\n",
       "      <td>WHT</td>\n",
       "      <td>NaN</td>\n",
       "      <td>NaN</td>\n",
       "      <td>NaN</td>\n",
       "      <td>NO</td>\n",
       "      <td>BODY</td>\n",
       "      <td>1991-09-19 00:00:00</td>\n",
       "      <td>RELEASED</td>\n",
       "      <td>NaN</td>\n",
       "      <td>NaN</td>\n",
       "      <td>UNKNOWN</td>\n",
       "    </tr>\n",
       "    <tr>\n",
       "      <th>15</th>\n",
       "      <td>1991-10-09 00:00:00</td>\n",
       "      <td>DOG</td>\n",
       "      <td>NaN</td>\n",
       "      <td>FEMALE</td>\n",
       "      <td>WHT-BRN</td>\n",
       "      <td>NaN</td>\n",
       "      <td>NaN</td>\n",
       "      <td>NaN</td>\n",
       "      <td>NO</td>\n",
       "      <td>HEAD</td>\n",
       "      <td>1991-10-11 00:00:00</td>\n",
       "      <td>RELEASED</td>\n",
       "      <td>NaN</td>\n",
       "      <td>NaN</td>\n",
       "      <td>UNKNOWN</td>\n",
       "    </tr>\n",
       "    <tr>\n",
       "      <th>16</th>\n",
       "      <td>1991-11-07 00:00:00</td>\n",
       "      <td>DOG</td>\n",
       "      <td>NaN</td>\n",
       "      <td>UNKNOWN</td>\n",
       "      <td>NaN</td>\n",
       "      <td>NaN</td>\n",
       "      <td>NaN</td>\n",
       "      <td>NaN</td>\n",
       "      <td>NO</td>\n",
       "      <td>BODY</td>\n",
       "      <td>1991-11-14 00:00:00</td>\n",
       "      <td>RELEASED</td>\n",
       "      <td>NaN</td>\n",
       "      <td>NaN</td>\n",
       "      <td>UNKNOWN</td>\n",
       "    </tr>\n",
       "    <tr>\n",
       "      <th>17</th>\n",
       "      <td>1992-02-08 00:00:00</td>\n",
       "      <td>DOG</td>\n",
       "      <td>NaN</td>\n",
       "      <td>MALE</td>\n",
       "      <td>BLK</td>\n",
       "      <td>NaN</td>\n",
       "      <td>NaN</td>\n",
       "      <td>NaN</td>\n",
       "      <td>NO</td>\n",
       "      <td>BODY</td>\n",
       "      <td>1992-02-12 00:00:00</td>\n",
       "      <td>UNKNOWN</td>\n",
       "      <td>NaN</td>\n",
       "      <td>NaN</td>\n",
       "      <td>UNKNOWN</td>\n",
       "    </tr>\n",
       "    <tr>\n",
       "      <th>18</th>\n",
       "      <td>1992-02-27 00:00:00</td>\n",
       "      <td>DOG</td>\n",
       "      <td>NaN</td>\n",
       "      <td>MALE</td>\n",
       "      <td>BLK-TAN</td>\n",
       "      <td>NaN</td>\n",
       "      <td>NaN</td>\n",
       "      <td>NaN</td>\n",
       "      <td>NO</td>\n",
       "      <td>BODY</td>\n",
       "      <td>1992-03-02 00:00:00</td>\n",
       "      <td>RELEASED</td>\n",
       "      <td>NaN</td>\n",
       "      <td>NaN</td>\n",
       "      <td>UNKNOWN</td>\n",
       "    </tr>\n",
       "    <tr>\n",
       "      <th>19</th>\n",
       "      <td>1992-03-06 00:00:00</td>\n",
       "      <td>DOG</td>\n",
       "      <td>NaN</td>\n",
       "      <td>MALE</td>\n",
       "      <td>WHT</td>\n",
       "      <td>NaN</td>\n",
       "      <td>NaN</td>\n",
       "      <td>NaN</td>\n",
       "      <td>NO</td>\n",
       "      <td>BODY</td>\n",
       "      <td>1992-03-11 00:00:00</td>\n",
       "      <td>RELEASED</td>\n",
       "      <td>NaN</td>\n",
       "      <td>NaN</td>\n",
       "      <td>UNKNOWN</td>\n",
       "    </tr>\n",
       "    <tr>\n",
       "      <th>20</th>\n",
       "      <td>1992-03-18 00:00:00</td>\n",
       "      <td>CAT</td>\n",
       "      <td>NaN</td>\n",
       "      <td>UNKNOWN</td>\n",
       "      <td>NaN</td>\n",
       "      <td>NaN</td>\n",
       "      <td>NaN</td>\n",
       "      <td>NaN</td>\n",
       "      <td>NO</td>\n",
       "      <td>HEAD</td>\n",
       "      <td>1992-03-24 00:00:00</td>\n",
       "      <td>RELEASED</td>\n",
       "      <td>NaN</td>\n",
       "      <td>NaN</td>\n",
       "      <td>UNKNOWN</td>\n",
       "    </tr>\n",
       "    <tr>\n",
       "      <th>21</th>\n",
       "      <td>1992-04-06 00:00:00</td>\n",
       "      <td>DOG</td>\n",
       "      <td>NaN</td>\n",
       "      <td>UNKNOWN</td>\n",
       "      <td>BLK</td>\n",
       "      <td>NaN</td>\n",
       "      <td>NaN</td>\n",
       "      <td>NaN</td>\n",
       "      <td>NO</td>\n",
       "      <td>BODY</td>\n",
       "      <td>1992-04-08 00:00:00</td>\n",
       "      <td>RELEASED</td>\n",
       "      <td>NaN</td>\n",
       "      <td>NaN</td>\n",
       "      <td>UNKNOWN</td>\n",
       "    </tr>\n",
       "    <tr>\n",
       "      <th>22</th>\n",
       "      <td>1992-05-06 00:00:00</td>\n",
       "      <td>DOG</td>\n",
       "      <td>NaN</td>\n",
       "      <td>UNKNOWN</td>\n",
       "      <td>BLK</td>\n",
       "      <td>NaN</td>\n",
       "      <td>NaN</td>\n",
       "      <td>NaN</td>\n",
       "      <td>NO</td>\n",
       "      <td>BODY</td>\n",
       "      <td>1992-05-09 00:00:00</td>\n",
       "      <td>RELEASED</td>\n",
       "      <td>NaN</td>\n",
       "      <td>NaN</td>\n",
       "      <td>UNKNOWN</td>\n",
       "    </tr>\n",
       "    <tr>\n",
       "      <th>23</th>\n",
       "      <td>1992-06-04 00:00:00</td>\n",
       "      <td>DOG</td>\n",
       "      <td>NaN</td>\n",
       "      <td>MALE</td>\n",
       "      <td>BRN</td>\n",
       "      <td>NaN</td>\n",
       "      <td>NaN</td>\n",
       "      <td>NaN</td>\n",
       "      <td>NO</td>\n",
       "      <td>BODY</td>\n",
       "      <td>1992-06-10 00:00:00</td>\n",
       "      <td>RELEASED</td>\n",
       "      <td>NaN</td>\n",
       "      <td>NaN</td>\n",
       "      <td>UNKNOWN</td>\n",
       "    </tr>\n",
       "    <tr>\n",
       "      <th>24</th>\n",
       "      <td>1992-06-29 00:00:00</td>\n",
       "      <td>DOG</td>\n",
       "      <td>NaN</td>\n",
       "      <td>FEMALE</td>\n",
       "      <td>RED</td>\n",
       "      <td>NaN</td>\n",
       "      <td>NaN</td>\n",
       "      <td>NaN</td>\n",
       "      <td>NO</td>\n",
       "      <td>BODY</td>\n",
       "      <td>1992-06-30 00:00:00</td>\n",
       "      <td>RELEASED</td>\n",
       "      <td>NaN</td>\n",
       "      <td>NaN</td>\n",
       "      <td>UNKNOWN</td>\n",
       "    </tr>\n",
       "    <tr>\n",
       "      <th>25</th>\n",
       "      <td>1992-08-06 00:00:00</td>\n",
       "      <td>DOG</td>\n",
       "      <td>NaN</td>\n",
       "      <td>UNKNOWN</td>\n",
       "      <td>WHITE</td>\n",
       "      <td>NaN</td>\n",
       "      <td>NaN</td>\n",
       "      <td>40215</td>\n",
       "      <td>NO</td>\n",
       "      <td>BODY</td>\n",
       "      <td>1992-08-06 00:00:00</td>\n",
       "      <td>RELEASED</td>\n",
       "      <td>NaN</td>\n",
       "      <td>NaN</td>\n",
       "      <td>UNKNOWN</td>\n",
       "    </tr>\n",
       "    <tr>\n",
       "      <th>26</th>\n",
       "      <td>1992-08-26 00:00:00</td>\n",
       "      <td>DOG</td>\n",
       "      <td>NaN</td>\n",
       "      <td>MALE</td>\n",
       "      <td>BRN-BLK</td>\n",
       "      <td>NaN</td>\n",
       "      <td>NaN</td>\n",
       "      <td>40210</td>\n",
       "      <td>NO</td>\n",
       "      <td>BODY</td>\n",
       "      <td>1992-08-31 00:00:00</td>\n",
       "      <td>RELEASED</td>\n",
       "      <td>NaN</td>\n",
       "      <td>NaN</td>\n",
       "      <td>UNKNOWN</td>\n",
       "    </tr>\n",
       "    <tr>\n",
       "      <th>27</th>\n",
       "      <td>1993-04-04 00:00:00</td>\n",
       "      <td>DOG</td>\n",
       "      <td>NaN</td>\n",
       "      <td>UNKNOWN</td>\n",
       "      <td>NaN</td>\n",
       "      <td>NaN</td>\n",
       "      <td>NaN</td>\n",
       "      <td>NaN</td>\n",
       "      <td>NO</td>\n",
       "      <td>BODY</td>\n",
       "      <td>1993-04-05 00:00:00</td>\n",
       "      <td>RELEASED</td>\n",
       "      <td>NaN</td>\n",
       "      <td>NaN</td>\n",
       "      <td>UNKNOWN</td>\n",
       "    </tr>\n",
       "    <tr>\n",
       "      <th>28</th>\n",
       "      <td>1993-04-06 00:00:00</td>\n",
       "      <td>CAT</td>\n",
       "      <td>NaN</td>\n",
       "      <td>UNKNOWN</td>\n",
       "      <td>NaN</td>\n",
       "      <td>NaN</td>\n",
       "      <td>NaN</td>\n",
       "      <td>NaN</td>\n",
       "      <td>NO</td>\n",
       "      <td>BODY</td>\n",
       "      <td>1993-04-19 00:00:00</td>\n",
       "      <td>RELEASED</td>\n",
       "      <td>NaN</td>\n",
       "      <td>NaN</td>\n",
       "      <td>UNKNOWN</td>\n",
       "    </tr>\n",
       "    <tr>\n",
       "      <th>29</th>\n",
       "      <td>1993-05-12 00:00:00</td>\n",
       "      <td>DOG</td>\n",
       "      <td>NaN</td>\n",
       "      <td>MALE</td>\n",
       "      <td>BRN</td>\n",
       "      <td>NaN</td>\n",
       "      <td>NaN</td>\n",
       "      <td>NaN</td>\n",
       "      <td>NO</td>\n",
       "      <td>HEAD</td>\n",
       "      <td>1993-05-14 00:00:00</td>\n",
       "      <td>RELEASED</td>\n",
       "      <td>NaN</td>\n",
       "      <td>NaN</td>\n",
       "      <td>UNKNOWN</td>\n",
       "    </tr>\n",
       "    <tr>\n",
       "      <th>30</th>\n",
       "      <td>1993-06-20 00:00:00</td>\n",
       "      <td>DOG</td>\n",
       "      <td>NaN</td>\n",
       "      <td>UNKNOWN</td>\n",
       "      <td>NaN</td>\n",
       "      <td>NaN</td>\n",
       "      <td>NaN</td>\n",
       "      <td>NaN</td>\n",
       "      <td>NO</td>\n",
       "      <td>BODY</td>\n",
       "      <td>1993-06-21 00:00:00</td>\n",
       "      <td>RELEASED</td>\n",
       "      <td>NaN</td>\n",
       "      <td>NaN</td>\n",
       "      <td>UNKNOWN</td>\n",
       "    </tr>\n",
       "    <tr>\n",
       "      <th>31</th>\n",
       "      <td>1993-07-09 00:00:00</td>\n",
       "      <td>DOG</td>\n",
       "      <td>NaN</td>\n",
       "      <td>FEMALE</td>\n",
       "      <td>BRN</td>\n",
       "      <td>NaN</td>\n",
       "      <td>NaN</td>\n",
       "      <td>NaN</td>\n",
       "      <td>YES</td>\n",
       "      <td>BODY</td>\n",
       "      <td>1993-07-09 00:00:00</td>\n",
       "      <td>RELEASED</td>\n",
       "      <td>NaN</td>\n",
       "      <td>NaN</td>\n",
       "      <td>UNKNOWN</td>\n",
       "    </tr>\n",
       "    <tr>\n",
       "      <th>32</th>\n",
       "      <td>1993-12-04 00:00:00</td>\n",
       "      <td>DOG</td>\n",
       "      <td>NaN</td>\n",
       "      <td>UNKNOWN</td>\n",
       "      <td>NaN</td>\n",
       "      <td>NaN</td>\n",
       "      <td>NaN</td>\n",
       "      <td>NaN</td>\n",
       "      <td>NO</td>\n",
       "      <td>BODY</td>\n",
       "      <td>1993-12-06 00:00:00</td>\n",
       "      <td>RELEASED</td>\n",
       "      <td>NaN</td>\n",
       "      <td>NaN</td>\n",
       "      <td>UNKNOWN</td>\n",
       "    </tr>\n",
       "    <tr>\n",
       "      <th>33</th>\n",
       "      <td>1994-03-31 00:00:00</td>\n",
       "      <td>DOG</td>\n",
       "      <td>NaN</td>\n",
       "      <td>MALE</td>\n",
       "      <td>BRN-BLK</td>\n",
       "      <td>NaN</td>\n",
       "      <td>NaN</td>\n",
       "      <td>NaN</td>\n",
       "      <td>NO</td>\n",
       "      <td>BODY</td>\n",
       "      <td>1994-04-06 00:00:00</td>\n",
       "      <td>RELEASED</td>\n",
       "      <td>NaN</td>\n",
       "      <td>NaN</td>\n",
       "      <td>UNKNOWN</td>\n",
       "    </tr>\n",
       "    <tr>\n",
       "      <th>34</th>\n",
       "      <td>1994-04-11 00:00:00</td>\n",
       "      <td>DOG</td>\n",
       "      <td>NaN</td>\n",
       "      <td>MALE</td>\n",
       "      <td>BLK</td>\n",
       "      <td>NaN</td>\n",
       "      <td>NaN</td>\n",
       "      <td>NaN</td>\n",
       "      <td>NO</td>\n",
       "      <td>BODY</td>\n",
       "      <td>1994-04-13 00:00:00</td>\n",
       "      <td>RELEASED</td>\n",
       "      <td>NaN</td>\n",
       "      <td>NaN</td>\n",
       "      <td>UNKNOWN</td>\n",
       "    </tr>\n",
       "    <tr>\n",
       "      <th>35</th>\n",
       "      <td>1994-05-08 00:00:00</td>\n",
       "      <td>DOG</td>\n",
       "      <td>NaN</td>\n",
       "      <td>UNKNOWN</td>\n",
       "      <td>NaN</td>\n",
       "      <td>NaN</td>\n",
       "      <td>NaN</td>\n",
       "      <td>NaN</td>\n",
       "      <td>NO</td>\n",
       "      <td>BODY</td>\n",
       "      <td>1994-05-09 00:00:00</td>\n",
       "      <td>RELEASED</td>\n",
       "      <td>NaN</td>\n",
       "      <td>NaN</td>\n",
       "      <td>UNKNOWN</td>\n",
       "    </tr>\n",
       "    <tr>\n",
       "      <th>36</th>\n",
       "      <td>1994-05-10 00:00:00</td>\n",
       "      <td>DOG</td>\n",
       "      <td>NaN</td>\n",
       "      <td>FEMALE</td>\n",
       "      <td>MULT COLOR</td>\n",
       "      <td>NaN</td>\n",
       "      <td>NaN</td>\n",
       "      <td>NaN</td>\n",
       "      <td>NO</td>\n",
       "      <td>HEAD</td>\n",
       "      <td>1994-05-13 00:00:00</td>\n",
       "      <td>RELEASED</td>\n",
       "      <td>NaN</td>\n",
       "      <td>NaN</td>\n",
       "      <td>UNKNOWN</td>\n",
       "    </tr>\n",
       "    <tr>\n",
       "      <th>37</th>\n",
       "      <td>1994-05-22 00:00:00</td>\n",
       "      <td>DOG</td>\n",
       "      <td>NaN</td>\n",
       "      <td>MALE</td>\n",
       "      <td>TRI</td>\n",
       "      <td>NaN</td>\n",
       "      <td>NaN</td>\n",
       "      <td>NaN</td>\n",
       "      <td>NO</td>\n",
       "      <td>BODY</td>\n",
       "      <td>1994-05-24 00:00:00</td>\n",
       "      <td>RELEASED</td>\n",
       "      <td>NaN</td>\n",
       "      <td>NaN</td>\n",
       "      <td>UNKNOWN</td>\n",
       "    </tr>\n",
       "    <tr>\n",
       "      <th>38</th>\n",
       "      <td>1994-06-10 00:00:00</td>\n",
       "      <td>DOG</td>\n",
       "      <td>NaN</td>\n",
       "      <td>UNKNOWN</td>\n",
       "      <td>NaN</td>\n",
       "      <td>NaN</td>\n",
       "      <td>NaN</td>\n",
       "      <td>NaN</td>\n",
       "      <td>NO</td>\n",
       "      <td>BODY</td>\n",
       "      <td>1994-06-15 00:00:00</td>\n",
       "      <td>RELEASED</td>\n",
       "      <td>NaN</td>\n",
       "      <td>NaN</td>\n",
       "      <td>UNKNOWN</td>\n",
       "    </tr>\n",
       "    <tr>\n",
       "      <th>39</th>\n",
       "      <td>1994-07-21 00:00:00</td>\n",
       "      <td>DOG</td>\n",
       "      <td>NaN</td>\n",
       "      <td>UNKNOWN</td>\n",
       "      <td>NaN</td>\n",
       "      <td>NaN</td>\n",
       "      <td>NaN</td>\n",
       "      <td>NaN</td>\n",
       "      <td>NO</td>\n",
       "      <td>BODY</td>\n",
       "      <td>1994-07-21 00:00:00</td>\n",
       "      <td>RELEASED</td>\n",
       "      <td>NaN</td>\n",
       "      <td>NaN</td>\n",
       "      <td>UNKNOWN</td>\n",
       "    </tr>\n",
       "    <tr>\n",
       "      <th>40</th>\n",
       "      <td>2009-10-29 00:00:00</td>\n",
       "      <td>CAT</td>\n",
       "      <td>NaN</td>\n",
       "      <td>FEMALE</td>\n",
       "      <td>GRAY</td>\n",
       "      <td>NaN</td>\n",
       "      <td>NaN</td>\n",
       "      <td>40206</td>\n",
       "      <td>NO</td>\n",
       "      <td>BODY</td>\n",
       "      <td>2009-10-30 00:00:00</td>\n",
       "      <td>UNKNOWN</td>\n",
       "      <td>NaN</td>\n",
       "      <td>NaN</td>\n",
       "      <td>UNKNOWN</td>\n",
       "    </tr>\n",
       "    <tr>\n",
       "      <th>41</th>\n",
       "      <td>2009-12-02 00:00:00</td>\n",
       "      <td>DOG</td>\n",
       "      <td>NaN</td>\n",
       "      <td>MALE</td>\n",
       "      <td>TAN-BRN</td>\n",
       "      <td>1.0</td>\n",
       "      <td>2010-01-16 00:00:00</td>\n",
       "      <td>40291</td>\n",
       "      <td>NO</td>\n",
       "      <td>BODY</td>\n",
       "      <td>2009-12-03 00:00:00</td>\n",
       "      <td>RELEASED</td>\n",
       "      <td>NaN</td>\n",
       "      <td>NaN</td>\n",
       "      <td>UNKNOWN</td>\n",
       "    </tr>\n",
       "    <tr>\n",
       "      <th>42</th>\n",
       "      <td>2009-12-11 00:00:00</td>\n",
       "      <td>DOG</td>\n",
       "      <td>NaN</td>\n",
       "      <td>MALE</td>\n",
       "      <td>BLK-BRN</td>\n",
       "      <td>NaN</td>\n",
       "      <td>NaN</td>\n",
       "      <td>40272</td>\n",
       "      <td>NO</td>\n",
       "      <td>BODY</td>\n",
       "      <td>2009-12-11 00:00:00</td>\n",
       "      <td>RELEASED</td>\n",
       "      <td>NaN</td>\n",
       "      <td>NaN</td>\n",
       "      <td>UNKNOWN</td>\n",
       "    </tr>\n",
       "    <tr>\n",
       "      <th>43</th>\n",
       "      <td>2009-12-21 00:00:00</td>\n",
       "      <td>DOG</td>\n",
       "      <td>NaN</td>\n",
       "      <td>UNKNOWN</td>\n",
       "      <td>BLACK</td>\n",
       "      <td>NaN</td>\n",
       "      <td>NaN</td>\n",
       "      <td>40218</td>\n",
       "      <td>NO</td>\n",
       "      <td>HEAD</td>\n",
       "      <td>2009-12-29 00:00:00</td>\n",
       "      <td>UNKNOWN</td>\n",
       "      <td>NaN</td>\n",
       "      <td>NaN</td>\n",
       "      <td>UNKNOWN</td>\n",
       "    </tr>\n",
       "    <tr>\n",
       "      <th>44</th>\n",
       "      <td>2009-12-24 00:00:00</td>\n",
       "      <td>DOG</td>\n",
       "      <td>NaN</td>\n",
       "      <td>MALE</td>\n",
       "      <td>BRN-WHT</td>\n",
       "      <td>1.0</td>\n",
       "      <td>2009-04-30 00:00:00</td>\n",
       "      <td>40165</td>\n",
       "      <td>NO</td>\n",
       "      <td>HEAD</td>\n",
       "      <td>2009-12-28 00:00:00</td>\n",
       "      <td>RELEASED</td>\n",
       "      <td>NaN</td>\n",
       "      <td>NaN</td>\n",
       "      <td>UNKNOWN</td>\n",
       "    </tr>\n",
       "    <tr>\n",
       "      <th>45</th>\n",
       "      <td>2009-12-24 00:00:00</td>\n",
       "      <td>DOG</td>\n",
       "      <td>NaN</td>\n",
       "      <td>UNKNOWN</td>\n",
       "      <td>BLACK</td>\n",
       "      <td>NaN</td>\n",
       "      <td>NaN</td>\n",
       "      <td>40229</td>\n",
       "      <td>NO</td>\n",
       "      <td>BODY</td>\n",
       "      <td>2009-12-29 00:00:00</td>\n",
       "      <td>UNKNOWN</td>\n",
       "      <td>NaN</td>\n",
       "      <td>NaN</td>\n",
       "      <td>UNKNOWN</td>\n",
       "    </tr>\n",
       "    <tr>\n",
       "      <th>46</th>\n",
       "      <td>2009-12-28 00:00:00</td>\n",
       "      <td>DOG</td>\n",
       "      <td>NaN</td>\n",
       "      <td>UNKNOWN</td>\n",
       "      <td>BLACK</td>\n",
       "      <td>NaN</td>\n",
       "      <td>NaN</td>\n",
       "      <td>40299</td>\n",
       "      <td>NO</td>\n",
       "      <td>HEAD</td>\n",
       "      <td>2009-12-29 00:00:00</td>\n",
       "      <td>UNKNOWN</td>\n",
       "      <td>NaN</td>\n",
       "      <td>NaN</td>\n",
       "      <td>UNKNOWN</td>\n",
       "    </tr>\n",
       "    <tr>\n",
       "      <th>47</th>\n",
       "      <td>2009-12-29 00:00:00</td>\n",
       "      <td>DOG</td>\n",
       "      <td>NaN</td>\n",
       "      <td>FEMALE</td>\n",
       "      <td>WHT-BRN</td>\n",
       "      <td>3.0</td>\n",
       "      <td>2008-06-07 00:00:00</td>\n",
       "      <td>40291</td>\n",
       "      <td>NO</td>\n",
       "      <td>BODY</td>\n",
       "      <td>2009-12-30 00:00:00</td>\n",
       "      <td>RELEASED</td>\n",
       "      <td>NaN</td>\n",
       "      <td>NaN</td>\n",
       "      <td>UNKNOWN</td>\n",
       "    </tr>\n",
       "    <tr>\n",
       "      <th>48</th>\n",
       "      <td>2009-12-30 00:00:00</td>\n",
       "      <td>DOG</td>\n",
       "      <td>NaN</td>\n",
       "      <td>FEMALE</td>\n",
       "      <td>WHITE</td>\n",
       "      <td>3.0</td>\n",
       "      <td>2010-01-06 00:00:00</td>\n",
       "      <td>40229</td>\n",
       "      <td>NO</td>\n",
       "      <td>BODY</td>\n",
       "      <td>2009-12-31 00:00:00</td>\n",
       "      <td>RELEASED</td>\n",
       "      <td>NaN</td>\n",
       "      <td>NaN</td>\n",
       "      <td>UNKNOWN</td>\n",
       "    </tr>\n",
       "    <tr>\n",
       "      <th>49</th>\n",
       "      <td>2009-12-30 00:00:00</td>\n",
       "      <td>DOG</td>\n",
       "      <td>NaN</td>\n",
       "      <td>MALE</td>\n",
       "      <td>BLK-WHT</td>\n",
       "      <td>NaN</td>\n",
       "      <td>NaN</td>\n",
       "      <td>40218</td>\n",
       "      <td>NO</td>\n",
       "      <td>BODY</td>\n",
       "      <td>2010-01-06 00:00:00</td>\n",
       "      <td>RELEASED</td>\n",
       "      <td>NaN</td>\n",
       "      <td>NaN</td>\n",
       "      <td>UNKNOWN</td>\n",
       "    </tr>\n",
       "  </tbody>\n",
       "</table>\n",
       "</div>"
      ],
      "text/plain": [
       "              bite_date SpeciesIDDesc BreedIDDesc GenderIDDesc       color  \\\n",
       "0   1985-05-05 00:00:00           DOG         NaN       FEMALE  LIG. BROWN   \n",
       "1   1986-02-12 00:00:00           DOG         NaN      UNKNOWN   BRO & BLA   \n",
       "2   1987-05-07 00:00:00           DOG         NaN      UNKNOWN         NaN   \n",
       "3   1988-10-02 00:00:00           DOG         NaN         MALE   BLA & BRO   \n",
       "4   1989-08-29 00:00:00           DOG         NaN       FEMALE     BLK-WHT   \n",
       "5   1989-11-24 00:00:00           DOG         NaN      UNKNOWN         NaN   \n",
       "6   1990-02-08 00:00:00           DOG         NaN       FEMALE  BLACK/WHIT   \n",
       "7   1990-02-22 00:00:00           DOG         NaN         MALE     BLK-WHT   \n",
       "8   1990-08-02 00:00:00           DOG         NaN         MALE       BROWN   \n",
       "9   1990-08-19 00:00:00           DOG         NaN      UNKNOWN     BRN-TAN   \n",
       "10  1990-08-31 00:00:00           DOG         NaN         MALE         TRI   \n",
       "11  1990-10-20 00:00:00           DOG         NaN         MALE         BLK   \n",
       "12  1991-02-09 00:00:00           DOG         NaN         MALE     BLK-BRN   \n",
       "13  1991-07-05 00:00:00           DOG         NaN         MALE     BLK-BRN   \n",
       "14  1991-09-14 00:00:00           DOG         NaN         MALE         WHT   \n",
       "15  1991-10-09 00:00:00           DOG         NaN       FEMALE     WHT-BRN   \n",
       "16  1991-11-07 00:00:00           DOG         NaN      UNKNOWN         NaN   \n",
       "17  1992-02-08 00:00:00           DOG         NaN         MALE         BLK   \n",
       "18  1992-02-27 00:00:00           DOG         NaN         MALE     BLK-TAN   \n",
       "19  1992-03-06 00:00:00           DOG         NaN         MALE         WHT   \n",
       "20  1992-03-18 00:00:00           CAT         NaN      UNKNOWN         NaN   \n",
       "21  1992-04-06 00:00:00           DOG         NaN      UNKNOWN         BLK   \n",
       "22  1992-05-06 00:00:00           DOG         NaN      UNKNOWN         BLK   \n",
       "23  1992-06-04 00:00:00           DOG         NaN         MALE         BRN   \n",
       "24  1992-06-29 00:00:00           DOG         NaN       FEMALE         RED   \n",
       "25  1992-08-06 00:00:00           DOG         NaN      UNKNOWN       WHITE   \n",
       "26  1992-08-26 00:00:00           DOG         NaN         MALE     BRN-BLK   \n",
       "27  1993-04-04 00:00:00           DOG         NaN      UNKNOWN         NaN   \n",
       "28  1993-04-06 00:00:00           CAT         NaN      UNKNOWN         NaN   \n",
       "29  1993-05-12 00:00:00           DOG         NaN         MALE         BRN   \n",
       "30  1993-06-20 00:00:00           DOG         NaN      UNKNOWN         NaN   \n",
       "31  1993-07-09 00:00:00           DOG         NaN       FEMALE         BRN   \n",
       "32  1993-12-04 00:00:00           DOG         NaN      UNKNOWN         NaN   \n",
       "33  1994-03-31 00:00:00           DOG         NaN         MALE     BRN-BLK   \n",
       "34  1994-04-11 00:00:00           DOG         NaN         MALE         BLK   \n",
       "35  1994-05-08 00:00:00           DOG         NaN      UNKNOWN         NaN   \n",
       "36  1994-05-10 00:00:00           DOG         NaN       FEMALE  MULT COLOR   \n",
       "37  1994-05-22 00:00:00           DOG         NaN         MALE         TRI   \n",
       "38  1994-06-10 00:00:00           DOG         NaN      UNKNOWN         NaN   \n",
       "39  1994-07-21 00:00:00           DOG         NaN      UNKNOWN         NaN   \n",
       "40  2009-10-29 00:00:00           CAT         NaN       FEMALE        GRAY   \n",
       "41  2009-12-02 00:00:00           DOG         NaN         MALE     TAN-BRN   \n",
       "42  2009-12-11 00:00:00           DOG         NaN         MALE     BLK-BRN   \n",
       "43  2009-12-21 00:00:00           DOG         NaN      UNKNOWN       BLACK   \n",
       "44  2009-12-24 00:00:00           DOG         NaN         MALE     BRN-WHT   \n",
       "45  2009-12-24 00:00:00           DOG         NaN      UNKNOWN       BLACK   \n",
       "46  2009-12-28 00:00:00           DOG         NaN      UNKNOWN       BLACK   \n",
       "47  2009-12-29 00:00:00           DOG         NaN       FEMALE     WHT-BRN   \n",
       "48  2009-12-30 00:00:00           DOG         NaN       FEMALE       WHITE   \n",
       "49  2009-12-30 00:00:00           DOG         NaN         MALE     BLK-WHT   \n",
       "\n",
       "    vaccination_yrs     vaccination_date victim_zip AdvIssuedYNDesc  \\\n",
       "0               1.0  1985-06-20 00:00:00      40229              NO   \n",
       "1               NaN                  NaN      40218              NO   \n",
       "2               NaN                  NaN      40219              NO   \n",
       "3               NaN                  NaN        NaN              NO   \n",
       "4               NaN                  NaN        NaN              NO   \n",
       "5               NaN                  NaN      40211              NO   \n",
       "6               1.0  1990-02-13 00:00:00      40203              NO   \n",
       "7               NaN                  NaN        NaN              NO   \n",
       "8               NaN                  NaN        NaN              NO   \n",
       "9               NaN                  NaN        NaN              NO   \n",
       "10              NaN                  NaN        NaN              NO   \n",
       "11              NaN                  NaN        NaN              NO   \n",
       "12              NaN                  NaN        NaN              NO   \n",
       "13              NaN                  NaN        NaN             YES   \n",
       "14              NaN                  NaN        NaN              NO   \n",
       "15              NaN                  NaN        NaN              NO   \n",
       "16              NaN                  NaN        NaN              NO   \n",
       "17              NaN                  NaN        NaN              NO   \n",
       "18              NaN                  NaN        NaN              NO   \n",
       "19              NaN                  NaN        NaN              NO   \n",
       "20              NaN                  NaN        NaN              NO   \n",
       "21              NaN                  NaN        NaN              NO   \n",
       "22              NaN                  NaN        NaN              NO   \n",
       "23              NaN                  NaN        NaN              NO   \n",
       "24              NaN                  NaN        NaN              NO   \n",
       "25              NaN                  NaN      40215              NO   \n",
       "26              NaN                  NaN      40210              NO   \n",
       "27              NaN                  NaN        NaN              NO   \n",
       "28              NaN                  NaN        NaN              NO   \n",
       "29              NaN                  NaN        NaN              NO   \n",
       "30              NaN                  NaN        NaN              NO   \n",
       "31              NaN                  NaN        NaN             YES   \n",
       "32              NaN                  NaN        NaN              NO   \n",
       "33              NaN                  NaN        NaN              NO   \n",
       "34              NaN                  NaN        NaN              NO   \n",
       "35              NaN                  NaN        NaN              NO   \n",
       "36              NaN                  NaN        NaN              NO   \n",
       "37              NaN                  NaN        NaN              NO   \n",
       "38              NaN                  NaN        NaN              NO   \n",
       "39              NaN                  NaN        NaN              NO   \n",
       "40              NaN                  NaN      40206              NO   \n",
       "41              1.0  2010-01-16 00:00:00      40291              NO   \n",
       "42              NaN                  NaN      40272              NO   \n",
       "43              NaN                  NaN      40218              NO   \n",
       "44              1.0  2009-04-30 00:00:00      40165              NO   \n",
       "45              NaN                  NaN      40229              NO   \n",
       "46              NaN                  NaN      40299              NO   \n",
       "47              3.0  2008-06-07 00:00:00      40291              NO   \n",
       "48              3.0  2010-01-06 00:00:00      40229              NO   \n",
       "49              NaN                  NaN      40218              NO   \n",
       "\n",
       "   WhereBittenIDDesc      quarantine_date DispositionIDDesc head_sent_date  \\\n",
       "0               BODY  1985-05-05 00:00:00           UNKNOWN            NaN   \n",
       "1               BODY  1986-02-12 00:00:00           UNKNOWN            NaN   \n",
       "2               BODY  1990-05-07 00:00:00           UNKNOWN            NaN   \n",
       "3               BODY  1990-10-02 00:00:00           UNKNOWN            NaN   \n",
       "4               BODY                  NaN           UNKNOWN            NaN   \n",
       "5               BODY                  NaN           UNKNOWN            NaN   \n",
       "6               BODY  1990-02-12 00:00:00           UNKNOWN            NaN   \n",
       "7               BODY  1990-02-23 00:00:00          RELEASED            NaN   \n",
       "8               BODY  1990-08-02 00:00:00           UNKNOWN            NaN   \n",
       "9               BODY  1990-08-20 00:00:00          RELEASED            NaN   \n",
       "10              HEAD  1990-09-04 00:00:00          RELEASED            NaN   \n",
       "11              BODY  1990-10-22 00:00:00          RELEASED            NaN   \n",
       "12              BODY  1991-02-13 00:00:00          RELEASED            NaN   \n",
       "13              BODY  1991-07-09 00:00:00          RELEASED            NaN   \n",
       "14              BODY  1991-09-19 00:00:00          RELEASED            NaN   \n",
       "15              HEAD  1991-10-11 00:00:00          RELEASED            NaN   \n",
       "16              BODY  1991-11-14 00:00:00          RELEASED            NaN   \n",
       "17              BODY  1992-02-12 00:00:00           UNKNOWN            NaN   \n",
       "18              BODY  1992-03-02 00:00:00          RELEASED            NaN   \n",
       "19              BODY  1992-03-11 00:00:00          RELEASED            NaN   \n",
       "20              HEAD  1992-03-24 00:00:00          RELEASED            NaN   \n",
       "21              BODY  1992-04-08 00:00:00          RELEASED            NaN   \n",
       "22              BODY  1992-05-09 00:00:00          RELEASED            NaN   \n",
       "23              BODY  1992-06-10 00:00:00          RELEASED            NaN   \n",
       "24              BODY  1992-06-30 00:00:00          RELEASED            NaN   \n",
       "25              BODY  1992-08-06 00:00:00          RELEASED            NaN   \n",
       "26              BODY  1992-08-31 00:00:00          RELEASED            NaN   \n",
       "27              BODY  1993-04-05 00:00:00          RELEASED            NaN   \n",
       "28              BODY  1993-04-19 00:00:00          RELEASED            NaN   \n",
       "29              HEAD  1993-05-14 00:00:00          RELEASED            NaN   \n",
       "30              BODY  1993-06-21 00:00:00          RELEASED            NaN   \n",
       "31              BODY  1993-07-09 00:00:00          RELEASED            NaN   \n",
       "32              BODY  1993-12-06 00:00:00          RELEASED            NaN   \n",
       "33              BODY  1994-04-06 00:00:00          RELEASED            NaN   \n",
       "34              BODY  1994-04-13 00:00:00          RELEASED            NaN   \n",
       "35              BODY  1994-05-09 00:00:00          RELEASED            NaN   \n",
       "36              HEAD  1994-05-13 00:00:00          RELEASED            NaN   \n",
       "37              BODY  1994-05-24 00:00:00          RELEASED            NaN   \n",
       "38              BODY  1994-06-15 00:00:00          RELEASED            NaN   \n",
       "39              BODY  1994-07-21 00:00:00          RELEASED            NaN   \n",
       "40              BODY  2009-10-30 00:00:00           UNKNOWN            NaN   \n",
       "41              BODY  2009-12-03 00:00:00          RELEASED            NaN   \n",
       "42              BODY  2009-12-11 00:00:00          RELEASED            NaN   \n",
       "43              HEAD  2009-12-29 00:00:00           UNKNOWN            NaN   \n",
       "44              HEAD  2009-12-28 00:00:00          RELEASED            NaN   \n",
       "45              BODY  2009-12-29 00:00:00           UNKNOWN            NaN   \n",
       "46              HEAD  2009-12-29 00:00:00           UNKNOWN            NaN   \n",
       "47              BODY  2009-12-30 00:00:00          RELEASED            NaN   \n",
       "48              BODY  2009-12-31 00:00:00          RELEASED            NaN   \n",
       "49              BODY  2010-01-06 00:00:00          RELEASED            NaN   \n",
       "\n",
       "   release_date ResultsIDDesc  \n",
       "0           NaN       UNKNOWN  \n",
       "1           NaN       UNKNOWN  \n",
       "2           NaN       UNKNOWN  \n",
       "3           NaN       UNKNOWN  \n",
       "4           NaN       UNKNOWN  \n",
       "5           NaN       UNKNOWN  \n",
       "6           NaN       UNKNOWN  \n",
       "7           NaN       UNKNOWN  \n",
       "8           NaN       UNKNOWN  \n",
       "9           NaN       UNKNOWN  \n",
       "10          NaN       UNKNOWN  \n",
       "11          NaN       UNKNOWN  \n",
       "12          NaN       UNKNOWN  \n",
       "13          NaN       UNKNOWN  \n",
       "14          NaN       UNKNOWN  \n",
       "15          NaN       UNKNOWN  \n",
       "16          NaN       UNKNOWN  \n",
       "17          NaN       UNKNOWN  \n",
       "18          NaN       UNKNOWN  \n",
       "19          NaN       UNKNOWN  \n",
       "20          NaN       UNKNOWN  \n",
       "21          NaN       UNKNOWN  \n",
       "22          NaN       UNKNOWN  \n",
       "23          NaN       UNKNOWN  \n",
       "24          NaN       UNKNOWN  \n",
       "25          NaN       UNKNOWN  \n",
       "26          NaN       UNKNOWN  \n",
       "27          NaN       UNKNOWN  \n",
       "28          NaN       UNKNOWN  \n",
       "29          NaN       UNKNOWN  \n",
       "30          NaN       UNKNOWN  \n",
       "31          NaN       UNKNOWN  \n",
       "32          NaN       UNKNOWN  \n",
       "33          NaN       UNKNOWN  \n",
       "34          NaN       UNKNOWN  \n",
       "35          NaN       UNKNOWN  \n",
       "36          NaN       UNKNOWN  \n",
       "37          NaN       UNKNOWN  \n",
       "38          NaN       UNKNOWN  \n",
       "39          NaN       UNKNOWN  \n",
       "40          NaN       UNKNOWN  \n",
       "41          NaN       UNKNOWN  \n",
       "42          NaN       UNKNOWN  \n",
       "43          NaN       UNKNOWN  \n",
       "44          NaN       UNKNOWN  \n",
       "45          NaN       UNKNOWN  \n",
       "46          NaN       UNKNOWN  \n",
       "47          NaN       UNKNOWN  \n",
       "48          NaN       UNKNOWN  \n",
       "49          NaN       UNKNOWN  "
      ]
     },
     "execution_count": 3,
     "metadata": {},
     "output_type": "execute_result"
    }
   ],
   "source": [
    "bites.head(50)"
   ]
  },
  {
   "cell_type": "code",
   "execution_count": 4,
   "metadata": {},
   "outputs": [
    {
     "data": {
      "text/plain": [
       "(9003, 15)"
      ]
     },
     "execution_count": 4,
     "metadata": {},
     "output_type": "execute_result"
    }
   ],
   "source": [
    "bites.shape"
   ]
  },
  {
   "cell_type": "code",
   "execution_count": 5,
   "metadata": {},
   "outputs": [
    {
     "data": {
      "text/plain": [
       "Index(['bite_date', 'SpeciesIDDesc', 'BreedIDDesc', 'GenderIDDesc', 'color',\n",
       "       'vaccination_yrs', 'vaccination_date', 'victim_zip', 'AdvIssuedYNDesc',\n",
       "       'WhereBittenIDDesc', 'quarantine_date', 'DispositionIDDesc',\n",
       "       'head_sent_date', 'release_date', 'ResultsIDDesc'],\n",
       "      dtype='object')"
      ]
     },
     "execution_count": 5,
     "metadata": {},
     "output_type": "execute_result"
    }
   ],
   "source": [
    "bites.columns"
   ]
  },
  {
   "cell_type": "code",
   "execution_count": 6,
   "metadata": {},
   "outputs": [
    {
     "data": {
      "text/html": [
       "<div>\n",
       "<style scoped>\n",
       "    .dataframe tbody tr th:only-of-type {\n",
       "        vertical-align: middle;\n",
       "    }\n",
       "\n",
       "    .dataframe tbody tr th {\n",
       "        vertical-align: top;\n",
       "    }\n",
       "\n",
       "    .dataframe thead th {\n",
       "        text-align: right;\n",
       "    }\n",
       "</style>\n",
       "<table border=\"1\" class=\"dataframe\">\n",
       "  <thead>\n",
       "    <tr style=\"text-align: right;\">\n",
       "      <th></th>\n",
       "      <th>count</th>\n",
       "      <th>%</th>\n",
       "    </tr>\n",
       "  </thead>\n",
       "  <tbody>\n",
       "    <tr>\n",
       "      <th>head_sent_date</th>\n",
       "      <td>8608</td>\n",
       "      <td>95.612574</td>\n",
       "    </tr>\n",
       "    <tr>\n",
       "      <th>release_date</th>\n",
       "      <td>7558</td>\n",
       "      <td>83.949795</td>\n",
       "    </tr>\n",
       "    <tr>\n",
       "      <th>DispositionIDDesc</th>\n",
       "      <td>7468</td>\n",
       "      <td>82.950128</td>\n",
       "    </tr>\n",
       "    <tr>\n",
       "      <th>ResultsIDDesc</th>\n",
       "      <td>7460</td>\n",
       "      <td>82.861268</td>\n",
       "    </tr>\n",
       "    <tr>\n",
       "      <th>quarantine_date</th>\n",
       "      <td>6983</td>\n",
       "      <td>77.563035</td>\n",
       "    </tr>\n",
       "    <tr>\n",
       "      <th>AdvIssuedYNDesc</th>\n",
       "      <td>6438</td>\n",
       "      <td>71.509497</td>\n",
       "    </tr>\n",
       "    <tr>\n",
       "      <th>vaccination_yrs</th>\n",
       "      <td>5265</td>\n",
       "      <td>58.480506</td>\n",
       "    </tr>\n",
       "    <tr>\n",
       "      <th>BreedIDDesc</th>\n",
       "      <td>5244</td>\n",
       "      <td>58.247251</td>\n",
       "    </tr>\n",
       "    <tr>\n",
       "      <th>vaccination_date</th>\n",
       "      <td>4888</td>\n",
       "      <td>54.293013</td>\n",
       "    </tr>\n",
       "    <tr>\n",
       "      <th>color</th>\n",
       "      <td>2577</td>\n",
       "      <td>28.623792</td>\n",
       "    </tr>\n",
       "    <tr>\n",
       "      <th>GenderIDDesc</th>\n",
       "      <td>2526</td>\n",
       "      <td>28.057314</td>\n",
       "    </tr>\n",
       "    <tr>\n",
       "      <th>victim_zip</th>\n",
       "      <td>1838</td>\n",
       "      <td>20.415417</td>\n",
       "    </tr>\n",
       "    <tr>\n",
       "      <th>WhereBittenIDDesc</th>\n",
       "      <td>616</td>\n",
       "      <td>6.842164</td>\n",
       "    </tr>\n",
       "    <tr>\n",
       "      <th>bite_date</th>\n",
       "      <td>317</td>\n",
       "      <td>3.521049</td>\n",
       "    </tr>\n",
       "    <tr>\n",
       "      <th>SpeciesIDDesc</th>\n",
       "      <td>118</td>\n",
       "      <td>1.310674</td>\n",
       "    </tr>\n",
       "  </tbody>\n",
       "</table>\n",
       "</div>"
      ],
      "text/plain": [
       "                   count          %\n",
       "head_sent_date      8608  95.612574\n",
       "release_date        7558  83.949795\n",
       "DispositionIDDesc   7468  82.950128\n",
       "ResultsIDDesc       7460  82.861268\n",
       "quarantine_date     6983  77.563035\n",
       "AdvIssuedYNDesc     6438  71.509497\n",
       "vaccination_yrs     5265  58.480506\n",
       "BreedIDDesc         5244  58.247251\n",
       "vaccination_date    4888  54.293013\n",
       "color               2577  28.623792\n",
       "GenderIDDesc        2526  28.057314\n",
       "victim_zip          1838  20.415417\n",
       "WhereBittenIDDesc    616   6.842164\n",
       "bite_date            317   3.521049\n",
       "SpeciesIDDesc        118   1.310674"
      ]
     },
     "execution_count": 6,
     "metadata": {},
     "output_type": "execute_result"
    }
   ],
   "source": [
    "missing = pd.concat([bites.isnull().sum(), 100 * bites.isnull().mean()], axis=1)\n",
    "missing.columns=['count', '%']\n",
    "missing.sort_values(by='count', ascending=False)"
   ]
  },
  {
   "cell_type": "code",
   "execution_count": null,
   "metadata": {},
   "outputs": [],
   "source": []
  },
  {
   "cell_type": "code",
   "execution_count": 7,
   "metadata": {},
   "outputs": [
    {
     "data": {
      "text/plain": [
       "DOG        7029\n",
       "CAT        1568\n",
       "BAT         237\n",
       "NaN         118\n",
       "RACCOON      27\n",
       "OTHER        11\n",
       "HORSE         5\n",
       "FERRET        4\n",
       "RABBIT        3\n",
       "SKUNK         1\n",
       "Name: SpeciesIDDesc, dtype: int64"
      ]
     },
     "execution_count": 7,
     "metadata": {},
     "output_type": "execute_result"
    }
   ],
   "source": [
    "bites['SpeciesIDDesc'].value_counts(dropna=False)"
   ]
  },
  {
   "cell_type": "markdown",
   "metadata": {},
   "source": [
    "## Animal type/number of bites dependency"
   ]
  },
  {
   "cell_type": "code",
   "execution_count": 8,
   "metadata": {},
   "outputs": [
    {
     "data": {
      "text/plain": [
       "Text(0.5, 1.0, 'Animals type/number of bites')"
      ]
     },
     "execution_count": 8,
     "metadata": {},
     "output_type": "execute_result"
    },
    {
     "data": {
      "image/png": "[encoded data removed]",
      "text/plain": [
       "<Figure size 432x288 with 1 Axes>"
      ]
     },
     "metadata": {
      "needs_background": "light"
     },
     "output_type": "display_data"
    }
   ],
   "source": [
    "bites.SpeciesIDDesc.hist()\n",
    "plt.xlabel('Animal')\n",
    "plt.ylabel('count');\n",
    "plt.title('Animals type/number of bites')"
   ]
  },
  {
   "cell_type": "code",
   "execution_count": 9,
   "metadata": {},
   "outputs": [
    {
     "data": {
      "text/plain": [
       "MALE       3832\n",
       "NaN        2526\n",
       "FEMALE     2016\n",
       "UNKNOWN     629\n",
       "Name: GenderIDDesc, dtype: int64"
      ]
     },
     "execution_count": 9,
     "metadata": {},
     "output_type": "execute_result"
    }
   ],
   "source": [
    "bites['GenderIDDesc'].value_counts(dropna=False)"
   ]
  },
  {
   "cell_type": "code",
   "execution_count": 10,
   "metadata": {},
   "outputs": [
    {
     "name": "stdout",
     "output_type": "stream",
     "text": [
      "MALE      3832\n",
      "FEMALE    2016\n",
      "Name: GenderIDDesc, dtype: int64\n"
     ]
    },
    {
     "data": {
      "image/png": "[encoded data removed]",
      "text/plain": [
       "<Figure size 504x576 with 1 Axes>"
      ]
     },
     "metadata": {
      "needs_background": "light"
     },
     "output_type": "display_data"
    }
   ],
   "source": [
    "gender = ['MALE','FEMALE']\n",
    "count_gender = bites.GenderIDDesc.value_counts()\n",
    "plt.figure(figsize= (7,8))\n",
    "x = sns.barplot(x=gender, y= count_gender[0:2])\n",
    "plt.ylabel('Number of Bite ')\n",
    "plt.xticks(rotation = 20)\n",
    "plt.title('MALE VS FEMALE')\n",
    "print(count_gender[0:2])"
   ]
  },
  {
   "cell_type": "code",
   "execution_count": 11,
   "metadata": {},
   "outputs": [
    {
     "data": {
      "image/png": "[encoded data removed]",
      "text/plain": [
       "<Figure size 1440x576 with 1 Axes>"
      ]
     },
     "metadata": {},
     "output_type": "display_data"
    }
   ],
   "source": [
    "plt.figure(figsize= (20,8))\n",
    "\n",
    "count_gender.plot.pie(startangle=90, autopct='%1.1f%%')\n",
    "plt.show()\n"
   ]
  },
  {
   "cell_type": "code",
   "execution_count": 12,
   "metadata": {},
   "outputs": [],
   "source": [
    "df_filtered = bites[(bites.SpeciesIDDesc=='DOG') | (bites.SpeciesIDDesc=='CAT') | (bites.SpeciesIDDesc=='BAT')]"
   ]
  },
  {
   "cell_type": "code",
   "execution_count": 13,
   "metadata": {},
   "outputs": [
    {
     "data": {
      "text/plain": [
       "(8834, 15)"
      ]
     },
     "execution_count": 13,
     "metadata": {},
     "output_type": "execute_result"
    }
   ],
   "source": [
    "df_filtered.shape"
   ]
  },
  {
   "cell_type": "code",
   "execution_count": 14,
   "metadata": {},
   "outputs": [
    {
     "data": {
      "text/plain": [
       "Text(0.5, 1.0, 'Species by Gender')"
      ]
     },
     "execution_count": 14,
     "metadata": {},
     "output_type": "execute_result"
    },
    {
     "data": {
      "image/png": "[encoded data removed]",
      "text/plain": [
       "<Figure size 1152x864 with 1 Axes>"
      ]
     },
     "metadata": {
      "needs_background": "light"
     },
     "output_type": "display_data"
    }
   ],
   "source": [
    "fig = plt.figure(figsize=(16,12))\n",
    "\n",
    "ax1 = fig.add_subplot(221)\n",
    "colors = [\"orange\", \"red\",\"green\"]\n",
    "\n",
    "animals_by_gender = df_filtered.groupby(['GenderIDDesc', 'SpeciesIDDesc' ]).size()\n",
    "animals_by_gender.unstack().plot(kind='bar', stacked=False, ax=ax1, grid=False, color=colors)\n",
    "ax1.set_title('Species by Gender', fontsize=14)\n"
   ]
  },
  {
   "cell_type": "code",
   "execution_count": 15,
   "metadata": {},
   "outputs": [
    {
     "data": {
      "text/plain": [
       "[Text(0, 0, 'Dogs'), Text(0, 0, 'Cats'), Text(0, 0, 'Bats')]"
      ]
     },
     "execution_count": 15,
     "metadata": {},
     "output_type": "execute_result"
    },
    {
     "data": {
      "image/png": "[encoded data removed]",
      "text/plain": [
       "<Figure size 1152x576 with 2 Axes>"
      ]
     },
     "metadata": {
      "needs_background": "light"
     },
     "output_type": "display_data"
    }
   ],
   "source": [
    "f, ax = plt.subplots(1,2, figsize=(16,8))\n",
    "\n",
    "colors = [\"green\", \"red\", \"orange\"]\n",
    "labels =\"Dogs\", \"Cats\", \"Bats\"\n",
    "\n",
    "plt.suptitle('Comparison chart', fontsize=20)\n",
    "\n",
    "df_filtered[\"SpeciesIDDesc\"].value_counts().plot.pie(explode=[0,0.25,0.5], autopct='%1.2f%%', ax=ax[0], shadow=True, colors=colors, \n",
    "                                             labels=labels, fontsize=12, startangle=70)\n",
    "\n",
    "\n",
    "ax[0].set_title('Animal types in %', fontsize=16)\n",
    "ax[0].set_ylabel('Count', fontsize=14)\n",
    "\n",
    "palette = [\"green\", \"red\", \"orange\"]\n",
    "sns.countplot('SpeciesIDDesc', data=df_filtered, ax=ax[1], palette=colors)\n",
    "ax[1].set_title('Animals count records', fontsize=20)\n",
    "ax[1].set_xticklabels(['Dogs', 'Cats', 'Bats'], rotation='horizontal')\n",
    "\n"
   ]
  },
  {
   "cell_type": "markdown",
   "metadata": {},
   "source": [
    "#### The maximum number of bites per day is 13."
   ]
  },
  {
   "cell_type": "code",
   "execution_count": 16,
   "metadata": {
    "scrolled": true
   },
   "outputs": [
    {
     "data": {
      "text/plain": [
       "NaN                    291\n",
       "2017-08-15 00:00:00     13\n",
       "2015-03-17 00:00:00     12\n",
       "2010-04-01 00:00:00     12\n",
       "2014-04-26 00:00:00     12\n",
       "                      ... \n",
       "2012-05-27 00:00:00      1\n",
       "2016-03-23 00:00:00      1\n",
       "2015-01-13 00:00:00      1\n",
       "1990-02-08 00:00:00      1\n",
       "2010-04-24 00:00:00      1\n",
       "Name: bite_date, Length: 2698, dtype: int64"
      ]
     },
     "execution_count": 16,
     "metadata": {},
     "output_type": "execute_result"
    }
   ],
   "source": [
    "df_filtered['bite_date'].value_counts(dropna=False)"
   ]
  },
  {
   "cell_type": "code",
   "execution_count": 17,
   "metadata": {},
   "outputs": [],
   "source": [
    "df_filtered = df_filtered[df_filtered['bite_date'].notna()]\n",
    "\n",
    "df_filtered['year'] = df_filtered.bite_date.str[:4]\n"
   ]
  },
  {
   "cell_type": "code",
   "execution_count": 18,
   "metadata": {},
   "outputs": [],
   "source": [
    "df_filtered['year'] = pd.to_numeric(df_filtered['year'])"
   ]
  },
  {
   "cell_type": "markdown",
   "metadata": {},
   "source": [
    "### Statistics for the number of bites per species per year"
   ]
  },
  {
   "cell_type": "markdown",
   "metadata": {},
   "source": [
    "#### Statistics for the number of bites per species per year (for all years)"
   ]
  },
  {
   "cell_type": "code",
   "execution_count": 19,
   "metadata": {
    "scrolled": true
   },
   "outputs": [
    {
     "data": {
      "text/plain": [
       "year  SpeciesIDDesc\n",
       "1952  DOG                2\n",
       "1985  DOG                1\n",
       "1986  DOG                1\n",
       "1987  DOG                1\n",
       "1988  DOG                1\n",
       "1989  DOG                2\n",
       "1990  DOG                6\n",
       "1991  DOG                5\n",
       "1992  DOG                9\n",
       "      CAT                1\n",
       "1993  DOG                5\n",
       "      CAT                1\n",
       "1994  DOG                7\n",
       "1995  DOG                1\n",
       "1999  DOG                1\n",
       "2001  DOG                1\n",
       "2002  DOG                1\n",
       "2007  CAT                1\n",
       "2009  DOG               12\n",
       "      CAT                2\n",
       "2010  DOG              892\n",
       "      CAT              224\n",
       "      BAT               10\n",
       "2011  DOG              907\n",
       "      CAT              216\n",
       "      BAT               11\n",
       "2012  DOG              930\n",
       "      CAT              200\n",
       "2013  DOG              903\n",
       "      CAT              223\n",
       "      BAT                5\n",
       "2014  DOG              942\n",
       "      CAT              203\n",
       "      BAT                6\n",
       "2015  DOG              790\n",
       "      CAT              176\n",
       "      BAT                8\n",
       "2016  DOG              850\n",
       "      CAT              168\n",
       "      BAT               22\n",
       "2017  DOG              657\n",
       "      CAT              117\n",
       "      BAT               14\n",
       "2018  DOG                1\n",
       "2020  CAT                1\n",
       "2021  DOG                1\n",
       "2101  CAT                1\n",
       "2201  DOG                2\n",
       "      CAT                1\n",
       "5013  DOG                1\n",
       "Name: SpeciesIDDesc, dtype: int64"
      ]
     },
     "execution_count": 19,
     "metadata": {},
     "output_type": "execute_result"
    }
   ],
   "source": [
    "df_filtered.groupby('year')['SpeciesIDDesc'].value_counts()"
   ]
  },
  {
   "cell_type": "code",
   "execution_count": 20,
   "metadata": {},
   "outputs": [],
   "source": [
    "df_filtered = df_filtered[(df_filtered.year>2009) & (df_filtered.year<2018)]"
   ]
  },
  {
   "cell_type": "markdown",
   "metadata": {},
   "source": [
    "### Statistics for the number of bites per species per year (2010 - 2017)"
   ]
  },
  {
   "cell_type": "code",
   "execution_count": 21,
   "metadata": {},
   "outputs": [
    {
     "data": {
      "text/plain": [
       "year  SpeciesIDDesc\n",
       "2010  DOG              892\n",
       "      CAT              224\n",
       "      BAT               10\n",
       "2011  DOG              907\n",
       "      CAT              216\n",
       "      BAT               11\n",
       "2012  DOG              930\n",
       "      CAT              200\n",
       "2013  DOG              903\n",
       "      CAT              223\n",
       "      BAT                5\n",
       "2014  DOG              942\n",
       "      CAT              203\n",
       "      BAT                6\n",
       "2015  DOG              790\n",
       "      CAT              176\n",
       "      BAT                8\n",
       "2016  DOG              850\n",
       "      CAT              168\n",
       "      BAT               22\n",
       "2017  DOG              657\n",
       "      CAT              117\n",
       "      BAT               14\n",
       "Name: SpeciesIDDesc, dtype: int64"
      ]
     },
     "execution_count": 21,
     "metadata": {},
     "output_type": "execute_result"
    }
   ],
   "source": [
    "bitesBySpeciesByYear = df_filtered.groupby('year')['SpeciesIDDesc'].value_counts()\n",
    "bitesBySpeciesByYear"
   ]
  },
  {
   "cell_type": "code",
   "execution_count": 22,
   "metadata": {},
   "outputs": [
    {
     "data": {
      "text/plain": [
       "Text(0, 0.5, 'Number of bites')"
      ]
     },
     "execution_count": 22,
     "metadata": {},
     "output_type": "execute_result"
    },
    {
     "data": {
      "image/png": "[encoded data removed]",
      "text/plain": [
       "<Figure size 1152x864 with 1 Axes>"
      ]
     },
     "metadata": {
      "needs_background": "light"
     },
     "output_type": "display_data"
    }
   ],
   "source": [
    "fig = plt.figure(figsize=(16,12))\n",
    "\n",
    "ax1 = fig.add_subplot(221)\n",
    "\n",
    "cmap = plt.cm.coolwarm_r\n",
    "\n",
    "\n",
    "bitesBySpeciesByYear.unstack().plot(ax=ax1, colormap=cmap)\n",
    "\n",
    "ax1.set_title('Number of bites by Species by year', fontsize=14)\n",
    "ax1.set_ylabel('Number of bites', fontsize=12)"
   ]
  },
  {
   "cell_type": "code",
   "execution_count": 23,
   "metadata": {},
   "outputs": [
    {
     "data": {
      "text/plain": [
       "Text(0, 0.5, 'Species by year')"
      ]
     },
     "execution_count": 23,
     "metadata": {},
     "output_type": "execute_result"
    },
    {
     "data": {
      "image/png": "[encoded data removed]",
      "text/plain": [
       "<Figure size 1080x576 with 1 Axes>"
      ]
     },
     "metadata": {
      "needs_background": "light"
     },
     "output_type": "display_data"
    }
   ],
   "source": [
    "plt.figure(figsize=(15,8))\n",
    "\n",
    "ax = sns.barplot(x=bitesBySpeciesByYear[0:25],y=bitesBySpeciesByYear[0:25].index)\n",
    "plt.xticks(rotation=20)\n",
    "ax.set_title('Number of bites by Species by year', fontsize=14)\n",
    "ax.set_xlabel('Number of bites', fontsize=12)\n",
    "ax.set_ylabel('Species by year', fontsize=12)\n"
   ]
  },
  {
   "cell_type": "markdown",
   "metadata": {},
   "source": [
    "## Statistics for the number of bites per species per month"
   ]
  },
  {
   "cell_type": "code",
   "execution_count": 24,
   "metadata": {},
   "outputs": [],
   "source": [
    "def animal_month(animal,data):\n",
    "    month_list= ['01','02','03','04','05','06','07','08','09','10','11','12']\n",
    "\n",
    "    numberOfAnimal = []\n",
    "    for i in month_list:\n",
    "        x = df_filtered.loc[(df_filtered['SpeciesIDDesc']==animal)&(df_filtered['bite_date'].str.split('-').str[1]==i)]\n",
    "        numberOfAnimal.append(len(x))\n",
    "    ax = sns.barplot(x=month_list,y=numberOfAnimal,palette  = \"Greens\")\n",
    "    plt.title(animal + ' bite for 12 month')"
   ]
  },
  {
   "cell_type": "code",
   "execution_count": 25,
   "metadata": {},
   "outputs": [
    {
     "data": {
      "image/png": "[encoded data removed]",
      "text/plain": [
       "<Figure size 432x288 with 1 Axes>"
      ]
     },
     "metadata": {
      "needs_background": "light"
     },
     "output_type": "display_data"
    }
   ],
   "source": [
    "animal_month('DOG',df_filtered)"
   ]
  },
  {
   "cell_type": "code",
   "execution_count": 26,
   "metadata": {},
   "outputs": [
    {
     "data": {
      "image/png": "[encoded data removed]",
      "text/plain": [
       "<Figure size 432x288 with 1 Axes>"
      ]
     },
     "metadata": {
      "needs_background": "light"
     },
     "output_type": "display_data"
    }
   ],
   "source": [
    "animal_month('BAT',df_filtered)"
   ]
  },
  {
   "cell_type": "code",
   "execution_count": 27,
   "metadata": {},
   "outputs": [
    {
     "data": {
      "image/png": "[encoded data removed]",
      "text/plain": [
       "<Figure size 432x288 with 1 Axes>"
      ]
     },
     "metadata": {
      "needs_background": "light"
     },
     "output_type": "display_data"
    }
   ],
   "source": [
    "animal_month('CAT',df_filtered)"
   ]
  },
  {
   "cell_type": "markdown",
   "metadata": {},
   "source": [
    "Although the cat breeding season lasts almost year-round the heat cycle tends to last from spring to fall usually starts on March. It can explain why the peak of cats bites is in June and the almost the similar number of female cats bites - kittens."
   ]
  },
  {
   "cell_type": "markdown",
   "metadata": {},
   "source": [
    "### Statistics for the number of bites depending on the breed"
   ]
  },
  {
   "cell_type": "code",
   "execution_count": 28,
   "metadata": {},
   "outputs": [
    {
     "data": {
      "text/plain": [
       "NaN                5244\n",
       "PIT BULL           1102\n",
       "GERM SHEPHERD       327\n",
       "LABRADOR RETRIV     253\n",
       "BOXER               181\n",
       "                   ... \n",
       "OLD ENG SHP DOG       1\n",
       "AMER FOX HOUND        1\n",
       "CHOCOLATE LAB.        1\n",
       "WEINER DOG            1\n",
       "BEARDED COLLIE        1\n",
       "Name: BreedIDDesc, Length: 102, dtype: int64"
      ]
     },
     "execution_count": 28,
     "metadata": {},
     "output_type": "execute_result"
    }
   ],
   "source": [
    "count = bites['BreedIDDesc'].value_counts(dropna=False)\n",
    "count"
   ]
  },
  {
   "cell_type": "code",
   "execution_count": 29,
   "metadata": {},
   "outputs": [
    {
     "name": "stdout",
     "output_type": "stream",
     "text": [
      "Index([              nan,        'PIT BULL',   'GERM SHEPHERD',\n",
      "       'LABRADOR RETRIV',           'BOXER',      'CHICHAUHUA',\n",
      "              'SHIH TZU',          'BEAGLE',      'ROTTWEILER',\n",
      "          'AAUST. TERR.'],\n",
      "      dtype='object')\n"
     ]
    },
    {
     "data": {
      "image/png": "[encoded data removed]",
      "text/plain": [
       "<Figure size 720x576 with 1 Axes>"
      ]
     },
     "metadata": {
      "needs_background": "light"
     },
     "output_type": "display_data"
    }
   ],
   "source": [
    "plt.figure(figsize=(10,8))\n",
    "ax = sns.barplot(x=count[0:10].index,y=count[0:10])\n",
    "plt.xticks(rotation=20)\n",
    "plt.ylabel(\"Number of Bite\")\n",
    "\n",
    "print(count[0:10].index)"
   ]
  },
  {
   "cell_type": "code",
   "execution_count": 30,
   "metadata": {},
   "outputs": [
    {
     "data": {
      "image/png": "[encoded data removed]",
      "text/plain": [
       "<Figure size 1440x576 with 1 Axes>"
      ]
     },
     "metadata": {},
     "output_type": "display_data"
    }
   ],
   "source": [
    "plt.figure(figsize= (20,8))\n",
    "\n",
    "count[1:10].plot.pie(startangle=90, autopct='%1.1f%%')\n",
    "plt.show()\n"
   ]
  },
  {
   "cell_type": "code",
   "execution_count": 31,
   "metadata": {},
   "outputs": [
    {
     "data": {
      "text/plain": [
       "BODY       6213\n",
       "HEAD       1244\n",
       "UNKNOWN     930\n",
       "NaN         616\n",
       "Name: WhereBittenIDDesc, dtype: int64"
      ]
     },
     "execution_count": 31,
     "metadata": {},
     "output_type": "execute_result"
    }
   ],
   "source": [
    "bites['WhereBittenIDDesc'].value_counts(dropna=False)"
   ]
  },
  {
   "cell_type": "code",
   "execution_count": 32,
   "metadata": {},
   "outputs": [
    {
     "data": {
      "image/png": "[encoded data removed]",
      "text/plain": [
       "<Figure size 1440x576 with 1 Axes>"
      ]
     },
     "metadata": {},
     "output_type": "display_data"
    }
   ],
   "source": [
    "plt.figure(figsize= (20,8))\n",
    "\n",
    "colors = [\"green\", \"lime\",\"red\", \"orange\"]\n",
    "\n",
    "bites['WhereBittenIDDesc'].value_counts(dropna=False).plot.pie(startangle=90, autopct='%1.1f%%', colors=colors)\n",
    "plt.show()\n"
   ]
  },
  {
   "cell_type": "markdown",
   "metadata": {},
   "source": [
    "### How many years had passed since the last vaccination"
   ]
  },
  {
   "cell_type": "code",
   "execution_count": 33,
   "metadata": {},
   "outputs": [
    {
     "data": {
      "text/html": [
       "<div>\n",
       "<style scoped>\n",
       "    .dataframe tbody tr th:only-of-type {\n",
       "        vertical-align: middle;\n",
       "    }\n",
       "\n",
       "    .dataframe tbody tr th {\n",
       "        vertical-align: top;\n",
       "    }\n",
       "\n",
       "    .dataframe thead th {\n",
       "        text-align: right;\n",
       "    }\n",
       "</style>\n",
       "<table border=\"1\" class=\"dataframe\">\n",
       "  <thead>\n",
       "    <tr style=\"text-align: right;\">\n",
       "      <th></th>\n",
       "      <th>count</th>\n",
       "      <th>mean</th>\n",
       "      <th>std</th>\n",
       "      <th>min</th>\n",
       "      <th>25%</th>\n",
       "      <th>50%</th>\n",
       "      <th>75%</th>\n",
       "      <th>max</th>\n",
       "    </tr>\n",
       "  </thead>\n",
       "  <tbody>\n",
       "    <tr>\n",
       "      <th>vaccination_yrs</th>\n",
       "      <td>3738.0</td>\n",
       "      <td>1.452113</td>\n",
       "      <td>0.848416</td>\n",
       "      <td>1.0</td>\n",
       "      <td>1.0</td>\n",
       "      <td>1.0</td>\n",
       "      <td>1.0</td>\n",
       "      <td>11.0</td>\n",
       "    </tr>\n",
       "  </tbody>\n",
       "</table>\n",
       "</div>"
      ],
      "text/plain": [
       "                  count      mean       std  min  25%  50%  75%   max\n",
       "vaccination_yrs  3738.0  1.452113  0.848416  1.0  1.0  1.0  1.0  11.0"
      ]
     },
     "execution_count": 33,
     "metadata": {},
     "output_type": "execute_result"
    }
   ],
   "source": [
    "bites.describe().T"
   ]
  },
  {
   "cell_type": "code",
   "execution_count": 34,
   "metadata": {},
   "outputs": [
    {
     "data": {
      "text/plain": [
       "NaN     5265\n",
       "1.0     2894\n",
       "3.0      837\n",
       "2.0        6\n",
       "11.0       1\n",
       "Name: vaccination_yrs, dtype: int64"
      ]
     },
     "execution_count": 34,
     "metadata": {},
     "output_type": "execute_result"
    }
   ],
   "source": [
    "bites.vaccination_yrs.value_counts(dropna=False)"
   ]
  },
  {
   "cell_type": "markdown",
   "metadata": {},
   "source": [
    "** The rabies vaccine is highly effective, which is important in our area where there is a threat of rabies from wildlife. Your dog's first rabies vaccination is good for one year and subsequent vaccinations last three years"
   ]
  },
  {
   "cell_type": "markdown",
   "metadata": {},
   "source": [
    "## Results from lab tests (for rabies)"
   ]
  },
  {
   "cell_type": "code",
   "execution_count": 35,
   "metadata": {},
   "outputs": [
    {
     "data": {
      "text/plain": [
       "UNKNOWN     1240\n",
       "NEGATIVE     299\n",
       "POSITIVE       4\n",
       "Name: ResultsIDDesc, dtype: int64"
      ]
     },
     "execution_count": 35,
     "metadata": {},
     "output_type": "execute_result"
    }
   ],
   "source": [
    "testResults = bites.ResultsIDDesc.dropna().value_counts()\n",
    "testResults"
   ]
  },
  {
   "cell_type": "code",
   "execution_count": 36,
   "metadata": {},
   "outputs": [
    {
     "data": {
      "text/plain": [
       "Text(0.5, 1.0, 'Results from lab tests (for rabies)')"
      ]
     },
     "execution_count": 36,
     "metadata": {},
     "output_type": "execute_result"
    },
    {
     "data": {
      "image/png": "[encoded data removed]",
      "text/plain": [
       "<Figure size 1152x576 with 2 Axes>"
      ]
     },
     "metadata": {},
     "output_type": "display_data"
    }
   ],
   "source": [
    "f, ax = plt.subplots(1, 2, figsize=(16,8))\n",
    "\n",
    "#plt.subplot(1, 1, 1)\n",
    "\n",
    "testResults.plot.pie(startangle=90, autopct='%1.1f%%',ax=ax[0])\n",
    "ax[0].set_title('Results from lab tests (for rabies incl Unknown))', fontsize=16)\n",
    "\n",
    "\n",
    "#plt.subplot(1, 2, 2)\n",
    "testResults[1:].plot.pie(startangle=90, autopct='%1.1f%%', ax=ax[1])\n",
    "ax[1].set_title('Results from lab tests (for rabies)', fontsize=16)\n",
    "\n",
    "\n"
   ]
  },
  {
   "cell_type": "markdown",
   "metadata": {},
   "source": [
    "### What factors are most strongly associated with a positive rabies"
   ]
  },
  {
   "cell_type": "code",
   "execution_count": 37,
   "metadata": {},
   "outputs": [],
   "source": [
    "results = bites[(bites.ResultsIDDesc=='NEGATIVE') | (bites.ResultsIDDesc=='POSITIVE')]\n"
   ]
  },
  {
   "cell_type": "code",
   "execution_count": 38,
   "metadata": {},
   "outputs": [
    {
     "data": {
      "text/plain": [
       "(303, 15)"
      ]
     },
     "execution_count": 38,
     "metadata": {},
     "output_type": "execute_result"
    }
   ],
   "source": [
    "results.shape"
   ]
  },
  {
   "cell_type": "code",
   "execution_count": 39,
   "metadata": {},
   "outputs": [
    {
     "data": {
      "text/plain": [
       "ResultsIDDesc  vaccination_yrs\n",
       "NEGATIVE       3.0                2\n",
       "Name: vaccination_yrs, dtype: int64"
      ]
     },
     "execution_count": 39,
     "metadata": {},
     "output_type": "execute_result"
    }
   ],
   "source": [
    "results.groupby('ResultsIDDesc')['vaccination_yrs'].value_counts()"
   ]
  },
  {
   "cell_type": "code",
   "execution_count": 40,
   "metadata": {},
   "outputs": [
    {
     "data": {
      "text/plain": [
       "3.0    2\n",
       "Name: vaccination_yrs, dtype: int64"
      ]
     },
     "execution_count": 40,
     "metadata": {},
     "output_type": "execute_result"
    }
   ],
   "source": [
    "results.vaccination_yrs.value_counts()"
   ]
  },
  {
   "cell_type": "code",
   "execution_count": 41,
   "metadata": {},
   "outputs": [
    {
     "data": {
      "text/plain": [
       "Text(0.5, 1.0, 'Positive test result/ number of years passed since last vaccination')"
      ]
     },
     "execution_count": 41,
     "metadata": {},
     "output_type": "execute_result"
    },
    {
     "data": {
      "image/png": "[encoded data removed]",
      "text/plain": [
       "<Figure size 1152x864 with 1 Axes>"
      ]
     },
     "metadata": {
      "needs_background": "light"
     },
     "output_type": "display_data"
    }
   ],
   "source": [
    "fig = plt.figure(figsize=(16,12))\n",
    "\n",
    "ax1 = fig.add_subplot(221)\n",
    "colors = [\"orange\", \"red\",\"green\"]\n",
    "\n",
    "testResByVac = bites.groupby(['ResultsIDDesc','vaccination_yrs']).size()\n",
    "testResByVac.unstack().plot(kind='bar', stacked=False, ax=ax1, grid=False)\n",
    "ax1.set_title('Positive test result/ number of years passed since last vaccination', fontsize=18)\n"
   ]
  },
  {
   "cell_type": "markdown",
   "metadata": {},
   "source": [
    "* Which animals are most likely to bite humans? \n",
    "You are more likely to be bitten by a dogs\n",
    "\n",
    "* Are some dog breeds more likely to bite? \n",
    "The most agressive bread is pit bull\n",
    "\n",
    "* Male Vs. Female. Who is more aggressive? Does it depend on which animal?\n",
    "Generally male animals are more aggressive than female. But we could see the data that female cats could very protective\n",
    "\n",
    "* Is there any dependencies on the time of the yeat to be bitten by an animal?\n",
    "summer months\n",
    "\n",
    "* What factors are most strongly associated with a positive rabies test result?"
   ]
  },
  {
   "cell_type": "markdown",
   "metadata": {},
   "source": [
    "##### Unfortunately based on the given dataset I am not able to support my theory that rabies negative result depeds on number of years passed after the last vaccination"
   ]
  },
  {
   "cell_type": "code",
   "execution_count": null,
   "metadata": {},
   "outputs": [],
   "source": []
  }
 ],
 "metadata": {
  "kernelspec": {
   "display_name": "Python 3",
   "language": "python",
   "name": "python3"
  },
  "language_info": {
   "codemirror_mode": {
    "name": "ipython",
    "version": 3
   },
   "file_extension": ".py",
   "mimetype": "text/x-python",
   "name": "python",
   "nbconvert_exporter": "python",
   "pygments_lexer": "ipython3",
   "version": "3.8.3"
  }
 },
 "nbformat": 4,
 "nbformat_minor": 4
}
